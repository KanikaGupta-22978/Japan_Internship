{
 "cells": [
  {
   "cell_type": "markdown",
   "id": "5f87dc1a-c628-406e-bbbc-10f49ff20040",
   "metadata": {},
   "source": [
    "# Visualize Notebook"
   ]
  },
  {
   "cell_type": "markdown",
   "id": "93ba37cf-114f-4f4e-a336-4e65ab889f84",
   "metadata": {},
   "source": [
    "## Load libraries, configuration"
   ]
  },
  {
   "cell_type": "code",
   "execution_count": null,
   "id": "4a956793-0b89-4f6f-ac6e-90218cd584d0",
   "metadata": {},
   "outputs": [],
   "source": [
    "import os\n",
    "import json\n",
    "from datetime import datetime\n",
    "\n",
    "import IPython\n",
    "import IPython.display\n",
    "import matplotlib as mpl\n",
    "import matplotlib.pyplot as plt\n",
    "\n",
    "from pandas import read_csv\n",
    "import numpy as np\n",
    "import pandas as pd\n",
    "import seaborn as sns\n",
    "import tensorflow as tf\n",
    "from keras import backend as K\n",
    "from sklearn.preprocessing import MinMaxScaler\n",
    "\n",
    "from sklearn.metrics import ConfusionMatrixDisplay\n",
    "from sklearn.metrics import confusion_matrix\n",
    "from sklearn.metrics import classification_report\n",
    "\n",
    "mpl.rcParams['figure.figsize'] = (25,10)\n",
    "mpl.rcParams['axes.grid'] = False\n",
    "np.random.seed(0)"
   ]
  },
  {
   "cell_type": "code",
   "execution_count": null,
   "id": "378e1b38-dde9-4511-b42f-754ef7be2f0b",
   "metadata": {},
   "outputs": [],
   "source": [
    "user = 'participant13'\n",
    "interval = '15min'\n",
    "\n",
    "columns = [ 'timestamp', 'heart_rate', 'steps', 'stress_score',\n",
    "            'awake', 'deep', 'light', 'rem', \n",
    "           'nonrem_total', 'total', 'nonrem_percentage', 'sleep_efficiency']\n",
    "\n",
    "# Include FonLog data\n",
    "# columns += ['time_from_last_drug_taken'] #, 'wo_duration']\n",
    "\n",
    "# Additional data\n",
    "columns += ['timestamp_dayofweek', 'timestamp_hour_sin', 'timestamp_hour_cos']\n",
    "\n",
    "# 'wearing_off' | 'wearing_off_post_meds' | 'wearing_off_lead60'\n",
    "target_column = 'wearing_off' \n",
    "columns.append(target_column)\n",
    "\n",
    "participant_dictionary = json.load(open(f'./data/participant_dictionary.json'))"
   ]
  },
  {
   "cell_type": "code",
   "execution_count": null,
   "id": "ebab26cb-67c2-42b5-90ae-56d22d832e75",
   "metadata": {},
   "outputs": [],
   "source": [
    "# train size moving window\n",
    "class WindowTimeSeriesSplit():\n",
    "    def __init__(self, train_size, test_size, is_expanding=False):\n",
    "        self.train_size = train_size\n",
    "        self.test_size = test_size\n",
    "        self.is_expanding = is_expanding\n",
    "    \n",
    "    def get_n_splits(self, X, y, groups):\n",
    "        n_splits = 0\n",
    "        \n",
    "        n_records = int(len(X))\n",
    "        indices = np.arange(n_records)\n",
    "\n",
    "        margin = 0 # Gap between train and test data\n",
    "        start = 0\n",
    "        mid = None\n",
    "        stop = None\n",
    "        while True:\n",
    "            if mid is None:\n",
    "                mid = start + self.train_size\n",
    "            elif mid is not None:\n",
    "                if self.is_expanding:\n",
    "                    start = 0\n",
    "                else:\n",
    "                    start = mid\n",
    "                mid = mid + self.train_size                \n",
    "            stop = mid + self.test_size\n",
    "            if start >= n_records or mid >= n_records or stop > n_records:\n",
    "                break\n",
    "            else:\n",
    "                n_splits += 1\n",
    "        return n_splits\n",
    "    \n",
    "    def split(self, X, y=None, groups=None):\n",
    "        n_records = int(len(X))\n",
    "        indices = np.arange(n_records)\n",
    "\n",
    "        margin = 0 # Gap between train and test data\n",
    "        start = 0\n",
    "        mid = None\n",
    "        stop = None\n",
    "        while True:\n",
    "            if mid is None:\n",
    "                mid = start + self.train_size\n",
    "            elif mid is not None:\n",
    "                if self.is_expanding:\n",
    "                    start = 0\n",
    "                else:\n",
    "                    start = mid\n",
    "                mid = mid + self.train_size                \n",
    "            stop = mid + self.test_size\n",
    "            if start >= n_records or mid >= n_records or stop > n_records:\n",
    "                break\n",
    "            else:\n",
    "                print(start, mid, stop)\n",
    "                yield indices[start: mid], indices[mid + margin: stop]\n",
    "                \n",
    "def plot_cv_indices(cv, X, y, ax, n_splits=0, lw=20):\n",
    "    \"\"\"Create a sample plot for indices of a cross-validation object.\"\"\"\n",
    "\n",
    "    # Generate the training/testing visualizations for each CV split\n",
    "    for ii, (tr, tt) in enumerate(cv.split(X=X, y=y)):\n",
    "        # Fill in indices with the training/test groups\n",
    "        indices = np.array([np.nan] * len(X))\n",
    "        indices[tt] = 1\n",
    "        indices[tr] = 0\n",
    "\n",
    "        # Visualize the results\n",
    "        ax.scatter(range(len(indices)), [ii + .5] * len(indices),\n",
    "                    c=indices, marker='_', lw=lw, cmap=plt.cm.coolwarm,\n",
    "                    vmin=-.2, vmax=1.2)\n",
    "\n",
    "    n_splits = ii + 1\n",
    "\n",
    "    # Plot the data classes and groups at the end\n",
    "    ax.scatter(range(len(X)), [ii + 1.5] * len(X), c=y, marker='_', lw=lw, cmap=plt.cm.Paired)\n",
    "\n",
    "    # Formatting\n",
    "    yticklabels = list(range(n_splits)) + ['wearing-off']\n",
    "    ax.set(yticks=np.arange(n_splits+1) + .5, yticklabels=yticklabels,\n",
    "           xlabel='Records\\'s Index', ylabel=\"Folds\",\n",
    "           ylim=[n_splits+1.2, -.2], xlim=[0, len(X)])\n",
    "    ax.set_title('{}'.format(type(cv).__name__), fontsize=15)\n",
    "    return ax\n",
    "\n",
    "def visualize_wearing_offs(df):\n",
    "    # Fix timestamp format\n",
    "    date_time = pd.to_datetime(df.index, format='%d.%m.%Y %H:%M:%S')\n",
    "    \n",
    "    # plot_cols = df.columns\n",
    "    plot_cols = list(df.columns[0:11]) + ['wearing_off']\n",
    "    \n",
    "    plot_features = df[plot_cols]\n",
    "    plot_features.index = date_time\n",
    "    i = 1\n",
    "    # plot each column\n",
    "    plt.clf()\n",
    "    plt.figure(figsize=(25,10))\n",
    "    for group in plot_cols:\n",
    "        if group == 'wearing_off':\n",
    "            continue\n",
    "        ax = plt.subplot(len(plot_cols), 1, i)\n",
    "        plt.fill_between(\n",
    "            plot_features.index, 0, plot_features.loc[:, [group]].max(), where=plot_features.wearing_off, alpha=0.4, color=\"red\", transform=ax.get_xaxis_transform()\n",
    "        )\n",
    "        plt.plot(plot_features.loc[:, [group]])\n",
    "        plt.title(group, y=0.5, loc='right')\n",
    "        # plt.ylabel(\"LABEL\")\n",
    "        i += 1\n",
    "    # plt.suptitle(f'Input features with wearing-off periods for Participant {user.replace(\"participant\", \"\")}')\n",
    "    plt.suptitle(f'Input features with wearing-off periods for Device #15')\n",
    "    plt.savefig(f'./results/{user}_wearing_off.jpg')\n",
    "    plt.show()\n",
    "    \n",
    "def visualize_cv_split(cv, df, save_to_path=None):\n",
    "    cmap_data = plt.cm.Paired\n",
    "    cmap_cv = plt.cm.coolwarm\n",
    "    fig, ax = plt.subplots(figsize=(20,10))\n",
    "    # outer cv\n",
    "    plot_cv_indices(cv, df.iloc[:, 0:-1].values, df.iloc[:, -1:].values, ax)\n",
    "    plt.rc('text') # , usetex=False)\n",
    "    plt.rc('font', family='serif')\n",
    "    plt.title('Walk Forward Validation')\n",
    "    if save_to_path:\n",
    "        plt.savefig('./cv_split.pdf', bbox_inches='tight')\n",
    "    plt.show()"
   ]
  },
  {
   "cell_type": "markdown",
   "id": "5ea06db0-e747-4a3b-ac19-513e40104faf",
   "metadata": {},
   "source": [
    "## Load & Process data"
   ]
  },
  {
   "cell_type": "code",
   "execution_count": null,
   "id": "aac529e4-f1c3-4a5b-bb50-900c981091fb",
   "metadata": {},
   "outputs": [],
   "source": [
    "dataset = pd.read_excel(f'./data/4-combined_data_{user}_{interval}.xlsx',\n",
    "                              index_col=\"timestamp\",\n",
    "                              usecols=columns,\n",
    "                              engine='openpyxl')\n",
    "# Fill missing data with 0\n",
    "dataset.fillna(0, inplace=True)\n",
    "\n",
    "# Filter data based on participants' dictionary\n",
    "dataset = dataset.loc[\n",
    "    (dataset.index >= participant_dictionary[user]['start_date']) &\n",
    "    (dataset.index < participant_dictionary[user]['end_date_plus_two'])\n",
    "]\n",
    "\n",
    "df = dataset.copy()"
   ]
  },
  {
   "cell_type": "markdown",
   "id": "2121da73-ccfb-44ed-af28-2130415988d4",
   "metadata": {
    "jp-MarkdownHeadingCollapsed": true,
    "tags": []
   },
   "source": [
    "## Slice to get hourly data"
   ]
  },
  {
   "cell_type": "code",
   "execution_count": null,
   "id": "482c8f55-468a-40f6-8741-b7706d17cec0",
   "metadata": {},
   "outputs": [],
   "source": [
    "# Slice [start:stop:step], starting from index 0, take every 4 record\n",
    "# Take every hour record only\n",
    "df = dataset[::4].copy() \n",
    "\n",
    "# Fix columns arrangement\n",
    "df = df.reindex(columns=columns[1:])\n",
    "\n",
    "record_size_per_day = 24"
   ]
  },
  {
   "cell_type": "markdown",
   "id": "41d878d0-0f5b-449e-81b0-8540036c5f4b",
   "metadata": {},
   "source": [
    "# Visualize Wearing-Offs"
   ]
  },
  {
   "cell_type": "code",
   "execution_count": null,
   "id": "f1c18906-bd93-47df-bebd-9e6dfacdfb48",
   "metadata": {},
   "outputs": [],
   "source": [
    "visualize_wearing_offs(df)"
   ]
  },
  {
   "cell_type": "markdown",
   "id": "41494047-fa85-4ebd-94ae-9cf4deee0aa9",
   "metadata": {},
   "source": [
    "# Summarize data"
   ]
  },
  {
   "cell_type": "code",
   "execution_count": null,
   "id": "cd3f9bad-0b50-4774-9aed-c0469f8decf4",
   "metadata": {},
   "outputs": [],
   "source": [
    "if os.path.exists(f'./results/descriptive_summary.xlsx'):\n",
    "    with pd.ExcelWriter(f'./results/descriptive_summary.xlsx', engine='openpyxl', mode='a') as writer:\n",
    "        df.describe().transpose().to_excel(writer, sheet_name=f'{user}')\n",
    "else:\n",
    "    with pd.ExcelWriter(f'./results/descriptive_summary.xlsx', engine='openpyxl', mode='w') as writer:\n",
    "        df.describe().transpose().to_excel(writer, sheet_name=f'{user}')\n",
    "\n",
    "df.describe().transpose()"
   ]
  },
  {
   "cell_type": "markdown",
   "id": "cf5b3e1c-5bf3-426b-85df-fe0dcf5fb198",
   "metadata": {},
   "source": [
    "## Split data"
   ]
  },
  {
   "cell_type": "code",
   "execution_count": null,
   "id": "8cfcb4fa-4a37-4617-9299-486884c0e892",
   "metadata": {},
   "outputs": [],
   "source": [
    "if interval == '15min':\n",
    "    record_size_per_day = 96\n",
    "elif interval == '15s':\n",
    "    record_size_per_day = 5760\n",
    "elif interval == '1min':\n",
    "    record_size_per_day = 1440\n",
    "elif interval == '1h':\n",
    "    record_size_per_day = 24\n",
    "\n",
    "# Outer and Inner CV sizes\n",
    "train_size = record_size_per_day * 2     # 1 days\n",
    "test_size = record_size_per_day * 1      # 1 day\n",
    "\n",
    "cv = WindowTimeSeriesSplit( train_size, test_size, False )"
   ]
  },
  {
   "cell_type": "markdown",
   "id": "ba445334-c05f-44fc-ab3b-5ce6b014f442",
   "metadata": {},
   "source": [
    "### Visualize cross-fold split"
   ]
  },
  {
   "cell_type": "code",
   "execution_count": null,
   "id": "06781009-65b6-4db4-904f-1602f9a99f81",
   "metadata": {},
   "outputs": [],
   "source": [
    "cmap_data = plt.cm.Paired\n",
    "cmap_cv = plt.cm.coolwarm\n",
    "fig, ax = plt.subplots(figsize=(20,10))\n",
    "# outer cv\n",
    "plot_cv_indices(cv, df.iloc[:, 0:-1].values, df.iloc[:, -1:].values, ax)\n",
    "plt.rc('text') # , usetex=False)\n",
    "plt.rc('font', family='serif')\n",
    "plt.title('Walk Forward Validation')\n",
    "# plt.savefig('./blockingtimeseriessplit.pdf', bbox_inches='tight')\n",
    "plt.show()"
   ]
  }
 ],
 "metadata": {
  "kernelspec": {
   "display_name": "Python 3 (ipykernel)",
   "language": "python",
   "name": "python3"
  },
  "language_info": {
   "codemirror_mode": {
    "name": "ipython",
    "version": 3
   },
   "file_extension": ".py",
   "mimetype": "text/x-python",
   "name": "python",
   "nbconvert_exporter": "python",
   "pygments_lexer": "ipython3",
   "version": "3.9.7"
  }
 },
 "nbformat": 4,
 "nbformat_minor": 5
}
