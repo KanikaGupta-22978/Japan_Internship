{
 "cells": [
  {
   "cell_type": "markdown",
   "id": "4a25fba7-5206-4694-8f65-f783c6afa389",
   "metadata": {},
   "source": [
    "# LSTM"
   ]
  },
  {
   "cell_type": "markdown",
   "id": "cc49fae8-1a08-43e3-9584-e85fc66fb12b",
   "metadata": {},
   "source": [
    "# Load libraries"
   ]
  },
  {
   "cell_type": "code",
   "execution_count": 1,
   "id": "50c9f9af-7e8c-446b-a7b6-f2921b3490b6",
   "metadata": {},
   "outputs": [],
   "source": [
    "import pandas as pd\n",
    "import numpy as np\n",
    "from tqdm.auto import tqdm\n",
    "\n",
    "import torch\n",
    "import torch.autograd as autograd\n",
    "import torch.nn as nn\n",
    "import torch.nn.functional as F\n",
    "import torch.optim as optim\n",
    "from torch.utils.data import Dataset, DataLoader\n",
    "\n",
    "import pytorch_lightning as pl\n",
    "import seaborn as sns\n",
    "from pylab import rcParams\n",
    "import matplotlib.pyplot as plt\n",
    "from matplotlib import rc\n",
    "from matplotlib.ticker import MaxNLocator\n",
    "\n",
    "from sklearn.model_selection import train_test_split\n",
    "from sklearn.preprocessing import LabelEncoder\n",
    "\n",
    "from multiprocessing import cpu_count\n",
    "from pytorch_lightning.callbacks import ModelCheckpoint, EarlyStopping\n",
    "from pytorch_lightning.loggers import TensorBoardLogger\n",
    "from torchmetrics.functional import accuracy, precision\n",
    "from sklearn.metrics import classification_report, confusion_matrix"
   ]
  },
  {
   "cell_type": "code",
   "execution_count": 2,
   "id": "7fd1aba0-3be2-4171-90d5-f4718696da23",
   "metadata": {},
   "outputs": [],
   "source": [
    "# %matplotlib inline\n",
    "# %config InlineBackend.figure_format='retine'\n",
    "\n",
    "sns.set(style='whitegrid', palette='muted', font_scale=1.2)\n",
    "HAPPY_COLORS_PALETTE = [\"#01BEFE\", \"#FFDD00\", \"#FF7D00\", \"#FF006D\", \"#ADFF02\", \"#8F00FF\"]\n",
    "sns.set_palette(sns.color_palette(HAPPY_COLORS_PALETTE))\n",
    "rcParams['figure.figsize'] = 16, 10"
   ]
  },
  {
   "cell_type": "code",
   "execution_count": 3,
   "id": "798904ae-960f-4dbd-9de9-23d04a29cf5e",
   "metadata": {},
   "outputs": [
    {
     "name": "stderr",
     "output_type": "stream",
     "text": [
      "Global seed set to 4\n"
     ]
    },
    {
     "data": {
      "text/plain": [
       "4"
      ]
     },
     "execution_count": 3,
     "metadata": {},
     "output_type": "execute_result"
    }
   ],
   "source": [
    "pl.seed_everything(4)"
   ]
  },
  {
   "cell_type": "markdown",
   "id": "a0f382c3-e7d1-41c5-b424-3ffd1e37084c",
   "metadata": {},
   "source": [
    "# Load data"
   ]
  },
  {
   "cell_type": "code",
   "execution_count": 4,
   "id": "814842d4-e5b5-4afe-9025-169c3ec63e48",
   "metadata": {},
   "outputs": [],
   "source": [
    "user = 'participant3'\n",
    "interval = '15min'\n",
    "\n",
    "columns = [ 'timestamp', 'heart_rate', 'steps', 'stress_score',\n",
    "            'awake', 'deep', 'light', 'rem', \n",
    "           'nonrem_total', 'total', 'nonrem_percentage', 'sleep_efficiency']\n",
    "\n",
    "# Include FonLog data\n",
    "columns = columns + ['time_from_last_drug_taken'] #, 'wo_duration']\n",
    "\n",
    "# 'wearing_off' | 'wearing_off_post_meds' | 'wearing_off_lead60'\n",
    "target_column = 'wearing_off' \n",
    "columns.append(target_column)\n",
    "\n",
    "# With lag features\n",
    "lag_features = []\n",
    "for column in columns[1:]:\n",
    "    lag_features.append(f'{column}-1')\n",
    "columns = columns + lag_features"
   ]
  },
  {
   "cell_type": "code",
   "execution_count": 5,
   "id": "30124543-78e7-4bbc-a3e7-145de745b46a",
   "metadata": {},
   "outputs": [],
   "source": [
    "participant_dictionary = {\n",
    "#     'participant1': {\n",
    "#         'name': 'mori-san',\n",
    "#         'fonlog_id': 5,\n",
    "#         'start_date': '2021-02-23',        # start date '2021-11-25'\n",
    "#         'end_date_plus_one': '2021-03-24', # actual end date '2021-11-29'\n",
    "#         'end_date_plus_two': '2021-03-25'  # boundary excluding specified date '2021-11-30'\n",
    "#     },\n",
    "#     'participant2': {\n",
    "#         'name': 'iwai-san',\n",
    "#         'fonlog_id': 6,\n",
    "#         'start_date': '2021-02-23',        # '2021-11-24'\n",
    "#         'end_date_plus_one': '2021-03-24', # '2021-11-29'\n",
    "#         'end_date_plus_two': '2021-03-25'  # '2021-11-30'\n",
    "#     },\n",
    "    'participant1': {\n",
    "        'name': 'mori-san',\n",
    "        'fonlog_id': 5,\n",
    "        'start_date': '2021-11-25',        # start date '2021-11-25'\n",
    "        'end_date_plus_one': '2021-12-03', # actual end date '2021-11-29'\n",
    "        'end_date_plus_two': '2021-12-04'  # boundary excluding specified date '2021-11-30'\n",
    "    },\n",
    "    'participant2': {\n",
    "        'name': 'iwai-san',\n",
    "        'fonlog_id': 6,\n",
    "        'start_date': '2021-11-24',        # '2021-11-24'\n",
    "        'end_date_plus_one': '2021-11-29', # '2021-11-29'\n",
    "        'end_date_plus_two': '2021-11-30'  # '2021-11-30'\n",
    "    },\n",
    "    'participant3': {\n",
    "        'name': 'ushijima-san', # Shibata Lab 13\n",
    "        'fonlog_id': 7,\n",
    "        'start_date': '2021-11-17',\n",
    "        'end_date_plus_one': '2021-11-26', # 10 days\n",
    "        'end_date_plus_two': '2021-11-27'\n",
    "    },\n",
    "    'participant4': {\n",
    "        'name': 'haneji-san', # Shibata Lab 14\n",
    "        'fonlog_id': 8,\n",
    "        'start_date': '2021-11-28',\n",
    "        'end_date_plus_one': '2021-12-07', # 11 days\n",
    "        'end_date_plus_two': '2021-12-08'\n",
    "    },\n",
    "    'participant5': {\n",
    "        'name': 'nakazawa-san', # Shibata Lab 15\n",
    "        'fonlog_id': 9,\n",
    "        'start_date': '2021-11-22',\n",
    "        'end_date_plus_one': '2021-11-29', # 9 days\n",
    "        'end_date_plus_two': '2021-11-30'\n",
    "    },\n",
    "    'participant6': {\n",
    "        'name': 'inoue-san', # Shibata Lab 16\n",
    "        'fonlog_id': 10,\n",
    "        'start_date': '2021-11-29',\n",
    "        'end_date_plus_one': '2021-12-07', # 11 days\n",
    "        'end_date_plus_two': '2021-12-08'\n",
    "    },\n",
    "    'participant7': {\n",
    "        'name': 'sugimoto-san', # Shibata Lab 17\n",
    "        'fonlog_id': 11,\n",
    "        'start_date': '2021-12-09',\n",
    "        'end_date_plus_one': '2021-12-14', # 6 days\n",
    "        'end_date_plus_two': '2021-12-15'\n",
    "    },\n",
    "    'participant8': {\n",
    "        'name': 'uozumi-sensei1', # Shibata Lab 18\n",
    "        'fonlog_id': 12,\n",
    "        'start_date': '2021-12-14',\n",
    "        'end_date_plus_one': '2021-12-24', # 11 days\n",
    "        'end_date_plus_two': '2021-12-25'\n",
    "    },\n",
    "    'participant9': {\n",
    "        'name': 'uozumi-sensei2', # Shibata Lab 19\n",
    "        'fonlog_id': 13,\n",
    "        'start_date': '2021-12-14',\n",
    "        'end_date_plus_one': '2021-12-24', # 11 days\n",
    "        'end_date_plus_two': '2021-12-25'\n",
    "    },\n",
    "    'participant10': {\n",
    "        'name': 'uozumi-sensei3', # Shibata Lab 20\n",
    "        'fonlog_id': 14,\n",
    "        'start_date': '2021-12-15',\n",
    "        'end_date_plus_one': '2021-12-24', # 10 days\n",
    "        'end_date_plus_two': '2021-12-25'\n",
    "    }\n",
    "}"
   ]
  },
  {
   "cell_type": "code",
   "execution_count": 6,
   "id": "e7f4cea0-969f-4f39-ae7f-261440137f38",
   "metadata": {
    "scrolled": true,
    "tags": []
   },
   "outputs": [],
   "source": [
    "combined_data = pd.read_excel(f'./data/4-combined_data_{user}_{interval}.xlsx',\n",
    "                              index_col=\"timestamp\",\n",
    "                              usecols=columns,\n",
    "                              engine='openpyxl')\n",
    "combined_data.fillna(0, inplace=True)\n",
    "combined_data = combined_data.loc[\n",
    "    (combined_data.index >= participant_dictionary[user]['start_date']) &\n",
    "    (combined_data.index < participant_dictionary[user]['end_date_plus_two'])\n",
    "]\n",
    "    \n",
    "\n",
    "# y = combined_data.loc[:, combined_data.columns == target_column].values[:,0]\n",
    "y = combined_data[[target_column]]\n",
    "X = combined_data.loc[:, [column for column in columns[1:] if column != target_column]]\n",
    "\n",
    "X_train = X\n",
    "y_train = y"
   ]
  },
  {
   "cell_type": "code",
   "execution_count": 7,
   "id": "2302d50e-4a29-464d-850b-a92044f0c5c6",
   "metadata": {},
   "outputs": [
    {
     "data": {
      "image/png": "[encoded data removed]",
      "text/plain": [
       "<Figure size 1152x720 with 1 Axes>"
      ]
     },
     "metadata": {},
     "output_type": "display_data"
    }
   ],
   "source": [
    "y.wearing_off.value_counts().plot(kind=\"bar\")\n",
    "plt.xticks(rotation=45)\n",
    "plt.show()"
   ]
  },
  {
   "cell_type": "markdown",
   "id": "58452203-00ac-4412-8679-34013efa73e0",
   "metadata": {},
   "source": [
    "# Preprocessing"
   ]
  },
  {
   "cell_type": "code",
   "execution_count": 8,
   "id": "de36a764-f027-4db9-b4ca-a2300aed9b51",
   "metadata": {},
   "outputs": [],
   "source": [
    "label_encoder = LabelEncoder()\n",
    "encoded_labels = label_encoder.fit_transform(y_train.wearing_off)"
   ]
  },
  {
   "cell_type": "code",
   "execution_count": 9,
   "id": "4355ce8e-521b-4b0f-bcef-2bd466605b17",
   "metadata": {},
   "outputs": [
    {
     "name": "stderr",
     "output_type": "stream",
     "text": [
      "/tmp/ipykernel_7410/3341449311.py:1: SettingWithCopyWarning: \n",
      "A value is trying to be set on a copy of a slice from a DataFrame.\n",
      "Try using .loc[row_indexer,col_indexer] = value instead\n",
      "\n",
      "See the caveats in the documentation: https://pandas.pydata.org/pandas-docs/stable/user_guide/indexing.html#returning-a-view-versus-a-copy\n",
      "  y_train[\"label\"] =  encoded_labels\n"
     ]
    }
   ],
   "source": [
    "y_train[\"label\"] =  encoded_labels"
   ]
  },
  {
   "cell_type": "code",
   "execution_count": 10,
   "id": "a9917ae5-bc5a-4a93-8548-8a74f6a728a0",
   "metadata": {},
   "outputs": [
    {
     "data": {
      "text/html": [
       "<div>\n",
       "<style scoped>\n",
       "    .dataframe tbody tr th:only-of-type {\n",
       "        vertical-align: middle;\n",
       "    }\n",
       "\n",
       "    .dataframe tbody tr th {\n",
       "        vertical-align: top;\n",
       "    }\n",
       "\n",
       "    .dataframe thead th {\n",
       "        text-align: right;\n",
       "    }\n",
       "</style>\n",
       "<table border=\"1\" class=\"dataframe\">\n",
       "  <thead>\n",
       "    <tr style=\"text-align: right;\">\n",
       "      <th></th>\n",
       "      <th>wearing_off</th>\n",
       "      <th>label</th>\n",
       "    </tr>\n",
       "    <tr>\n",
       "      <th>timestamp</th>\n",
       "      <th></th>\n",
       "      <th></th>\n",
       "    </tr>\n",
       "  </thead>\n",
       "  <tbody>\n",
       "    <tr>\n",
       "      <th>2021-11-17 00:00:00</th>\n",
       "      <td>0.0</td>\n",
       "      <td>0</td>\n",
       "    </tr>\n",
       "    <tr>\n",
       "      <th>2021-11-17 00:15:00</th>\n",
       "      <td>0.0</td>\n",
       "      <td>0</td>\n",
       "    </tr>\n",
       "    <tr>\n",
       "      <th>2021-11-17 00:30:00</th>\n",
       "      <td>0.0</td>\n",
       "      <td>0</td>\n",
       "    </tr>\n",
       "    <tr>\n",
       "      <th>2021-11-17 00:45:00</th>\n",
       "      <td>0.0</td>\n",
       "      <td>0</td>\n",
       "    </tr>\n",
       "    <tr>\n",
       "      <th>2021-11-17 01:00:00</th>\n",
       "      <td>0.0</td>\n",
       "      <td>0</td>\n",
       "    </tr>\n",
       "  </tbody>\n",
       "</table>\n",
       "</div>"
      ],
      "text/plain": [
       "                     wearing_off  label\n",
       "timestamp                              \n",
       "2021-11-17 00:00:00          0.0      0\n",
       "2021-11-17 00:15:00          0.0      0\n",
       "2021-11-17 00:30:00          0.0      0\n",
       "2021-11-17 00:45:00          0.0      0\n",
       "2021-11-17 01:00:00          0.0      0"
      ]
     },
     "execution_count": 10,
     "metadata": {},
     "output_type": "execute_result"
    }
   ],
   "source": [
    "y_train.head()"
   ]
  },
  {
   "cell_type": "code",
   "execution_count": 11,
   "id": "274b823c-32e9-481d-b478-378ec685971b",
   "metadata": {},
   "outputs": [
    {
     "data": {
      "text/plain": [
       "['heart_rate',\n",
       " 'steps',\n",
       " 'stress_score',\n",
       " 'awake',\n",
       " 'deep',\n",
       " 'light',\n",
       " 'rem',\n",
       " 'nonrem_total',\n",
       " 'total',\n",
       " 'nonrem_percentage',\n",
       " 'sleep_efficiency',\n",
       " 'time_from_last_drug_taken',\n",
       " 'heart_rate-1',\n",
       " 'steps-1',\n",
       " 'stress_score-1',\n",
       " 'awake-1',\n",
       " 'deep-1',\n",
       " 'light-1',\n",
       " 'rem-1',\n",
       " 'nonrem_total-1',\n",
       " 'total-1',\n",
       " 'nonrem_percentage-1',\n",
       " 'sleep_efficiency-1',\n",
       " 'time_from_last_drug_taken-1',\n",
       " 'wearing_off-1']"
      ]
     },
     "execution_count": 11,
     "metadata": {},
     "output_type": "execute_result"
    }
   ],
   "source": [
    "FEATURE_COLUMNS = X_train.columns.tolist()\n",
    "FEATURE_COLUMNS"
   ]
  },
  {
   "cell_type": "code",
   "execution_count": 12,
   "id": "7b2781fb-d67d-40d8-90b7-bcbdb63d9be9",
   "metadata": {},
   "outputs": [],
   "source": [
    "sequences = []\n",
    "\n",
    "for timestamp, data in X_train.groupby('timestamp'):\n",
    "    sequence_features = data[FEATURE_COLUMNS].reset_index(drop=True)\n",
    "    label = y_train[y_train.index == timestamp].iloc[0].label\n",
    "    \n",
    "    sequences.append((sequence_features, label))"
   ]
  },
  {
   "cell_type": "code",
   "execution_count": 13,
   "id": "93ccf817-8e98-4570-9213-945e18441c84",
   "metadata": {},
   "outputs": [
    {
     "data": {
      "text/plain": [
       "(   heart_rate  steps  stress_score  awake  deep  light    rem  nonrem_total  \\\n",
       " 0   47.983333    0.0           3.2    2.0   0.0  256.0  205.0         256.0   \n",
       " \n",
       "    total  nonrem_percentage  ...  awake-1  deep-1  light-1  rem-1  \\\n",
       " 0  461.0           0.555315  ...      0.0     0.0      0.0    0.0   \n",
       " \n",
       "    nonrem_total-1  total-1  nonrem_percentage-1  sleep_efficiency-1  \\\n",
       " 0             0.0      0.0                  0.0                 0.0   \n",
       " \n",
       "    time_from_last_drug_taken-1  wearing_off-1  \n",
       " 0                          0.0            0.0  \n",
       " \n",
       " [1 rows x 25 columns],\n",
       " 0.0)"
      ]
     },
     "execution_count": 13,
     "metadata": {},
     "output_type": "execute_result"
    }
   ],
   "source": [
    "sequences[0]"
   ]
  },
  {
   "cell_type": "code",
   "execution_count": 14,
   "id": "67b7d77c-b1f1-41d3-8686-471dabd19b8d",
   "metadata": {},
   "outputs": [],
   "source": [
    "train_sequences, test_sequences = train_test_split(sequences, test_size=0.2)"
   ]
  },
  {
   "cell_type": "code",
   "execution_count": 15,
   "id": "ca16ee9d-2083-47df-87d1-9f0e9a98100f",
   "metadata": {},
   "outputs": [
    {
     "data": {
      "text/plain": [
       "(768, 192)"
      ]
     },
     "execution_count": 15,
     "metadata": {},
     "output_type": "execute_result"
    }
   ],
   "source": [
    "len(train_sequences), len(test_sequences)"
   ]
  },
  {
   "cell_type": "markdown",
   "id": "dbea4cb1-8186-4f4c-9193-25626e31d5f7",
   "metadata": {},
   "source": [
    "# Dataset"
   ]
  },
  {
   "cell_type": "code",
   "execution_count": 16,
   "id": "890d5788-8f4c-47e0-91d9-029a0c5ff16d",
   "metadata": {},
   "outputs": [],
   "source": [
    "class NonMotorDataset(Dataset):\n",
    "    def __init__(self, sequences):\n",
    "        self.sequences = sequences\n",
    "        \n",
    "    def __len__(self):\n",
    "        return len(self.sequences)\n",
    "    \n",
    "    def __getitem__(self, idx):\n",
    "        sequence, label = self.sequences[idx]\n",
    "        return dict(\n",
    "            sequence=torch.Tensor(sequence.to_numpy()),\n",
    "            label=torch.tensor(label).long()\n",
    "        )"
   ]
  },
  {
   "cell_type": "code",
   "execution_count": 17,
   "id": "e8909662-0ab5-4978-93c6-c69ff23944d6",
   "metadata": {},
   "outputs": [],
   "source": [
    "class NonMotorDataModule(pl.LightningDataModule):\n",
    "    def __init__(self, train_sequences, test_sequences, batch_size):\n",
    "        super().__init__()\n",
    "        self.train_sequences = train_sequences\n",
    "        self.test_sequences = test_sequences\n",
    "        self.batch_size = batch_size\n",
    "        \n",
    "    def setup(self, stage=None):\n",
    "        self.train_dataset = NonMotorDataset(self.train_sequences)\n",
    "        self.test_dataset = NonMotorDataset(self.test_sequences)\n",
    "        \n",
    "    def train_dataloader(self):\n",
    "        return DataLoader(\n",
    "            self.train_dataset,\n",
    "            batch_size=self.batch_size,\n",
    "            shuffle=True,\n",
    "            num_workers=cpu_count()\n",
    "        )\n",
    "    \n",
    "    def validation_dataloader(self):\n",
    "        return DataLoader(\n",
    "            self.test_dataset,\n",
    "            batch_size=self.batch_size,\n",
    "            shuffle=False,\n",
    "            num_workers=cpu_count()\n",
    "        )\n",
    "    \n",
    "    def test_dataloader(self):\n",
    "        return DataLoader(\n",
    "            self.test_dataset,\n",
    "            batch_size=self.batch_size,\n",
    "            shuffle=False,\n",
    "            num_workers=cpu_count()\n",
    "        )"
   ]
  },
  {
   "cell_type": "code",
   "execution_count": 18,
   "id": "988aa274-a537-48b5-8a38-def078643190",
   "metadata": {},
   "outputs": [],
   "source": [
    "N_EPOCHS = 250\n",
    "BATCH_SIZE = 64\n",
    "\n",
    "data_module = NonMotorDataModule(train_sequences, test_sequences, BATCH_SIZE)"
   ]
  },
  {
   "cell_type": "markdown",
   "id": "00a3334e-8d8f-4383-ad0d-f9d43969dd51",
   "metadata": {},
   "source": [
    "# Model"
   ]
  },
  {
   "cell_type": "code",
   "execution_count": 19,
   "id": "1038808d-fc94-4958-add4-d24d2689848a",
   "metadata": {},
   "outputs": [],
   "source": [
    "from torch import nn\n",
    "\n",
    "class WearingOffModel(nn.Module):\n",
    "    def __init__(self, n_features, n_classes, n_hidden=256, n_layers=3):\n",
    "        super().__init__()\n",
    "\n",
    "        self.lstm = nn.LSTM(\n",
    "            input_size = n_features,\n",
    "            hidden_size = n_hidden,\n",
    "            num_layers= n_layers,\n",
    "            batch_first=True,\n",
    "            dropout=0.75\n",
    "        )\n",
    "        self.classifier = nn.Linear(n_hidden, n_classes)\n",
    "        \n",
    "    def forward(self, x):\n",
    "        self.lstm.flatten_parameters()\n",
    "        _, (hidden, _) = self.lstm(x)\n",
    "        \n",
    "        out = hidden[-1]\n",
    "        return self.classifier(out)"
   ]
  },
  {
   "cell_type": "code",
   "execution_count": 20,
   "id": "ae6ead50-a715-45bf-8384-e2bd939ae7f9",
   "metadata": {},
   "outputs": [],
   "source": [
    "class WearingOffPredictor(pl.LightningModule):\n",
    "    \n",
    "    def __init__(self, n_features: int, n_classes: int):\n",
    "        super().__init__()\n",
    "        self.model = WearingOffModel(n_features, n_classes)\n",
    "        self.criterion = nn.CrossEntropyLoss()\n",
    "        \n",
    "    def forward(self, x, labels=None):\n",
    "        output = self.model(x)\n",
    "        loss = 0\n",
    "        if labels is not None:\n",
    "            loss = self.criterion(output, labels)\n",
    "        return loss, output\n",
    "    \n",
    "    def training_step(self, batch, batch_idx):\n",
    "        sequences = batch[\"sequence\"]\n",
    "        labels = batch[\"label\"]\n",
    "        loss, outputs = self(sequences, labels)\n",
    "        predictions = torch.argmax(outputs, dim=1)\n",
    "        # step_accuracy = accuracy(predictions, labels)\n",
    "        step_accuracy = precision(predictions, labels)\n",
    "\n",
    "        self.log(\"train_loss\", loss, prog_bar=True, logger=True)\n",
    "        self.log(\"train_accuracy\", step_accuracy, prog_bar=True, logger=True)\n",
    "        return {\"loss\": loss, \"accuracy\": step_accuracy}\n",
    "    \n",
    "    def validation_step(self, batch, batch_idx):\n",
    "        sequences = batch[\"sequence\"]\n",
    "        labels = batch[\"label\"]\n",
    "        loss, outputs = self(sequences, labels)\n",
    "        predictions = torch.argmax(outputs, dim=1)\n",
    "        # step_accuracy = accuracy(predictions, labels)\n",
    "        step_accuracy = precision(predictions, labels)\n",
    "\n",
    "        self.log(\"val_loss\", loss, prog_bar=True, logger=True)\n",
    "        self.log(\"val_accuracy\", step_accuracy, prog_bar=True, logger=True)\n",
    "        return {\"loss\": loss, \"accuracy\": step_accuracy}\n",
    "    \n",
    "    def test_step(self, batch, batch_idx):\n",
    "        sequences = batch[\"sequence\"]\n",
    "        labels = batch[\"label\"]\n",
    "        loss, outputs = self(sequences, labels)\n",
    "        predictions = torch.argmax(outputs, dim=1)\n",
    "        # step_accuracy = accuracy(predictions, labels)\n",
    "        step_accuracy = precision(predictions, labels)\n",
    "\n",
    "        self.log(\"test_loss\", loss, prog_bar=True, logger=True)\n",
    "        self.log(\"test_accuracy\", step_accuracy, prog_bar=True, logger=True)\n",
    "        return {\"loss\": loss, \"accuracy\": step_accuracy}\n",
    "    \n",
    "    def configure_optimizers(self):\n",
    "        return optim.Adam(self.parameters(), lr=0.0001)"
   ]
  },
  {
   "cell_type": "code",
   "execution_count": 21,
   "id": "b1422294-f73d-443c-b90b-033ac42dca0b",
   "metadata": {},
   "outputs": [],
   "source": [
    "model = WearingOffPredictor(\n",
    "    n_features = len(FEATURE_COLUMNS),\n",
    "    n_classes = len(label_encoder.classes_)\n",
    ")"
   ]
  },
  {
   "cell_type": "code",
   "execution_count": 22,
   "id": "f7f4a2e7-86ad-4977-932b-9b6ed2d28261",
   "metadata": {},
   "outputs": [],
   "source": [
    "# %load_ext tensorboard\n",
    "# %tensorboard --logdir ./lightning_logs --bind_all"
   ]
  },
  {
   "cell_type": "code",
   "execution_count": 23,
   "id": "bae98995-fcd8-49fd-8ddf-dfdba4da51a5",
   "metadata": {},
   "outputs": [
    {
     "name": "stderr",
     "output_type": "stream",
     "text": [
      "/opt/conda/lib/python3.9/site-packages/pytorch_lightning/trainer/connectors/callback_connector.py:96: LightningDeprecationWarning: Setting `Trainer(progress_bar_refresh_rate=30)` is deprecated in v1.5 and will be removed in v1.7. Please pass `pytorch_lightning.callbacks.progress.TQDMProgressBar` with `refresh_rate` directly to the Trainer's `callbacks` argument instead. Or, to disable the progress bar pass `enable_progress_bar = False` to the Trainer.\n",
      "  rank_zero_deprecation(\n",
      "GPU available: True, used: True\n",
      "TPU available: False, using: 0 TPU cores\n",
      "IPU available: False, using: 0 IPUs\n",
      "HPU available: False, using: 0 HPUs\n"
     ]
    }
   ],
   "source": [
    "checkpoint_callback = ModelCheckpoint(\n",
    "    dirpath=\"checkpoints\",\n",
    "    filename=\"best-checkpoint\",\n",
    "    save_top_k=1,\n",
    "    verbose=True,\n",
    "    monitor=\"val_loss\",\n",
    "    mode=\"min\"\n",
    ")\n",
    "\n",
    "logger = TensorBoardLogger(\"lightning_logs\", name=\"wearing-off\")\n",
    "\n",
    "trainer = pl.Trainer(\n",
    "    logger = logger,\n",
    "    enable_checkpointing = checkpoint_callback,\n",
    "    max_epochs=N_EPOCHS,\n",
    "    gpus=1,\n",
    "    progress_bar_refresh_rate=30\n",
    ")"
   ]
  },
  {
   "cell_type": "code",
   "execution_count": null,
   "id": "48d4079a-4c97-43c0-96ee-8aff46819cea",
   "metadata": {},
   "outputs": [
    {
     "name": "stderr",
     "output_type": "stream",
     "text": [
      "/opt/conda/lib/python3.9/site-packages/pytorch_lightning/trainer/configuration_validator.py:133: UserWarning: You defined a `validation_step` but have no `val_dataloader`. Skipping val loop.\n",
      "  rank_zero_warn(\"You defined a `validation_step` but have no `val_dataloader`. Skipping val loop.\")\n"
     ]
    }
   ],
   "source": [
    "trainer.fit(model, data_module)\n",
    "# trainer.test()"
   ]
  },
  {
   "cell_type": "markdown",
   "id": "d47a82a1-67a1-4d60-b119-bc7cfa163eef",
   "metadata": {},
   "source": [
    "# Predictions"
   ]
  },
  {
   "cell_type": "code",
   "execution_count": null,
   "id": "7120f635-66c7-4eb8-8da1-fbb2c5d2b7fc",
   "metadata": {},
   "outputs": [],
   "source": [
    "trained_model = WearingOffPredictor.load_from_checkpoint(\n",
    "    trainer.checkpoint_callback.best_model_path,\n",
    "    n_features=len(FEATURE_COLUMNS),\n",
    "    n_classes=len(label_encoder.classes_)\n",
    ")\n",
    "\n",
    "trained_model.freeze()"
   ]
  },
  {
   "cell_type": "code",
   "execution_count": null,
   "id": "70513b42-3256-4c0b-8a86-eedb2c5edc5b",
   "metadata": {},
   "outputs": [],
   "source": [
    "test_dataset = NonMotorDataset(test_sequences)\n",
    "\n",
    "predictions = []\n",
    "labels = []\n",
    "\n",
    "for item in tqdm(test_dataset):\n",
    "    sequence = item[\"sequence\"]\n",
    "    label = item[\"label\"]\n",
    "    \n",
    "    _, output = trained_model(sequence.unsqueeze(dim=0))\n",
    "    prediction = torch.argmax(output, dim=1)\n",
    "    predictions.append(prediction.item())\n",
    "    labels.append(label.item())"
   ]
  },
  {
   "cell_type": "code",
   "execution_count": null,
   "id": "64764072-ee7a-452d-8e9a-16e8f4e6f755",
   "metadata": {},
   "outputs": [],
   "source": [
    "print(\n",
    "    classification_report(labels, predictions)\n",
    ")"
   ]
  }
 ],
 "metadata": {
  "kernelspec": {
   "display_name": "Python 3 (ipykernel)",
   "language": "python",
   "name": "python3"
  },
  "language_info": {
   "codemirror_mode": {
    "name": "ipython",
    "version": 3
   },
   "file_extension": ".py",
   "mimetype": "text/x-python",
   "name": "python",
   "nbconvert_exporter": "python",
   "pygments_lexer": "ipython3",
   "version": "3.9.7"
  }
 },
 "nbformat": 4,
 "nbformat_minor": 5
}
