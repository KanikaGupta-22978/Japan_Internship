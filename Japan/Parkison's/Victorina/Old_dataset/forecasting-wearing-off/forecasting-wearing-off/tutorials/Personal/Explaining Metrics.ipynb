{
 "cells": [
  {
   "cell_type": "markdown",
   "id": "b5a0e73f-2700-494d-9bb0-df9ac6be2b85",
   "metadata": {},
   "source": [
    "### Explaining high balanced accuracy score"
   ]
  },
  {
   "cell_type": "code",
   "execution_count": 32,
   "id": "f311de7d-2f80-4caf-b090-05c64a56769c",
   "metadata": {
    "tags": []
   },
   "outputs": [
    {
     "name": "stdout",
     "output_type": "stream",
     "text": [
      "0    160\n",
      "1     13\n",
      "Name: wearing_off, dtype: int64\n",
      "0    0.924855\n",
      "1    0.075145\n",
      "Name: wearing_off, dtype: float64\n"
     ]
    }
   ],
   "source": [
    "print(single_step_window.test_df[target_column].value_counts(normalize=False))\n",
    "print(single_step_window.test_df[target_column].value_counts(normalize=True))"
   ]
  },
  {
   "cell_type": "markdown",
   "id": "abb3f44f-4646-4a70-b57c-fdb3160c39bb",
   "metadata": {},
   "source": [
    "#### Binary "
   ]
  },
  {
   "cell_type": "code",
   "execution_count": 114,
   "id": "5b3ea38e-a246-47a9-ab36-b11842d53242",
   "metadata": {
    "scrolled": true,
    "tags": []
   },
   "outputs": [
    {
     "name": "stdout",
     "output_type": "stream",
     "text": [
      "Label: [0.0, 0.0, 0.0, 0.0, 1.0, 1.0, 0.0, 0.0]\n",
      "Predictions: [0.0076432526, 0.007150322, 0.007214129, 0.0071855783, 0.0072901547, 0.007442087, 0.0075894594, 0.007887065]\n",
      "[[6 0]\n",
      " [2 0]]\n",
      "bin result: 0.75\n",
      "bal result: 0.5\n",
      "auc result: 0.5\n",
      "\n",
      "Label: [0.0, 0.0, 0.0, 0.0, 0.0, 0.0, 0.0, 0.0]\n",
      "Predictions: [7.246245e-05, 7.3380616e-05, 7.232216e-05, 7.4307514e-05, 8.272228e-05, 0.00011521306, 7.449562e-05, 7.554495e-05]\n",
      "[[8]]\n",
      "bin result: 0.875\n",
      "bal result: 0.6666666865348816\n",
      "auc result: 0.7857142686843872\n",
      "\n",
      "Label: [0.0, 0.0, 0.0, 0.0, 0.0, 0.0, 0.0, 0.0]\n",
      "Predictions: [9.30163e-05, 7.140845e-05, 7.2642004e-05, 7.38648e-05, 7.50703e-05, 7.625169e-05, 7.7401965e-05, 7.851433e-05]\n",
      "[[8]]\n",
      "bin result: 0.9166666865348816\n",
      "bal result: 0.75\n",
      "auc result: 0.8636363744735718\n",
      "\n",
      "Label: [0.0, 0.0, 0.0, 0.0, 0.0, 0.0, 0.0, 0.0]\n",
      "Predictions: [0.011505932, 0.00753358, 0.010426879, 0.0075974166, 0.007124424, 0.007491082, 0.0070338547, 0.0070899427]\n",
      "[[8]]\n",
      "bin result: 0.9375\n",
      "bal result: 0.800000011920929\n",
      "auc result: 0.7333332896232605\n",
      "\n",
      "Label: [0.0, 0.0, 0.0, 0.0, 0.0, 0.0, 0.0, 0.0]\n",
      "Predictions: [0.0098721385, 0.011509091, 0.013941854, 0.015961498, 0.010718584, 0.010278791, 0.01162672, 0.008478612]\n",
      "[[8]]\n",
      "bin result: 0.949999988079071\n",
      "bal result: 0.8333333134651184\n",
      "auc result: 0.6052631735801697\n",
      "\n",
      "Label: [0.0, 0.0, 0.0, 0.0, 0.0, 0.0, 0.0, 0.0]\n",
      "Predictions: [0.00012865663, 0.00013011694, 0.00012999773, 0.00012987852, 0.00012925267, 0.0001284182, 0.00012639165, 0.00012627244]\n",
      "[[8]]\n",
      "bin result: 0.9583333134651184\n",
      "bal result: 0.8571428656578064\n",
      "auc result: 0.6739130020141602\n",
      "\n",
      "Label: [0.0, 0.0, 1.0, 0.0, 0.0, 0.0, 0.0, 0.0]\n",
      "Predictions: [0.018794954, 0.010078132, 0.010668457, 0.010837495, 0.009525418, 0.009633988, 0.016700596, 0.010297507]\n",
      "[[7 0]\n",
      " [1 0]]\n",
      "bin result: 0.9464285969734192\n",
      "bal result: 0.7777777910232544\n",
      "auc result: 0.6855345964431763\n",
      "\n",
      "Label: [0.0, 0.0, 0.0, 1.0, 1.0, 0.0, 0.0, 0.0]\n",
      "Predictions: [0.012114912, 0.013952911, 0.012854278, 0.013085395, 0.010471225, 0.010339707, 0.010156423, 0.016284674]\n",
      "[[6 0]\n",
      " [2 0]]\n",
      "bin result: 0.921875\n",
      "bal result: 0.7272727489471436\n",
      "auc result: 0.699999988079071\n",
      "\n",
      "Label: [0.0, 0.0, 0.0, 0.0, 0.0, 0.0, 0.0, 0.0]\n",
      "Predictions: [7.0697235e-05, 7.732221e-05, 9.7942815e-05, 0.00010809329, 7.099716e-05, 7.030331e-05, 7.2939525e-05, 7.6225944e-05]\n",
      "[[8]]\n",
      "bin result: 0.9305555820465088\n",
      "bal result: 0.75\n",
      "auc result: 0.7358208894729614\n",
      "\n",
      "Label: [0.0, 0.0, 0.0, 0.0, 0.0, 0.0, 0.0, 0.0]\n",
      "Predictions: [0.00012856722, 0.00012286867, 0.00011919543, 0.00011606321, 0.00011362779, 0.00011071144, 0.00010828386, 0.0001058021]\n",
      "[[8]]\n",
      "bin result: 0.9375\n",
      "bal result: 0.7692307829856873\n",
      "auc result: 0.7639999985694885\n",
      "\n",
      "Label: [0.0, 0.0, 0.0, 0.0, 0.0, 0.0, 0.0, 0.0]\n",
      "Predictions: [0.008073032, 0.04616028, 0.007540405, 0.0074552, 0.0075164437, 0.0072997212, 0.007432759, 0.007145345]\n",
      "[[8]]\n",
      "bin result: 0.9431818127632141\n",
      "bal result: 0.7857142686843872\n",
      "auc result: 0.757831335067749\n",
      "\n",
      "Label: [1.0, 0.0, 0.0, 0.0, 0.0, 0.0, 0.0, 0.0]\n",
      "Predictions: [0.0147693455, 0.008942604, 0.015294313, 0.01554212, 0.014986247, 0.00012359023, 0.00014817715, 0.00012734532]\n",
      "[[7 0]\n",
      " [1 0]]\n",
      "bin result: 0.9375\n",
      "bal result: 0.75\n",
      "auc result: 0.7592592239379883\n",
      "\n",
      "Label: [0.0, 0.0, 0.0, 0.0, 0.0, 0.0, 0.0, 0.0]\n",
      "Predictions: [0.012906343, 0.013502181, 0.013942093, 0.013097286, 0.013291359, 0.012978405, 0.013005108, 0.015100151]\n",
      "[[8]]\n",
      "bin result: 0.942307710647583\n",
      "bal result: 0.7647058963775635\n",
      "auc result: 0.7210884094238281\n",
      "\n",
      "Label: [0.0, 0.0, 0.0, 0.0, 0.0, 0.0, 0.0, 0.0]\n",
      "Predictions: [8.0926024e-05, 8.2162485e-05, 8.3465115e-05, 8.069013e-05, 8.872589e-05, 9.324918e-05, 8.423671e-05, 8.559377e-05]\n",
      "[[8]]\n",
      "bin result: 0.9464285969734192\n",
      "bal result: 0.7777777910232544\n",
      "auc result: 0.7421383857727051\n",
      "\n",
      "Label: [0.0, 0.0, 0.0, 0.0, 0.0, 0.0, 0.0, 0.0]\n",
      "Predictions: [0.0001386106, 7.654268e-05, 7.5850825e-05, 7.28577e-05, 7.2862844e-05, 7.2037525e-05, 7.1577335e-05, 7.469922e-05]\n",
      "[[8]]\n",
      "bin result: 0.949999988079071\n",
      "bal result: 0.7894737124443054\n",
      "auc result: 0.7602338790893555\n",
      "\n",
      "Label: [0.0, 0.0, 0.0, 0.0, 0.0, 0.0, 0.0, 0.0]\n",
      "Predictions: [0.012575358, 0.012613893, 0.01265648, 0.01271981, 0.013259292, 0.013308436, 0.013729513, 0.013505518]\n",
      "[[8]]\n",
      "bin result: 0.953125\n",
      "bal result: 0.800000011920929\n",
      "auc result: 0.7322404384613037\n",
      "\n",
      "Label: [0.0, 0.0, 0.0, 0.0, 0.0, 1.0, 1.0, 1.0]\n",
      "Predictions: [0.00010272163, 0.00011237266, 0.00010842191, 0.0001037467, 0.00011588934, 0.000121422614, 0.0001412332, 0.0001309514]\n",
      "[[5 0]\n",
      " [3 0]]\n",
      "bin result: 0.9338235259056091\n",
      "bal result: 0.7727272510528564\n",
      "auc result: 0.5791776776313782\n",
      "\n",
      "Label: [0.0, 0.0, 0.0, 0.0, 0.0, 0.0, 1.0, 1.0]\n",
      "Predictions: [0.01235491, 0.012674034, 0.00781399, 0.011306614, 0.0084833205, 0.008245051, 0.008362412, 0.008987337]\n",
      "[[6 0]\n",
      " [2 0]]\n",
      "bin result: 0.9236111044883728\n",
      "bal result: 0.75\n",
      "auc result: 0.5727956295013428\n",
      "\n",
      "Label: [0.0, 0.0, 0.0, 0.0, 0.0, 0.0, 0.0, 0.0]\n",
      "Predictions: [0.00012555718, 0.00013306737, 0.00013941526, 0.00012817979, 0.00013384223, 0.00012749434, 0.00012761354, 0.00014042854]\n",
      "[[8]]\n",
      "bin result: 0.9276315569877625\n",
      "bal result: 0.7599999904632568\n",
      "auc result: 0.5892972350120544\n",
      "\n",
      "Label: [1.0, 0.0, 1.0, 0.0, 0.0, 0.0, 0.0, 0.0]\n",
      "Predictions: [0.00010792323, 0.00014409423, 0.00014466047, 0.00014483929, 0.00020587444, 8.3787476e-05, 0.00015199184, 0.00011163692]\n",
      "[[6 0]\n",
      " [2 0]]\n",
      "bin result: 0.918749988079071\n",
      "bal result: 0.7407407164573669\n",
      "auc result: 0.5489272475242615\n",
      "\n",
      "Label: [0.0]\n",
      "Predictions: [0.00012785196]\n",
      "[[1]]\n",
      "bin result: 0.9192546606063843\n",
      "bal result: 0.75\n",
      "auc result: 0.5506756901741028\n",
      "\n",
      "Label: [0.0, 0.0, 0.0, 0.0, 0.0, 0.0, 0.0, 0.0]\n",
      "Predictions: [8.856281e-05, 0.000143677, 0.00013107061, 0.00012814999, 0.00012591481, 0.00012844801, 0.00012606382, 0.00012809038]\n",
      "[[8]]\n",
      "bin result: 0.9230769276618958\n",
      "bal result: 0.7586206793785095\n",
      "auc result: 0.5638560056686401\n",
      "\n"
     ]
    }
   ],
   "source": [
    "m_bin = tf.keras.metrics.BinaryAccuracy()\n",
    "m_bal = BalancedSparseCategoricalAccuracy()\n",
    "m_auc = tf.keras.metrics.AUC()\n",
    "\n",
    "y_trues = []\n",
    "y_preds = []\n",
    "for input, label in single_step_window.test(REMOVE_WEARING_OFF_IN_PREVIOUS_STEP):\n",
    "    y_true = label\n",
    "    y_trues.append(y_true.numpy())\n",
    "    print(f'Label: { [y_t for y_t in y_true.numpy().reshape(y_true.numpy().shape[0]) ]}')\n",
    "    \n",
    "    y_pred = linear(input)\n",
    "    y_preds.append(y_pred.numpy())\n",
    "    print(f'Predictions: {  [y_p for y_p in y_pred.numpy().reshape(y_pred.numpy().shape[0]) ]}')\n",
    "    \n",
    "    THRESHOLD = 0.5\n",
    "    cm = confusion_matrix(y_true.numpy().reshape(y_true.shape[0]),\n",
    "                          y_pred.numpy().reshape(y_pred.shape[0]) > THRESHOLD)\n",
    "    print(cm)\n",
    "    \n",
    "    m_bin.update_state(y_true, y_pred)\n",
    "    m_bal.update_state(y_true, y_pred)\n",
    "    m_auc.update_state(y_true, y_pred)\n",
    "    print(f'bin result: {m_bin.result().numpy()}')\n",
    "    print(f'bal result: {m_bal.result().numpy()}')\n",
    "    print(f'auc result: {m_auc.result().numpy()}')\n",
    "    print()\n",
    "    \n",
    "# y_trues = np.concatenate(y_trues)\n",
    "# y_preds = np.concatenate(y_preds)"
   ]
  },
  {
   "cell_type": "code",
   "execution_count": 117,
   "id": "908037b1-629d-47c1-98ed-88d96d7e5eb3",
   "metadata": {},
   "outputs": [
    {
     "data": {
      "text/plain": [
       "<tf.Variable 'count:0' shape=() dtype=float32, numpy=2.0>"
      ]
     },
     "execution_count": 117,
     "metadata": {},
     "output_type": "execute_result"
    }
   ],
   "source": [
    "m_bal.count"
   ]
  },
  {
   "cell_type": "code",
   "execution_count": 207,
   "id": "c25c3a82-2b6e-4517-846f-0d4e659fe98b",
   "metadata": {
    "tags": []
   },
   "outputs": [
    {
     "name": "stdout",
     "output_type": "stream",
     "text": [
      "bin result: 0.9230769276618958\n",
      "bal result: 0.5\n",
      "auc result: 0.5638560056686401\n"
     ]
    }
   ],
   "source": [
    "m_bin = tf.keras.metrics.BinaryAccuracy()\n",
    "m_bal = BalancedSparseCategoricalAccuracy()\n",
    "m_auc = tf.keras.metrics.AUC()\n",
    "\n",
    "m_bin.update_state(tf.convert_to_tensor( np.concatenate(y_trues) ), tf.convert_to_tensor( np.concatenate(y_preds) ))\n",
    "m_bal.update_state(tf.convert_to_tensor( np.concatenate(y_trues) ), tf.convert_to_tensor( np.concatenate(y_preds) ))\n",
    "m_auc.update_state(tf.convert_to_tensor( np.concatenate(y_trues) ), tf.convert_to_tensor( np.concatenate(y_preds) ))\n",
    "print(f'bin result: {m_bin.result().numpy()}')\n",
    "print(f'bal result: {m_bal.result().numpy()}')\n",
    "print(f'auc result: {m_auc.result().numpy()}')"
   ]
  },
  {
   "cell_type": "code",
   "execution_count": 195,
   "id": "c1de3bd6-654f-4a5f-a534-b776c4712905",
   "metadata": {},
   "outputs": [
    {
     "name": "stdout",
     "output_type": "stream",
     "text": [
      "Keras Accuracy\n",
      "Final result:  0.75\n"
     ]
    }
   ],
   "source": [
    "m = tf.keras.metrics.BinaryAccuracy()\n",
    "m.update_state([0, 0, 0, 0, 1, 1, 0, 0], \n",
    "               [0.007643253, 0.007643253, 0.007150322, 0.007214129, 0.007185578, 0.007290155, 0.007442087, 0.007589459])\n",
    "print('Keras Accuracy')\n",
    "print('Final result: ', m.result().numpy())  # Final result: 0.75"
   ]
  },
  {
   "cell_type": "code",
   "execution_count": 196,
   "id": "35262e01-56c1-499f-9d0a-43fba88bde74",
   "metadata": {},
   "outputs": [
    {
     "name": "stdout",
     "output_type": "stream",
     "text": [
      "Keras Balanced Accuracy\n",
      "Final result:  0.5\n"
     ]
    }
   ],
   "source": [
    "m = tf.keras.metrics.BinaryAccuracy()\n",
    "m.update_state([[1], [1], [0], [0]], \n",
    "               [[0.98], [1], [0], [0.6]],\n",
    "               sample_weight=[1, 0, 0, 1]\n",
    "              )\n",
    "print('Keras Balanced Accuracy')\n",
    "print('Final result: ', m.result().numpy())  # Final result: 0.75"
   ]
  },
  {
   "cell_type": "code",
   "execution_count": 202,
   "id": "9afdc885-7156-446f-b10f-91c07afd11f1",
   "metadata": {
    "tags": []
   },
   "outputs": [
    {
     "name": "stdout",
     "output_type": "stream",
     "text": [
      "Keras Balanced Accuracy\n",
      "Final result:  0.5\n"
     ]
    }
   ],
   "source": [
    "m = tf.keras.metrics.BinaryAccuracy()\n",
    "m.update_state(np.array([0, 0, 0, 0, 1, 1, 0, 0]).reshape(8,1), \n",
    "               np.array([0.007643253, 0.007643253, 0.007150322, 0.007214129, 0.007185578, 0.007290155, 0.007442087, 0.007589459]).reshape(8,1),\n",
    "               sample_weight=[0.166666667, 0.166666667, 0.166666667, 0.166666667, 0.5, 0.5, 0.166666667, 0.166666667]\n",
    "              )\n",
    "print('Keras Balanced Accuracy')\n",
    "print('Final result: ', m.result().numpy())  # Final result: 0.75"
   ]
  },
  {
   "cell_type": "code",
   "execution_count": 203,
   "id": "7fbed5f4-e331-4fc3-b695-8be5e6c1b3a7",
   "metadata": {},
   "outputs": [
    {
     "name": "stdout",
     "output_type": "stream",
     "text": [
      "Sci-kit Accuracy\n",
      "0.75\n"
     ]
    }
   ],
   "source": [
    "print('Sci-kit Accuracy')\n",
    "print(accuracy_score([0, 0, 0, 0, 1, 1, 0, 0],\n",
    "                     [0, 0, 0, 0, 0, 0, 0, 0]))"
   ]
  },
  {
   "cell_type": "code",
   "execution_count": 204,
   "id": "1ba41cb9-39e9-4776-a447-c769a65a6846",
   "metadata": {},
   "outputs": [
    {
     "name": "stdout",
     "output_type": "stream",
     "text": [
      "Sci-kit Accuracy\n",
      "0.5000000004999999\n"
     ]
    }
   ],
   "source": [
    "print('Sci-kit Accuracy')\n",
    "print(accuracy_score([0, 0, 0, 0, 1, 1, 0, 0],\n",
    "                     [0, 0, 0, 0, 0, 0, 0, 0],\n",
    "                     sample_weight=[0.166666667, 0.166666667, 0.166666667, 0.166666667, 0.5, 0.5, 0.166666667, 0.166666667]\n",
    "                    ))"
   ]
  },
  {
   "cell_type": "code",
   "execution_count": 205,
   "id": "95b4b93d-fb65-48a3-8692-51938cb40185",
   "metadata": {},
   "outputs": [
    {
     "name": "stdout",
     "output_type": "stream",
     "text": [
      "Sci-kit Balanced Accuracy\n",
      "0.5\n"
     ]
    }
   ],
   "source": [
    "print('Sci-kit Balanced Accuracy')\n",
    "print(balanced_accuracy_score([0, 0, 0, 0, 1, 1, 0, 0],\n",
    "                              [0, 0, 0, 0, 0, 0, 0, 0]))"
   ]
  },
  {
   "cell_type": "code",
   "execution_count": 212,
   "id": "c6cacb5c-b9a2-4c55-bfda-6d32febb3e79",
   "metadata": {},
   "outputs": [
    {
     "name": "stdout",
     "output_type": "stream",
     "text": [
      "Final result:  1.0\n",
      "Final result:  1.0\n",
      "Final result:  1.0\n",
      "Final result:  1.0\n",
      "Final result:  0.57142854\n",
      "Final result:  0.4\n",
      "Final result:  0.45454547\n",
      "Final result:  0.5\n"
     ]
    }
   ],
   "source": [
    "m = tf.keras.metrics.BinaryAccuracy()\n",
    "m.update_state([0], [0.007643253], sample_weight=[[0.166666667]])\n",
    "print('Final result: ', m.result().numpy())  # Final result: 0.75\n",
    "\n",
    "m.update_state([0], [0.007643253], sample_weight=[[0.166666667]])\n",
    "print('Final result: ', m.result().numpy())  # Final result: 0.75\n",
    "\n",
    "m.update_state([0], [0.007150322], sample_weight=[[0.166666667]])\n",
    "print('Final result: ', m.result().numpy())  # Final result: 0.75\n",
    "\n",
    "m.update_state([0], [0.007214129], sample_weight=[[0.166666667]])\n",
    "print('Final result: ', m.result().numpy())  # Final result: 0.75\n",
    "\n",
    "m.update_state([1], [0.007185578], sample_weight=[[0.5]])\n",
    "print('Final result: ', m.result().numpy())  # Final result: 0.75\n",
    "\n",
    "m.update_state([1], [0.007290155], sample_weight=[[0.5]])\n",
    "print('Final result: ', m.result().numpy())  # Final result: 0.75\n",
    "\n",
    "m.update_state([0], [0.007442087], sample_weight=[[0.166666667]])\n",
    "print('Final result: ', m.result().numpy())  # Final result: 0.75\n",
    "\n",
    "m.update_state([0], [0.007589459], sample_weight=[[0.166666667]])\n",
    "print('Final result: ', m.result().numpy())  # Final result: 0.75"
   ]
  },
  {
   "cell_type": "code",
   "execution_count": 108,
   "id": "39d72847-789d-4b9d-b7d0-777b2990340f",
   "metadata": {},
   "outputs": [],
   "source": [
    "weights = []\n",
    "for i in np.concatenate(y_trues).reshape(169):\n",
    "    if i == 0:\n",
    "        weights.append(160/173)\n",
    "    else:\n",
    "        weights.append(13/173)"
   ]
  },
  {
   "cell_type": "code",
   "execution_count": 110,
   "id": "7dcb75f3-f2d6-4455-8cb6-7c587bfb0610",
   "metadata": {},
   "outputs": [],
   "source": [
    "from keras.utils import metrics_utils\n",
    "from keras.utils import losses_utils\n",
    "from keras.metrics import MeanMetricWrapper\n",
    "from keras.metrics import Reduce"
   ]
  },
  {
   "cell_type": "code",
   "execution_count": 111,
   "id": "7069eb70-849b-46aa-9676-e0e122994e65",
   "metadata": {},
   "outputs": [],
   "source": [
    "m = tf.keras.metrics.BinaryAccuracy()\n",
    "r = Reduce(\n",
    "    MeanMetricWrapper(m._fn).reduction,\n",
    "    MeanMetricWrapper(m._fn).name\n",
    ")\n",
    "total = r.total\n",
    "count = r.count\n",
    "\n",
    "# https://github.com/keras-team/keras/blob/07e13740fd181fc3ddec7d9a594d8a08666645f6/keras/metrics/base_metric.py#L616\n",
    "# update_state\n",
    "y_true = y_trues[0]\n",
    "y_pred = y_preds[0]\n",
    "sample_weight = weights[0]\n",
    "threshold = 0.5\n",
    "\n",
    "y_true = tf.cast(y_true, 'float32')\n",
    "y_pred = tf.cast(y_pred, 'float32')\n",
    "[y_true, y_pred], sample_weight = (\n",
    "    metrics_utils.ragged_assert_compatible_and_get_flat_values(\n",
    "        [y_true, y_pred], sample_weight))\n",
    "y_pred, y_true = losses_utils.squeeze_or_expand_dimensions(\n",
    "    y_pred, y_true)\n",
    "\n",
    "ag_fn = tf.__internal__.autograph.tf_convert(m._fn, tf.__internal__.autograph.control_status_ctx())\n",
    "matches = ag_fn(y_true, y_pred, **m._fn_kwargs)\n",
    "values = matches"
   ]
  },
  {
   "cell_type": "code",
   "execution_count": null,
   "id": "1ad38ae0-f9dd-4511-b3a9-3e4d6d933a99",
   "metadata": {
    "tags": []
   },
   "outputs": [],
   "source": [
    "# Explainer on how to get matches / values using ag_fn's binary_accuracy function\n",
    "# https://github.com/keras-team/keras/blob/v2.9.0/keras/metrics/metrics.py#L3240\n",
    "# https://github.com/keras-team/keras/blob/07e13740fd181fc3ddec7d9a594d8a08666645f6/keras/utils/metrics_utils.py#L844\n",
    "y_pred = tf.convert_to_tensor(y_pred)\n",
    "threshold = tf.cast(threshold, y_pred.dtype)\n",
    "y_pred = tf.cast(y_pred > threshold, y_pred.dtype)\n",
    "binary_matches = tf.cast(tf.equal(y_true, y_pred), K.floatx())\n",
    "tf.reduce_mean(binary_matches, axis=-1)"
   ]
  },
  {
   "cell_type": "code",
   "execution_count": 112,
   "id": "6e3689fa-e139-4456-b557-4d097f6f142e",
   "metadata": {},
   "outputs": [
    {
     "data": {
      "text/plain": [
       "<tf.Tensor: shape=(), dtype=float32, numpy=0.75>"
      ]
     },
     "execution_count": 112,
     "metadata": {},
     "output_type": "execute_result"
    }
   ],
   "source": [
    "m = tf.keras.metrics.BinaryAccuracy()\n",
    "r = Reduce(\n",
    "    MeanMetricWrapper(m._fn).reduction,\n",
    "    MeanMetricWrapper(m._fn).name\n",
    ")\n",
    "total = r.total\n",
    "count = r.count\n",
    "\n",
    "# https://github.com/keras-team/keras/blob/07e13740fd181fc3ddec7d9a594d8a08666645f6/keras/metrics/base_metric.py#L401\n",
    "# update_state cont.\n",
    "[values], sample_weight = \\\n",
    "    metrics_utils.ragged_assert_compatible_and_get_flat_values(\n",
    "        [values], sample_weight)\n",
    "values = tf.cast(values, 'float32')\n",
    "\n",
    "# Incorporate weight\n",
    "if sample_weight is not None:\n",
    "    sample_weight = tf.cast(sample_weight, 'float32')\n",
    "    \n",
    "    values, _, sample_weight = losses_utils.squeeze_or_expand_dimensions(\n",
    "            values, sample_weight=sample_weight)\n",
    "    \n",
    "    sample_weight = tf.__internal__.ops.broadcast_weights(\n",
    "                sample_weight, values)\n",
    "    \n",
    "    values = tf.multiply(values, sample_weight)\n",
    "\n",
    "value_sum = tf.reduce_sum(values)\n",
    "\n",
    "with tf.control_dependencies([value_sum]):\n",
    "    update_total_op = total.assign_add(value_sum)\n",
    "    \n",
    "if sample_weight is None:\n",
    "    num_values = tf.cast(tf.size(values), 'float32')\n",
    "else:\n",
    "    num_values = tf.reduce_sum(sample_weight)\n",
    "    \n",
    "with tf.control_dependencies([update_total_op]):\n",
    "    count.assign_add(num_values)\n",
    "\n",
    "# result\n",
    "tf.math.divide_no_nan(total, count)"
   ]
  },
  {
   "cell_type": "code",
   "execution_count": null,
   "id": "8b45064e-4485-402e-9901-8a2eee12866d",
   "metadata": {},
   "outputs": [],
   "source": [
    "total"
   ]
  },
  {
   "cell_type": "code",
   "execution_count": null,
   "id": "7b320266-cbac-486b-8240-0c555dc8a518",
   "metadata": {},
   "outputs": [],
   "source": [
    "count"
   ]
  },
  {
   "cell_type": "code",
   "execution_count": null,
   "id": "eab4d4d2-16b8-4c89-a417-12e53df41ce3",
   "metadata": {},
   "outputs": [],
   "source": [
    "def compute_weight(y_true, y_pred):\n",
    "    y_true = tf.convert_to_tensor(y_true)\n",
    "    y_pred = tf.convert_to_tensor(y_pred)\n",
    "\n",
    "    y_flat = y_true\n",
    "    if y_true.shape.ndims == y_pred.shape.ndims:\n",
    "        y_flat = tf.squeeze(y_flat, axis=[-1])\n",
    "    y_true_int = tf.cast(y_flat, tf.int32)\n",
    "    # print(y_true_int)\n",
    "\n",
    "    cls_counts = tf.math.bincount(y_true_int)\n",
    "    # print(cls_counts)\n",
    "    cls_counts = tf.math.reciprocal_no_nan(tf.cast(cls_counts, 'float32'))\n",
    "    # print(cls_counts)\n",
    "    weight = tf.gather(cls_counts, y_true_int)\n",
    "    # print(f'weight: {weight}')\n",
    "    ratio = cls_counts\n",
    "    return weight, ratio"
   ]
  },
  {
   "cell_type": "code",
   "execution_count": null,
   "id": "06e18398-4665-4764-b04c-a092d6cae943",
   "metadata": {
    "tags": []
   },
   "outputs": [],
   "source": [
    "# m = BalancedSparseCategoricalAccuracy()\n",
    "m = tf.keras.metrics.BinaryAccuracy()\n",
    "y_trues = []\n",
    "y_preds = []\n",
    "weights = []\n",
    "for input, label in single_step_window.test(REMOVE_WEARING_OFF_IN_PREVIOUS_STEP):\n",
    "    y_true = label\n",
    "    y_trues.append(y_true.numpy())\n",
    "    print(f'Label: { [y_t for y_t in y_true.numpy().reshape(y_true.numpy().shape[0]) ]}')\n",
    "    \n",
    "    y_pred = linear(input)\n",
    "    y_preds.append(y_pred.numpy())\n",
    "    print(f'Predictions: {  [y_p for y_p in y_pred.numpy().reshape(y_pred.numpy().shape[0]) ]}')\n",
    "    \n",
    "    THRESHOLD = 0.5\n",
    "    cm = confusion_matrix(y_true.numpy().reshape(y_true.shape[0]),\n",
    "                          y_pred.numpy().reshape(y_pred.shape[0]) > THRESHOLD)\n",
    "    print(f'CM: {cm}')\n",
    "    \n",
    "    weight, ratio = compute_weight(y_true, y_pred)\n",
    "    weights.append(weight)\n",
    "    print(ratio)\n",
    "    \n",
    "    m.update_state(y_true, y_pred, sample_weight=weight)\n",
    "    print(f'result: {m.result().numpy()}')\n",
    "    print()\n",
    "    \n",
    "# y_trues = np.concatenate(y_trues)\n",
    "# y_preds = np.concatenate(y_preds)"
   ]
  }
 ],
 "metadata": {
  "kernelspec": {
   "display_name": "Python 3 (ipykernel)",
   "language": "python",
   "name": "python3"
  },
  "language_info": {
   "codemirror_mode": {
    "name": "ipython",
    "version": 3
   },
   "file_extension": ".py",
   "mimetype": "text/x-python",
   "name": "python",
   "nbconvert_exporter": "python",
   "pygments_lexer": "ipython3",
   "version": "3.9.7"
  }
 },
 "nbformat": 4,
 "nbformat_minor": 5
}
