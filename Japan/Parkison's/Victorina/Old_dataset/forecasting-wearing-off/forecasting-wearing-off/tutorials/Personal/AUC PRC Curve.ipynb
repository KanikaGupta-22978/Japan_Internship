{
 "cells": [
  {
   "cell_type": "code",
   "execution_count": null,
   "id": "7fbdf1a1-7c66-4c46-b226-9cf2b0058465",
   "metadata": {},
   "outputs": [],
   "source": [
    "model = linear\n",
    "single_window = single_step_window\n",
    "\n",
    "predictions = []\n",
    "labels = []\n",
    "for input, label in single_window.test(remove_target_column_from_input=REMOVE_WEARING_OFF_IN_PREVIOUS_STEP):\n",
    "    output = model(input).numpy()\n",
    "    predictions += list(output.reshape( output.shape[0] ))\n",
    "\n",
    "    l = label.numpy()\n",
    "    labels += list(l.reshape( l.shape[0] ))\n",
    "predictions = np.array(predictions)\n",
    "labels = np.array(labels)"
   ]
  },
  {
   "cell_type": "markdown",
   "id": "8de9e7eb-1bfc-4a13-a0ef-a91ae330784b",
   "metadata": {
    "jp-MarkdownHeadingCollapsed": true,
    "tags": []
   },
   "source": [
    "# Precision-Recall Curve"
   ]
  },
  {
   "cell_type": "code",
   "execution_count": null,
   "id": "ee45e455-0b3b-4c05-b4f1-2f201091e700",
   "metadata": {},
   "outputs": [],
   "source": [
    "from sklearn.metrics import precision_recall_curve\n",
    "# calculate pr-curve\n",
    "precision, recall, thresholds = precision_recall_curve(labels, predictions)\n",
    "# plot the roc curve for the model\n",
    "no_skill = len(labels[labels==1]) / len(labels)\n",
    "plt.plot([0,1], [no_skill,no_skill], linestyle='--', label='No Skill')\n",
    "plt.plot(recall, precision, marker='.', label='Logistic')\n",
    "# axis labels\n",
    "plt.xlabel('Recall')\n",
    "plt.ylabel('Precision')\n",
    "plt.legend()\n",
    "# show the plot\n",
    "plt.show()"
   ]
  },
  {
   "cell_type": "markdown",
   "id": "4d1a31af-9a49-41fc-9091-5542d960b81d",
   "metadata": {
    "tags": []
   },
   "source": [
    "# AUC-ROC Curve"
   ]
  },
  {
   "cell_type": "code",
   "execution_count": null,
   "id": "fea4dfa5-8404-4572-84af-7dfaaee8f3c2",
   "metadata": {},
   "outputs": [],
   "source": [
    "from sklearn.metrics import roc_curve\n",
    "fpr, tpr, thresholds = roc_curve(labels, predictions)\n",
    "# plot the roc curve for the model\n",
    "plt.plot([0,1], [0,1], linestyle='--', label='No Skill')\n",
    "plt.plot(fpr, tpr, marker='.', label='Logistic')\n",
    "# axis labels\n",
    "plt.xlabel('False Positive Rate')\n",
    "plt.ylabel('True Positive Rate')\n",
    "plt.legend()\n",
    "# show the plot\n",
    "plt.show()"
   ]
  }
 ],
 "metadata": {
  "kernelspec": {
   "display_name": "Python 3",
   "language": "python",
   "name": "python3"
  },
  "language_info": {
   "codemirror_mode": {
    "name": "ipython",
    "version": 3
   },
   "file_extension": ".py",
   "mimetype": "text/x-python",
   "name": "python",
   "nbconvert_exporter": "python",
   "pygments_lexer": "ipython3",
   "version": "3.8.10"
  },
  "vscode": {
   "interpreter": {
    "hash": "916dbcbb3f70747c44a77c7bcd40155683ae19c65e1c03b4aa3499c5328201f1"
   }
  }
 },
 "nbformat": 4,
 "nbformat_minor": 5
}
