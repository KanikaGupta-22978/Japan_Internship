{
 "cells": [
  {
   "cell_type": "markdown",
   "id": "b64068e2-54d2-4992-8aeb-ce106f4279cd",
   "metadata": {},
   "source": [
    "# Load libraries, configuration"
   ]
  },
  {
   "cell_type": "code",
   "execution_count": 1,
   "id": "f6c85c8d-7e76-40ad-acd8-4fc80de20bca",
   "metadata": {},
   "outputs": [],
   "source": [
    "from pandas import read_csv\n",
    "from datetime import datetime\n",
    "from matplotlib import pyplot\n",
    "import pandas as pd"
   ]
  },
  {
   "cell_type": "code",
   "execution_count": 2,
   "id": "49575202-ac0a-43c7-8474-8e03cbfb5db1",
   "metadata": {},
   "outputs": [],
   "source": [
    "user = 'participant2'\n",
    "interval = '15min'\n",
    "\n",
    "columns = [ 'timestamp', 'heart_rate', 'steps', 'stress_score',\n",
    "            'awake', 'deep', 'light', 'rem', \n",
    "           'nonrem_total', 'total', 'nonrem_percentage', 'sleep_efficiency']\n",
    "\n",
    "# Include FonLog data\n",
    "columns += ['time_from_last_drug_taken'] #, 'wo_duration']\n",
    "\n",
    "# Additional data\n",
    "columns += ['timestamp_hour', 'timestamp_dayofweek']\n",
    "\n",
    "# 'wearing_off' | 'wearing_off_post_meds' | 'wearing_off_lead60'\n",
    "target_column = 'wearing_off' \n",
    "columns.append(target_column)"
   ]
  },
  {
   "cell_type": "code",
   "execution_count": null,
   "id": "f1d6af71-b0e1-49da-a3da-b125bf84a271",
   "metadata": {},
   "outputs": [],
   "source": [
    "participant_dictionary = {\n",
    "    #     'participant1': {\n",
    "    #         'name': 'mori-san',\n",
    "    #         'fonlog_id': 5,\n",
    "    #         'start_date': '2021-02-23',        # start date '2021-11-25'\n",
    "    #         'end_date_plus_one': '2021-03-24', # actual end date '2021-11-29'\n",
    "    #         'end_date_plus_two': '2021-03-25'  # boundary excluding specified date '2021-11-30'\n",
    "    #     },\n",
    "    #     'participant2': {\n",
    "    #         'name': 'iwai-san',\n",
    "    #         'fonlog_id': 6,\n",
    "    #         'start_date': '2021-02-23',        # '2021-11-24'\n",
    "    #         'end_date_plus_one': '2021-03-24', # '2021-11-29'\n",
    "    #         'end_date_plus_two': '2021-03-25'  # '2021-11-30'\n",
    "    #     },\n",
    "    'participant1': {\n",
    "        'name': 'mori-san',\n",
    "        'fonlog_id': 5,\n",
    "        'start_date': '2021-11-25',        # start date '2021-11-25'\n",
    "        'end_date_plus_one': '2021-12-03', # actual end date '2021-11-29'\n",
    "        'end_date_plus_two': '2021-12-04'  # boundary excluding specified date '2021-11-30'\n",
    "    },\n",
    "    'participant2': {\n",
    "        'name': 'iwai-san',\n",
    "        'fonlog_id': 6,\n",
    "        'start_date': '2021-11-24',        # '2021-11-24'\n",
    "        'end_date_plus_one': '2021-11-29', # '2021-11-29'\n",
    "        'end_date_plus_two': '2021-11-30'  # '2021-11-30'\n",
    "    },\n",
    "    'participant3': {\n",
    "        'name': 'ushijima-san', # Shibata Lab 13\n",
    "        'fonlog_id': 7,\n",
    "        'start_date': '2021-11-17',\n",
    "        'end_date_plus_one': '2021-11-26', # 10 days\n",
    "        'end_date_plus_two': '2021-11-27'\n",
    "    },\n",
    "    'participant4': {\n",
    "        'name': 'haneji-san', # Shibata Lab 14\n",
    "        'fonlog_id': 8,\n",
    "        'start_date': '2021-11-28',\n",
    "        'end_date_plus_one': '2021-12-07', # 11 days\n",
    "        'end_date_plus_two': '2021-12-08'\n",
    "    },\n",
    "    'participant5': {\n",
    "        'name': 'nakazawa-san', # Shibata Lab 15\n",
    "        'fonlog_id': 9,\n",
    "        'start_date': '2021-11-22',\n",
    "        'end_date_plus_one': '2021-11-29', # 9 days\n",
    "        'end_date_plus_two': '2021-11-30'\n",
    "    },\n",
    "    'participant6': {\n",
    "        'name': 'inoue-san', # Shibata Lab 16\n",
    "        'fonlog_id': 10,\n",
    "        'start_date': '2021-11-29',\n",
    "        'end_date_plus_one': '2021-12-07', # 11 days\n",
    "        'end_date_plus_two': '2021-12-08'\n",
    "    },\n",
    "    'participant7': {\n",
    "        'name': 'sugimoto-san', # Shibata Lab 17\n",
    "        'fonlog_id': 11,\n",
    "        'start_date': '2021-12-09',\n",
    "        'end_date_plus_one': '2021-12-14', # 6 days\n",
    "        'end_date_plus_two': '2021-12-15'\n",
    "    },\n",
    "    'participant8': {\n",
    "        'name': 'uozumi-sensei1', # Shibata Lab 18\n",
    "        'fonlog_id': 12,\n",
    "        'start_date': '2021-12-14',\n",
    "        'end_date_plus_one': '2021-12-24', # 11 days\n",
    "        'end_date_plus_two': '2021-12-25'\n",
    "    },\n",
    "    'participant9': {\n",
    "        'name': 'uozumi-sensei2', # Shibata Lab 19\n",
    "        'fonlog_id': 13,\n",
    "        'start_date': '2021-12-14',\n",
    "        'end_date_plus_one': '2021-12-24', # 11 days\n",
    "        'end_date_plus_two': '2021-12-25'\n",
    "    },\n",
    "    'participant10': {\n",
    "        'name': 'uozumi-sensei3', # Shibata Lab 20\n",
    "        'fonlog_id': 14,\n",
    "        'start_date': '2021-12-15',\n",
    "        'end_date_plus_one': '2021-12-24', # 10 days\n",
    "        'end_date_plus_two': '2021-12-25'\n",
    "    }\n",
    "}"
   ]
  },
  {
   "cell_type": "markdown",
   "id": "a6b87684-af0b-4aec-8983-2e17bc879260",
   "metadata": {},
   "source": [
    "# Load Data"
   ]
  },
  {
   "cell_type": "code",
   "execution_count": null,
   "id": "95bfc6c5-d41c-4999-b417-0af66b8e5fc1",
   "metadata": {},
   "outputs": [],
   "source": [
    "dataset = pd.read_excel(f'./data/4-combined_data_{user}_{interval}.xlsx',\n",
    "                              index_col=\"timestamp\",\n",
    "                              usecols=columns,\n",
    "                              engine='openpyxl')\n",
    "dataset.fillna(0, inplace=True)\n",
    "dataset = dataset.loc[\n",
    "    (dataset.index >= participant_dictionary[user]['start_date']) &\n",
    "    (dataset.index < participant_dictionary[user]['end_date_plus_two'])\n",
    "]"
   ]
  },
  {
   "cell_type": "markdown",
   "id": "c6f0e42c-49f3-46e8-8d27-4eff6f9a91be",
   "metadata": {},
   "source": [
    "# Visualize Data"
   ]
  },
  {
   "cell_type": "code",
   "execution_count": null,
   "id": "149a0df0-6a02-4a17-a051-6ed12e2613c4",
   "metadata": {},
   "outputs": [],
   "source": [
    "for index, value in enumerate(dataset.columns):\n",
    "    print(f'{index}: {value}')"
   ]
  },
  {
   "cell_type": "code",
   "execution_count": null,
   "id": "a42d1329-f4fd-4884-9a40-7c6123f8f23f",
   "metadata": {},
   "outputs": [],
   "source": [
    "values = dataset.values\n",
    "\n",
    "# specify columns to plot\n",
    "groups = [0, 1, 2, 3, 4, 5, 6, 7, 8, 9, 10, 12]\n",
    "i = 1\n",
    "# plot each column\n",
    "pyplot.figure(figsize=(25,10))\n",
    "for group in groups:\n",
    "    ax = pyplot.subplot(len(groups), 1, i)\n",
    "    pyplot.fill_between(list(range(len(dataset))), 0, 200, where=dataset.wearing_off, alpha=0.4, color=\"red\", transform=ax.get_xaxis_transform())\n",
    "    pyplot.plot(values[:, group])\n",
    "    pyplot.title(dataset.columns[group], y=0.5, loc='right')\n",
    "    i += 1\n",
    "pyplot.show()"
   ]
  },
  {
   "cell_type": "markdown",
   "id": "277f621e-856e-46ad-88e7-fabe6d19ef52",
   "metadata": {},
   "source": [
    "# Transform Data to Supervised Learning Problem Data"
   ]
  },
  {
   "cell_type": "code",
   "execution_count": null,
   "id": "6188e078-496d-46a1-8fa1-19ebb521179c",
   "metadata": {},
   "outputs": [],
   "source": [
    "from pandas import read_csv\n",
    "from pandas import DataFrame\n",
    "from pandas import concat\n",
    "from sklearn.preprocessing import LabelEncoder, MinMaxScaler"
   ]
  },
  {
   "cell_type": "code",
   "execution_count": null,
   "id": "e7ed7646-ee02-46a6-bcaa-1873ad19a367",
   "metadata": {
    "tags": []
   },
   "outputs": [],
   "source": [
    "# convert series to supervised learning\n",
    "def series_to_supervised(data, n_in=1, n_out=1, dropnan=True):\n",
    "    var_names = data.columns\n",
    "    n_vars = len(var_names)\n",
    "    df = DataFrame(data)\n",
    "    cols, names = list(), list() # new column values, new columne names\n",
    "    \n",
    "    # input sequence (t-i, ... t-1)\n",
    "    # timesteps before (e.g., n_in = 3, t-3, t-2, t-1)\n",
    "    for i in range(n_in, 0, -1):\n",
    "        cols.append(df.shift(i))\n",
    "        names += list(\n",
    "            map(lambda var_name: f'{var_name}(t-{i})', var_names)\n",
    "        )\n",
    "        \n",
    "    # forecast sequence (t, t+1, ... t+n)\n",
    "    # timesteps after (e.g., n_out = 3, t, t+1, t+2)\n",
    "    for i in range(0, n_out):\n",
    "        cols.append(df.shift(-i))\n",
    "        if i == 0:\n",
    "            names += list( map(lambda var_name: f'{var_name}(t)', var_names) )\n",
    "        else:\n",
    "            names += list( map(lambda var_name: f'{var_name}(t+{i})', var_names) )\n",
    "\n",
    "    # put it all together\n",
    "    agg = concat(cols, axis=1)\n",
    "    agg.columns = names\n",
    "    \n",
    "    # drop rows with NaN values\n",
    "    if dropnan:\n",
    "        agg.dropna(inplace=True)\n",
    "\n",
    "    return agg"
   ]
  },
  {
   "cell_type": "code",
   "execution_count": null,
   "id": "63404234-73f7-4b94-8b91-1737f03b059c",
   "metadata": {},
   "outputs": [],
   "source": [
    "# ensure all data is float\n",
    "dataset = dataset.astype('float32')"
   ]
  },
  {
   "cell_type": "markdown",
   "id": "2521f659-23b4-4f08-9436-a3163dcb7061",
   "metadata": {},
   "source": [
    "Guide for the series_to_supervised(n_in, n_out)\n",
    "$$\n",
    "\\frac{\\text{1 row}}{\\text{15 minutes}} \\cdot \\frac{\\text{1440 minutes}}{\\text{1 day}} = 96\n",
    "$$"
   ]
  },
  {
   "cell_type": "code",
   "execution_count": null,
   "id": "a2e3a2fb-c56e-44b6-be49-916af0d7e05d",
   "metadata": {},
   "outputs": [],
   "source": [
    "# frame as supervised learning\n",
    "reframed = series_to_supervised(dataset, 96, 1)"
   ]
  },
  {
   "cell_type": "code",
   "execution_count": null,
   "id": "a5086ec0-6369-47ba-89af-e1d7d622776f",
   "metadata": {
    "tags": []
   },
   "outputs": [],
   "source": [
    "# for index, value in enumerate(reframed.columns):\n",
    "#     print(f'{index}: {value}')"
   ]
  },
  {
   "cell_type": "code",
   "execution_count": null,
   "id": "134e7dd5-6915-4848-93f4-203dc92937f0",
   "metadata": {},
   "outputs": [],
   "source": [
    "# 1440: heart_rate(t)\n",
    "# 1441: steps(t)\n",
    "# 1442: stress_score(t)\n",
    "# 1443: awake(t)\n",
    "# 1444: deep(t)\n",
    "# 1445: light(t)\n",
    "# 1446: rem(t)\n",
    "# 1447: nonrem_total(t)\n",
    "# 1448: total(t)\n",
    "# 1449: nonrem_percentage(t)\n",
    "# 1450: sleep_efficiency(t)\n",
    "# 1451: wearing_off(t)\n",
    "# 1452: time_from_last_drug_taken(t)\n",
    "# 1453: timestamp_hour(t)\n",
    "# 1454: timestamp_dayofweek(t)\n",
    "\n",
    "# drop columns we don't want to predict\n",
    "reframed.drop(reframed.columns[[1440,1441,1442,1443,1444,1445,1446,1447,1448,1449,1450,1452,1453,1454]], axis=1, inplace=True)\n",
    "display(reframed.head())\n",
    "display(reframed.shape)"
   ]
  },
  {
   "cell_type": "code",
   "execution_count": null,
   "id": "50c8e0ef-cc5e-4ebe-a041-8110e5f4ccfc",
   "metadata": {},
   "outputs": [],
   "source": [
    "print(len(dataset) / 4 / 24)\n",
    "print(len(reframed) / 4 / 24)"
   ]
  },
  {
   "cell_type": "code",
   "execution_count": null,
   "id": "8d3e5b66-2580-4702-bfb8-92e6be65d354",
   "metadata": {
    "tags": []
   },
   "outputs": [],
   "source": [
    "# normalize features\n",
    "scaler = MinMaxScaler(feature_range=(0, 1))\n",
    "reframed = DataFrame(\n",
    "    scaler.fit_transform(reframed),\n",
    "    columns = reframed.columns,\n",
    "    index = reframed.index\n",
    ")\n",
    "reframed"
   ]
  },
  {
   "cell_type": "markdown",
   "id": "f2616cd7-7035-4a9d-9b7e-f830c477aa6c",
   "metadata": {},
   "source": [
    "# Prepare training & test dataset"
   ]
  },
  {
   "cell_type": "code",
   "execution_count": null,
   "id": "61fe9e55-eaf0-48b4-ba27-97f7a4a0478a",
   "metadata": {},
   "outputs": [],
   "source": [
    "from sklearn.model_selection import train_test_split"
   ]
  },
  {
   "cell_type": "code",
   "execution_count": null,
   "id": "969a703f-ac4c-4906-969f-6ba079751d3f",
   "metadata": {},
   "outputs": [],
   "source": [
    "# split into train & test sets\n",
    "# train, test = train_test_split(reframed, train_size=0.2, shuffle=False)\n",
    "# print(f'Train: {train.shape}')\n",
    "# print(f'Test: {test.shape}')\n",
    "\n",
    "train = reframed.iloc[:(len(reframed)-96*2), :]\n",
    "test = reframed.iloc[(len(reframed)-96*2):, :]\n",
    "\n",
    "print(f'Train: {train.shape}')\n",
    "print(f'Test: {test.shape}')"
   ]
  },
  {
   "cell_type": "code",
   "execution_count": null,
   "id": "f1ea423b-23fb-4569-9107-99e993f80b05",
   "metadata": {},
   "outputs": [],
   "source": [
    "print(f'Train: {len(train) / 4 / 24}')\n",
    "print(f'Test: {len(test) / 4 / 24}')"
   ]
  },
  {
   "cell_type": "code",
   "execution_count": null,
   "id": "15f5dfc7-f7d1-4ad6-b973-e93d58c7be63",
   "metadata": {},
   "outputs": [],
   "source": [
    "target_column = \"wearing_off(t)\"\n",
    "\n",
    "train_X, train_y = train.drop(target_column, axis=1), train[[target_column]]\n",
    "test_X, test_y = test.drop(target_column, axis=1), test[[target_column]]\n",
    "# or other way to write this, especially if there is a list of columns\n",
    "# train_X, train_y = train.loc[:, train.columns != target_column], train[[target_column]]\n",
    "# test_X, test_y = test.loc[:, test.columns != target_column], test.loc[:, [target_column]]"
   ]
  },
  {
   "cell_type": "code",
   "execution_count": null,
   "id": "a38e5c20-7244-4044-a273-693355e593d5",
   "metadata": {},
   "outputs": [],
   "source": [
    "# reshape input to be 3D [samples, timesteps, features]\n",
    "train_X = train_X.values.reshape(\n",
    "    ( train_X.shape[0], 1, train_X.shape[1] )\n",
    ")\n",
    "# train_y = train_y.values.reshape(\n",
    "#     ( train_y.shape[0] )\n",
    "# )\n",
    "\n",
    "test_X = test_X.values.reshape(\n",
    "    ( test_X.shape[0], 1, test_X.shape[1] )\n",
    ")\n",
    "# test_y = test_y.values.reshape(\n",
    "#     ( test_y.shape[0] )\n",
    "# )\n",
    "print(train_X.shape, train_y.shape, test_X.shape, test_y.shape)"
   ]
  },
  {
   "cell_type": "markdown",
   "id": "ead9d1cc-11aa-4ec2-8e26-c3c5e6180d27",
   "metadata": {},
   "source": [
    "# Define LSTM Model"
   ]
  },
  {
   "cell_type": "code",
   "execution_count": null,
   "id": "469c0ef2-40dd-4d27-882e-8cc000fa9d7d",
   "metadata": {},
   "outputs": [],
   "source": [
    "import tensorflow as tf\n",
    "tf.compat.v1.disable_v2_behavior()\n",
    "from tensorflow.python.keras.layers import Dense, LSTM\n",
    "from tensorflow.python.keras import Sequential\n",
    "from tensorflow.keras import optimizers\n",
    "from tensorflow.keras.losses import BinaryCrossentropy"
   ]
  },
  {
   "cell_type": "code",
   "execution_count": null,
   "id": "4badf98a-790d-4705-8eef-5b7a7769d7b3",
   "metadata": {},
   "outputs": [],
   "source": [
    "import tensorflow as tf\n",
    "tf.compat.v1.disable_v2_behavior()\n",
    "from keras.models import Sequential\n",
    "from keras.layers import Dense\n",
    "from keras.layers import LSTM\n",
    "from keras.losses import BinaryCrossentropy"
   ]
  },
  {
   "cell_type": "code",
   "execution_count": null,
   "id": "cc59e178-d553-476f-bdb1-b8cd2ebd28bc",
   "metadata": {},
   "outputs": [],
   "source": [
    "def get_lstm_model():\n",
    "    model = Sequential([\n",
    "        LSTM(50,\n",
    "            input_shape=(train_X.shape[1], train_X.shape[2])), # 1 time step w/ 8 features\n",
    "        Dense(units=1, activation='sigmoid')\n",
    "    ])\n",
    "    model.compile(optimizer='adam',\n",
    "                  loss=BinaryCrossentropy(from_logits=False),\n",
    "                  metrics=['accuracy'])\n",
    "    return model"
   ]
  },
  {
   "cell_type": "markdown",
   "id": "27b8a14d-8ff2-4d76-aad5-fe0633a914a7",
   "metadata": {},
   "source": [
    "# Fit LSTM model"
   ]
  },
  {
   "cell_type": "code",
   "execution_count": null,
   "id": "f53f3874-ac49-4e02-be1c-02618eae206a",
   "metadata": {},
   "outputs": [],
   "source": [
    "BATCH_SIZE = 96"
   ]
  },
  {
   "cell_type": "code",
   "execution_count": null,
   "id": "f5d9c935-794d-46d4-9ba4-26c133c01115",
   "metadata": {},
   "outputs": [],
   "source": [
    "model = get_lstm_model()\n",
    "history = model.fit(train_X, train_y,\n",
    "                    epochs = 10, batch_size = BATCH_SIZE,\n",
    "                    validation_data = ( test_X, test_y ),\n",
    "                    verbose = 1, shuffle = False)"
   ]
  },
  {
   "cell_type": "code",
   "execution_count": null,
   "id": "87764c59-b670-431c-a51f-b9bb5a5abbfd",
   "metadata": {},
   "outputs": [],
   "source": [
    "model.summary()"
   ]
  },
  {
   "cell_type": "code",
   "execution_count": null,
   "id": "252842c5-8b40-469b-8e31-52018bef1e4e",
   "metadata": {},
   "outputs": [],
   "source": [
    "%matplotlib widget\n",
    "# %matplotlib inline # to revert"
   ]
  },
  {
   "cell_type": "code",
   "execution_count": null,
   "id": "a5a8e758-0fdf-4b81-9d84-8cfa2589541f",
   "metadata": {},
   "outputs": [],
   "source": [
    "# plot history\n",
    "pyplot.plot(history.history['loss'], label='train')\n",
    "pyplot.plot(history.history['val_loss'], label='test')\n",
    "pyplot.title(\"Learning Curve Loss\")\n",
    "pyplot.legend()\n",
    "pyplot.show()"
   ]
  },
  {
   "cell_type": "markdown",
   "id": "38b773f6-e08d-4d3d-8087-3a76f3670801",
   "metadata": {},
   "source": [
    "# Evaluate model"
   ]
  },
  {
   "cell_type": "code",
   "execution_count": null,
   "id": "cdf004da-7584-4285-95ff-234e8e89f23a",
   "metadata": {},
   "outputs": [],
   "source": [
    "from numpy import concatenate\n",
    "from math import sqrt\n",
    "\n",
    "from sklearn.metrics import classification_report"
   ]
  },
  {
   "cell_type": "code",
   "execution_count": null,
   "id": "ad7faf18-1c62-4c1d-a050-77c68d0e0d55",
   "metadata": {},
   "outputs": [],
   "source": [
    "score, acc = model.evaluate(test_X, test_y,\n",
    "                            batch_size=BATCH_SIZE)\n",
    "print('Test score:', score)\n",
    "print('Test accuracy:', acc)"
   ]
  },
  {
   "cell_type": "code",
   "execution_count": null,
   "id": "2e497b47-fc61-4c8f-99c8-417a55d94d31",
   "metadata": {},
   "outputs": [],
   "source": [
    "# make prediction\n",
    "yhat = model.predict(test_X)\n",
    "yhat[yhat <= 0.5] = 0\n",
    "yhat[yhat > 0.5] = 1"
   ]
  },
  {
   "cell_type": "code",
   "execution_count": null,
   "id": "0bb64672-a1d3-4f9e-8d0d-a61f0326b8d9",
   "metadata": {},
   "outputs": [],
   "source": [
    "# invest scaling for forecast\n",
    "inv_yhat = concatenate(\n",
    "    ( \n",
    "        test_X.reshape( test_X.shape[0], test_X.shape[2] ),\n",
    "        yhat\n",
    "    ), axis = 1\n",
    ")\n",
    "inv_yhat = scaler.inverse_transform(inv_yhat)[:,-1]"
   ]
  },
  {
   "cell_type": "code",
   "execution_count": null,
   "id": "aaaf77b4-44de-44e6-95ed-02accaccdcfb",
   "metadata": {},
   "outputs": [],
   "source": [
    "# invert scaling for actual\n",
    "inv_y = concatenate(\n",
    "    ( \n",
    "        test_X.reshape( test_X.shape[0], test_X.shape[2] ),\n",
    "        test_y\n",
    "    ), axis = 1\n",
    ")\n",
    "inv_y = scaler.inverse_transform(inv_y)[:,-1]"
   ]
  },
  {
   "cell_type": "code",
   "execution_count": null,
   "id": "f1f86855-0982-48c7-8ada-e78ecf416638",
   "metadata": {},
   "outputs": [],
   "source": [
    "print(classification_report(inv_y, inv_yhat))"
   ]
  },
  {
   "cell_type": "code",
   "execution_count": null,
   "id": "2d42c95d-c533-4ee1-84e9-f5ab147153ca",
   "metadata": {},
   "outputs": [],
   "source": [
    "from sklearn.metrics import auc, roc_curve\n",
    "\n",
    "fpr, tpr, thresholds = roc_curve(inv_y, inv_yhat)\n",
    "auc(fpr, tpr)"
   ]
  },
  {
   "cell_type": "code",
   "execution_count": null,
   "id": "4ff1737e-c3e6-4765-ad1d-eb0446bfd1d1",
   "metadata": {},
   "outputs": [],
   "source": [
    "len(reframed) / 4 / 24"
   ]
  },
  {
   "cell_type": "code",
   "execution_count": null,
   "id": "28d754c9-657e-46b0-be06-e23bb32523be",
   "metadata": {},
   "outputs": [],
   "source": [
    "print(f'Train: {len(train) / 4 / 24}')\n",
    "print(f'Test: {len(test) / 4 / 24}')"
   ]
  },
  {
   "cell_type": "code",
   "execution_count": null,
   "id": "6987c2a9-f3d6-4338-9493-8b87500b13b3",
   "metadata": {},
   "outputs": [],
   "source": [
    "model.summary()"
   ]
  },
  {
   "cell_type": "markdown",
   "id": "f043b9f4-42ff-4092-a6c7-0e44616992a6",
   "metadata": {},
   "source": [
    "# Feature Importance"
   ]
  },
  {
   "cell_type": "code",
   "execution_count": null,
   "id": "38d0de2b-d6c9-4aa8-984b-01153b652b15",
   "metadata": {},
   "outputs": [],
   "source": [
    "import shap"
   ]
  },
  {
   "cell_type": "code",
   "execution_count": null,
   "id": "dd5f6999-3fe6-44fd-81e5-5ed33dd34d13",
   "metadata": {},
   "outputs": [],
   "source": [
    "# we use the first 100 training examples as our background dataset to integrate over\n",
    "explainer = shap.DeepExplainer(model, train_X[:100])\n",
    "\n",
    "# explain the first 10 predictions\n",
    "# explaining each prediction requires 2 * background dataset size runs\n",
    "shap_values = explainer.shap_values(test_X[:10])"
   ]
  },
  {
   "cell_type": "code",
   "execution_count": null,
   "id": "93c28a9e-7fd0-4728-9b4f-4b9226f0fff2",
   "metadata": {},
   "outputs": [],
   "source": [
    "# init the JS visualization code\n",
    "shap.initjs()\n",
    "shap.force_plot(explainer.expected_value[0], shap_values[0].reshape(10,1440), reframed.loc[:, reframed.columns != target_column].columns)"
   ]
  }
 ],
 "metadata": {
  "kernelspec": {
   "display_name": "base",
   "language": "python",
   "name": "python3"
  },
  "language_info": {
   "codemirror_mode": {
    "name": "ipython",
    "version": 3
   },
   "file_extension": ".py",
   "mimetype": "text/x-python",
   "name": "python",
   "nbconvert_exporter": "python",
   "pygments_lexer": "ipython3",
   "version": "3.9.7"
  },
  "vscode": {
   "interpreter": {
    "hash": "d4d1e4263499bec80672ea0156c357c1ee493ec2b1c70f0acce89fc37c4a6abe"
   }
  }
 },
 "nbformat": 4,
 "nbformat_minor": 5
}
