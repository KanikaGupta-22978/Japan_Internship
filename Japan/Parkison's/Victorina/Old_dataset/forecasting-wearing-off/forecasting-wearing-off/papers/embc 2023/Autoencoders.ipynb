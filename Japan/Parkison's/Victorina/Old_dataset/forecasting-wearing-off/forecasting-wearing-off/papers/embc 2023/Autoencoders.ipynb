{
 "cells": [
  {
   "attachments": {},
   "cell_type": "markdown",
   "metadata": {},
   "source": [
    "# Introduction to Autoencoders"
   ]
  },
  {
   "attachments": {},
   "cell_type": "markdown",
   "metadata": {},
   "source": [
    "## Load libraries"
   ]
  },
  {
   "cell_type": "code",
   "execution_count": 96,
   "metadata": {},
   "outputs": [],
   "source": [
    "import pandas as pd\n",
    "import numpy as np\n",
    "import tensorflow as tf\n",
    "from keras import backend as K\n",
    "from tensorflow.keras.models import Model\n",
    "from tensorflow.keras.constraints import MaxNorm\n",
    "from tensorflow.keras import layers, losses\n",
    "\n",
    "from matplotlib import pyplot as plt\n",
    "\n",
    "from sklearn.model_selection import train_test_split, LeaveOneGroupOut\n",
    "from sklearn.metrics import accuracy_score, precision_score, recall_score, f1_score"
   ]
  },
  {
   "attachments": {},
   "cell_type": "markdown",
   "metadata": {},
   "source": [
    "## Load configuration"
   ]
  },
  {
   "cell_type": "code",
   "execution_count": 2,
   "metadata": {},
   "outputs": [],
   "source": [
    "# Garmin features\n",
    "features = ['heart_rate', 'steps', 'stress_score',\n",
    "           'awake', 'deep', 'light', 'rem', \n",
    "           'nonrem_total', 'total', 'nonrem_percentage', 'sleep_efficiency']\n",
    "\n",
    "# Additional features\n",
    "#   'timestamp_hour'\n",
    "features += ['timestamp_dayofweek', 'timestamp_hour_sin', 'timestamp_hour_cos']\n",
    "\n",
    "TARGET_COLUMN = 'wearing_off'\n",
    "features.append(TARGET_COLUMN)\n",
    "\n",
    "columns = ['timestamp'] + features + ['participant']"
   ]
  },
  {
   "attachments": {},
   "cell_type": "markdown",
   "metadata": {},
   "source": [
    "## Load data"
   ]
  },
  {
   "cell_type": "code",
   "execution_count": 4,
   "metadata": {},
   "outputs": [
    {
     "data": {
      "text/html": [
       "<div>\n",
       "<style scoped>\n",
       "    .dataframe tbody tr th:only-of-type {\n",
       "        vertical-align: middle;\n",
       "    }\n",
       "\n",
       "    .dataframe tbody tr th {\n",
       "        vertical-align: top;\n",
       "    }\n",
       "\n",
       "    .dataframe thead th {\n",
       "        text-align: right;\n",
       "    }\n",
       "</style>\n",
       "<table border=\"1\" class=\"dataframe\">\n",
       "  <thead>\n",
       "    <tr style=\"text-align: right;\">\n",
       "      <th></th>\n",
       "      <th>heart_rate</th>\n",
       "      <th>steps</th>\n",
       "      <th>stress_score</th>\n",
       "      <th>awake</th>\n",
       "      <th>deep</th>\n",
       "      <th>light</th>\n",
       "      <th>rem</th>\n",
       "      <th>nonrem_total</th>\n",
       "      <th>total</th>\n",
       "      <th>nonrem_percentage</th>\n",
       "      <th>sleep_efficiency</th>\n",
       "      <th>timestamp_hour_sin</th>\n",
       "      <th>timestamp_hour_cos</th>\n",
       "      <th>timestamp_dayofweek</th>\n",
       "      <th>wearing_off</th>\n",
       "      <th>participant</th>\n",
       "    </tr>\n",
       "    <tr>\n",
       "      <th>timestamp</th>\n",
       "      <th></th>\n",
       "      <th></th>\n",
       "      <th></th>\n",
       "      <th></th>\n",
       "      <th></th>\n",
       "      <th></th>\n",
       "      <th></th>\n",
       "      <th></th>\n",
       "      <th></th>\n",
       "      <th></th>\n",
       "      <th></th>\n",
       "      <th></th>\n",
       "      <th></th>\n",
       "      <th></th>\n",
       "      <th></th>\n",
       "      <th></th>\n",
       "    </tr>\n",
       "  </thead>\n",
       "  <tbody>\n",
       "    <tr>\n",
       "      <th>2021-11-25 00:00:00</th>\n",
       "      <td>-1.00</td>\n",
       "      <td>0.0</td>\n",
       "      <td>-1.0</td>\n",
       "      <td>-1.0</td>\n",
       "      <td>-1.0</td>\n",
       "      <td>-1.0</td>\n",
       "      <td>-1.0</td>\n",
       "      <td>-1.0</td>\n",
       "      <td>-1.0</td>\n",
       "      <td>-1.0</td>\n",
       "      <td>-1.0</td>\n",
       "      <td>-7.627160e-12</td>\n",
       "      <td>1.000000</td>\n",
       "      <td>3</td>\n",
       "      <td>0</td>\n",
       "      <td>1</td>\n",
       "    </tr>\n",
       "    <tr>\n",
       "      <th>2021-11-25 00:15:00</th>\n",
       "      <td>-1.00</td>\n",
       "      <td>0.0</td>\n",
       "      <td>-1.0</td>\n",
       "      <td>-1.0</td>\n",
       "      <td>-1.0</td>\n",
       "      <td>-1.0</td>\n",
       "      <td>-1.0</td>\n",
       "      <td>-1.0</td>\n",
       "      <td>-1.0</td>\n",
       "      <td>-1.0</td>\n",
       "      <td>-1.0</td>\n",
       "      <td>6.540313e-02</td>\n",
       "      <td>0.997859</td>\n",
       "      <td>3</td>\n",
       "      <td>0</td>\n",
       "      <td>1</td>\n",
       "    </tr>\n",
       "    <tr>\n",
       "      <th>2021-11-25 00:30:00</th>\n",
       "      <td>21.95</td>\n",
       "      <td>0.0</td>\n",
       "      <td>-0.4</td>\n",
       "      <td>-1.0</td>\n",
       "      <td>-1.0</td>\n",
       "      <td>-1.0</td>\n",
       "      <td>-1.0</td>\n",
       "      <td>-1.0</td>\n",
       "      <td>-1.0</td>\n",
       "      <td>-1.0</td>\n",
       "      <td>-1.0</td>\n",
       "      <td>1.305262e-01</td>\n",
       "      <td>0.991445</td>\n",
       "      <td>3</td>\n",
       "      <td>0</td>\n",
       "      <td>1</td>\n",
       "    </tr>\n",
       "    <tr>\n",
       "      <th>2021-11-25 00:45:00</th>\n",
       "      <td>60.25</td>\n",
       "      <td>0.0</td>\n",
       "      <td>12.4</td>\n",
       "      <td>-1.0</td>\n",
       "      <td>-1.0</td>\n",
       "      <td>-1.0</td>\n",
       "      <td>-1.0</td>\n",
       "      <td>-1.0</td>\n",
       "      <td>-1.0</td>\n",
       "      <td>-1.0</td>\n",
       "      <td>-1.0</td>\n",
       "      <td>1.950903e-01</td>\n",
       "      <td>0.980785</td>\n",
       "      <td>3</td>\n",
       "      <td>0</td>\n",
       "      <td>1</td>\n",
       "    </tr>\n",
       "    <tr>\n",
       "      <th>2021-11-25 01:00:00</th>\n",
       "      <td>10.60</td>\n",
       "      <td>0.0</td>\n",
       "      <td>-1.0</td>\n",
       "      <td>-1.0</td>\n",
       "      <td>-1.0</td>\n",
       "      <td>-1.0</td>\n",
       "      <td>-1.0</td>\n",
       "      <td>-1.0</td>\n",
       "      <td>-1.0</td>\n",
       "      <td>-1.0</td>\n",
       "      <td>-1.0</td>\n",
       "      <td>2.588190e-01</td>\n",
       "      <td>0.965926</td>\n",
       "      <td>3</td>\n",
       "      <td>0</td>\n",
       "      <td>1</td>\n",
       "    </tr>\n",
       "  </tbody>\n",
       "</table>\n",
       "</div>"
      ],
      "text/plain": [
       "                     heart_rate  steps  stress_score  awake  deep  light  rem  \\\n",
       "timestamp                                                                       \n",
       "2021-11-25 00:00:00       -1.00    0.0          -1.0   -1.0  -1.0   -1.0 -1.0   \n",
       "2021-11-25 00:15:00       -1.00    0.0          -1.0   -1.0  -1.0   -1.0 -1.0   \n",
       "2021-11-25 00:30:00       21.95    0.0          -0.4   -1.0  -1.0   -1.0 -1.0   \n",
       "2021-11-25 00:45:00       60.25    0.0          12.4   -1.0  -1.0   -1.0 -1.0   \n",
       "2021-11-25 01:00:00       10.60    0.0          -1.0   -1.0  -1.0   -1.0 -1.0   \n",
       "\n",
       "                     nonrem_total  total  nonrem_percentage  sleep_efficiency  \\\n",
       "timestamp                                                                       \n",
       "2021-11-25 00:00:00          -1.0   -1.0               -1.0              -1.0   \n",
       "2021-11-25 00:15:00          -1.0   -1.0               -1.0              -1.0   \n",
       "2021-11-25 00:30:00          -1.0   -1.0               -1.0              -1.0   \n",
       "2021-11-25 00:45:00          -1.0   -1.0               -1.0              -1.0   \n",
       "2021-11-25 01:00:00          -1.0   -1.0               -1.0              -1.0   \n",
       "\n",
       "                     timestamp_hour_sin  timestamp_hour_cos  \\\n",
       "timestamp                                                     \n",
       "2021-11-25 00:00:00       -7.627160e-12            1.000000   \n",
       "2021-11-25 00:15:00        6.540313e-02            0.997859   \n",
       "2021-11-25 00:30:00        1.305262e-01            0.991445   \n",
       "2021-11-25 00:45:00        1.950903e-01            0.980785   \n",
       "2021-11-25 01:00:00        2.588190e-01            0.965926   \n",
       "\n",
       "                     timestamp_dayofweek  wearing_off  participant  \n",
       "timestamp                                                           \n",
       "2021-11-25 00:00:00                    3            0            1  \n",
       "2021-11-25 00:15:00                    3            0            1  \n",
       "2021-11-25 00:30:00                    3            0            1  \n",
       "2021-11-25 00:45:00                    3            0            1  \n",
       "2021-11-25 01:00:00                    3            0            1  "
      ]
     },
     "metadata": {},
     "output_type": "display_data"
    },
    {
     "name": "stdout",
     "output_type": "stream",
     "text": [
      "(21792, 16)\n"
     ]
    }
   ],
   "source": [
    "dataframe = pd.read_excel('./data/4-combined_data.xlsx',\n",
    "                  index_col=\"timestamp\",\n",
    "                  usecols=columns,\n",
    "                  engine='openpyxl')\n",
    "\n",
    "# Fill missing data with 0\n",
    "dataframe.fillna(0, inplace=True)\n",
    "raw_data = dataframe.values\n",
    "display(dataframe.head())\n",
    "print(dataframe.shape)"
   ]
  },
  {
   "cell_type": "code",
   "execution_count": null,
   "metadata": {},
   "outputs": [],
   "source": [
    "# # Remove days without wearing-off record\n",
    "# #   * not sure whether there is no actual wearing-off periods that day\n",
    "# #   * or if there were actual wearing-off periods but not recorded\n",
    "# df.pivot_table(values='wearing_off', index=[\"participant\"], aggfunc='count')\n",
    "\n",
    "# df_day = df.resample('D').sum()\n",
    "# days_without_wearing_off = list(df_day.query('wearing_off != 0').index)\n",
    "# days_without_wearing_off = [day.date().strftime('%Y-%m-%d') for day in days_without_wearing_off]\n",
    "\n",
    "# df['date'] = pd.to_datetime(df.index.date)\n",
    "# df[df['date'].dt.date.astype(str).isin(days_without_wearing_off)].pivot_table(values='wearing_off', index=[\"participant\"], aggfunc='count')"
   ]
  },
  {
   "attachments": {},
   "cell_type": "markdown",
   "metadata": {},
   "source": [
    "## Split data"
   ]
  },
  {
   "cell_type": "code",
   "execution_count": 22,
   "metadata": {},
   "outputs": [
    {
     "name": "stdout",
     "output_type": "stream",
     "text": [
      "Fold 0:\n"
     ]
    }
   ],
   "source": [
    "# The 2nd to the last contains the labels (wearing-off)\n",
    "labels = raw_data[:, -2]\n",
    "\n",
    "# participant number aka groups\n",
    "groups = raw_data[:, -1]\n",
    "\n",
    "# The other data points are the Garmin data\n",
    "data = raw_data[:, 0:-2]\n",
    "\n",
    "# train_data, test_data, train_labels, test_labels = train_test_split(\n",
    "#     data, labels, test_size=0.2, random_state=21\n",
    "# )\n",
    "logo = LeaveOneGroupOut()\n",
    "for i, (train_index, test_index) in enumerate(logo.split(data, labels, groups)):\n",
    "    print(f\"Fold {i}:\")\n",
    "    # print(f\"  Train: index={train_index}, group={groups[train_index]}\")\n",
    "    # print(f\"  Test:  index={test_index}, group={groups[test_index]}\")\n",
    "    if (i == 0):\n",
    "        break\n",
    "\n",
    "train_data = data[train_index]\n",
    "train_labels = labels[train_index]\n",
    "test_data = data[test_index]\n",
    "test_labels = labels[test_index]"
   ]
  },
  {
   "attachments": {},
   "cell_type": "markdown",
   "metadata": {},
   "source": [
    "## Normalize data"
   ]
  },
  {
   "cell_type": "code",
   "execution_count": 29,
   "metadata": {},
   "outputs": [
    {
     "name": "stderr",
     "output_type": "stream",
     "text": [
      "2023-02-07 12:22:49.589774: W tensorflow/stream_executor/platform/default/dso_loader.cc:64] Could not load dynamic library 'libcuda.so.1'; dlerror: libcuda.so.1: cannot open shared object file: No such file or directory; LD_LIBRARY_PATH: /usr/local/nvidia/lib:/usr/local/nvidia/lib64\n",
      "2023-02-07 12:22:49.589916: W tensorflow/stream_executor/cuda/cuda_driver.cc:269] failed call to cuInit: UNKNOWN ERROR (303)\n",
      "2023-02-07 12:22:49.589972: I tensorflow/stream_executor/cuda/cuda_diagnostics.cc:156] kernel driver does not appear to be running on this host (0.0.0.0): /proc/driver/nvidia/version does not exist\n",
      "2023-02-07 12:22:49.591339: I tensorflow/core/platform/cpu_feature_guard.cc:142] This TensorFlow binary is optimized with oneAPI Deep Neural Network Library (oneDNN) to use the following CPU instructions in performance-critical operations:  AVX2 FMA\n",
      "To enable them in other operations, rebuild TensorFlow with the appropriate compiler flags.\n"
     ]
    }
   ],
   "source": [
    "# Normalize [0,1] using MinMax\n",
    "min_val = tf.reduce_min(train_data)\n",
    "max_val = tf.reduce_max(train_data)\n",
    "\n",
    "train_data = (train_data - min_val) / (max_val - min_val)\n",
    "test_data = (test_data - min_val) / (max_val - min_val)\n",
    "\n",
    "train_data = tf.cast(train_data, tf.float32)\n",
    "test_data = tf.cast(test_data, tf.float32)\n"
   ]
  },
  {
   "cell_type": "code",
   "execution_count": 30,
   "metadata": {},
   "outputs": [],
   "source": [
    "train_labels = train_labels.astype(bool)\n",
    "test_labels = test_labels.astype(bool)\n",
    "\n",
    "normal_train_data = train_data[train_labels]\n",
    "normal_test_data = test_data[test_labels]\n",
    "\n",
    "anomalous_train_data = train_data[~train_labels]\n",
    "anomalous_test_data = test_data[~test_labels]\n"
   ]
  },
  {
   "attachments": {},
   "cell_type": "markdown",
   "metadata": {},
   "source": [
    "## Visualize normal and anomalous ECG"
   ]
  },
  {
   "cell_type": "code",
   "execution_count": 83,
   "metadata": {},
   "outputs": [
    {
     "data": {
      "image/png": "[encoded data removed]",
      "text/plain": [
       "<Figure size 432x288 with 1 Axes>"
      ]
     },
     "metadata": {
      "needs_background": "light"
     },
     "output_type": "display_data"
    },
    {
     "data": {
      "image/png": "[encoded data removed]",
      "text/plain": [
       "<Figure size 432x288 with 1 Axes>"
      ]
     },
     "metadata": {
      "needs_background": "light"
     },
     "output_type": "display_data"
    }
   ],
   "source": [
    "# Plot normal ECG\n",
    "plt.grid()\n",
    "plt.plot(np.arange(14), normal_train_data[0])\n",
    "plt.title(\"A Normal Garmin Data\")\n",
    "plt.show()\n",
    "\n",
    "\n",
    "plt.grid()\n",
    "plt.plot(np.arange(14), anomalous_train_data[0])\n",
    "plt.title(\"An Wearing-Off Garmin Data\")\n",
    "plt.show()\n"
   ]
  },
  {
   "attachments": {},
   "cell_type": "markdown",
   "metadata": {},
   "source": [
    "## Build model"
   ]
  },
  {
   "cell_type": "code",
   "execution_count": 97,
   "metadata": {},
   "outputs": [],
   "source": [
    "K.clear_session()\n",
    "class AnomalyDetector(Model):\n",
    "  def __init__(self):\n",
    "    super(AnomalyDetector, self).__init__()\n",
    "    self.encoder = tf.keras.Sequential([\n",
    "      layers.Dense(32, activation=\"relu\", kernel_constraint=MaxNorm(3)),\n",
    "      layers.Dropout(0.2),\n",
    "      layers.Dense(16, activation=\"relu\", kernel_constraint=MaxNorm(3)),\n",
    "      layers.Dropout(0.2),\n",
    "      layers.Dense(8, activation=\"relu\", kernel_constraint=MaxNorm(3))\n",
    "    ])\n",
    "\n",
    "    self.decoder = tf.keras.Sequential([\n",
    "      layers.Dense(16, activation=\"relu\", kernel_constraint=MaxNorm(3)),\n",
    "      layers.Dropout(0.2),\n",
    "      layers.Dense(14, activation=\"sigmoid\")])\n",
    "\n",
    "  def call(self, x):\n",
    "    encoded = self.encoder(x)\n",
    "    decoded = self.decoder(encoded)\n",
    "    return decoded\n",
    "\n",
    "autoencoder = AnomalyDetector()"
   ]
  },
  {
   "cell_type": "code",
   "execution_count": 98,
   "metadata": {},
   "outputs": [],
   "source": [
    "autoencoder.compile(loss='mae',\n",
    "                    optimizer='adam')"
   ]
  },
  {
   "cell_type": "code",
   "execution_count": 100,
   "metadata": {},
   "outputs": [
    {
     "name": "stdout",
     "output_type": "stream",
     "text": [
      "Epoch 1/20\n",
      "151/151 [==============================] - 1s 4ms/step - loss: 0.2379 - val_loss: 0.0442\n",
      "Epoch 2/20\n",
      "151/151 [==============================] - 0s 3ms/step - loss: 0.0530 - val_loss: 0.0308\n",
      "Epoch 3/20\n",
      "151/151 [==============================] - 1s 4ms/step - loss: 0.0437 - val_loss: 0.0204\n",
      "Epoch 4/20\n",
      "151/151 [==============================] - 0s 3ms/step - loss: 0.0336 - val_loss: 0.0196\n",
      "Epoch 5/20\n",
      "151/151 [==============================] - 0s 3ms/step - loss: 0.0281 - val_loss: 0.0169\n",
      "Epoch 6/20\n",
      "151/151 [==============================] - 0s 3ms/step - loss: 0.0254 - val_loss: 0.0174\n",
      "Epoch 7/20\n",
      "151/151 [==============================] - 0s 3ms/step - loss: 0.0230 - val_loss: 0.0172\n"
     ]
    }
   ],
   "source": [
    "early_stopping = tf.keras.callbacks.EarlyStopping(monitor='val_loss',\n",
    "                                                  patience=2,\n",
    "                                                  mode='min')\n",
    "\n",
    "history = autoencoder.fit(normal_train_data, normal_train_data, \n",
    "          epochs=20, \n",
    "          batch_size=8,\n",
    "          validation_data=(test_data, test_data),\n",
    "          callbacks=[early_stopping],\n",
    "          shuffle=True)"
   ]
  },
  {
   "cell_type": "code",
   "execution_count": 101,
   "metadata": {},
   "outputs": [
    {
     "data": {
      "text/plain": [
       "<matplotlib.legend.Legend at 0x7fbeefe0e2b0>"
      ]
     },
     "execution_count": 101,
     "metadata": {},
     "output_type": "execute_result"
    },
    {
     "data": {
      "image/png": "[encoded data removed]",
      "text/plain": [
       "<Figure size 432x288 with 1 Axes>"
      ]
     },
     "metadata": {
      "needs_background": "light"
     },
     "output_type": "display_data"
    }
   ],
   "source": [
    "plt.plot(history.history[\"loss\"], label=\"Training Loss\")\n",
    "plt.plot(history.history[\"val_loss\"], label=\"Validation Loss\")\n",
    "plt.legend()"
   ]
  },
  {
   "cell_type": "code",
   "execution_count": 102,
   "metadata": {},
   "outputs": [
    {
     "data": {
      "image/png": "[encoded data removed]",
      "text/plain": [
       "<Figure size 2160x360 with 1 Axes>"
      ]
     },
     "metadata": {
      "needs_background": "light"
     },
     "output_type": "display_data"
    }
   ],
   "source": [
    "encoded_data = autoencoder.encoder(normal_test_data).numpy()\n",
    "decoded_data = autoencoder.decoder(encoded_data).numpy()\n",
    "\n",
    "plt.figure(figsize=(30,5))\n",
    "plt.plot(normal_test_data[0], 'b')\n",
    "plt.plot(decoded_data[0], 'darkred')\n",
    "plt.fill_between(np.arange(14), decoded_data[0], normal_test_data[0], color='lightcoral')\n",
    "plt.legend(labels=[\"Input\", \"Reconstruction\", \"Error\"])\n",
    "plt.show()\n"
   ]
  },
  {
   "cell_type": "code",
   "execution_count": 103,
   "metadata": {},
   "outputs": [
    {
     "data": {
      "image/png": "[encoded data removed]",
      "text/plain": [
       "<Figure size 2160x360 with 1 Axes>"
      ]
     },
     "metadata": {
      "needs_background": "light"
     },
     "output_type": "display_data"
    }
   ],
   "source": [
    "encoded_data = autoencoder.encoder(anomalous_test_data).numpy()\n",
    "decoded_data = autoencoder.decoder(encoded_data).numpy()\n",
    "\n",
    "plt.figure(figsize=(30,5))\n",
    "plt.plot(anomalous_test_data[0], 'b')\n",
    "plt.plot(decoded_data[0], 'darkred')\n",
    "plt.fill_between(np.arange(14), decoded_data[0], anomalous_test_data[0], color='lightcoral')\n",
    "plt.legend(labels=[\"Input\", \"Reconstruction\", \"Error\"])\n",
    "plt.show()"
   ]
  },
  {
   "attachments": {},
   "cell_type": "markdown",
   "metadata": {},
   "source": [
    "## Detect anomalies"
   ]
  },
  {
   "cell_type": "code",
   "execution_count": 104,
   "metadata": {},
   "outputs": [
    {
     "data": {
      "image/png": "[encoded data removed]",
      "text/plain": [
       "<Figure size 2160x360 with 1 Axes>"
      ]
     },
     "metadata": {
      "needs_background": "light"
     },
     "output_type": "display_data"
    }
   ],
   "source": [
    "reconstructions = autoencoder.predict(normal_train_data)\n",
    "train_loss = tf.keras.losses.mae(reconstructions, normal_train_data)\n",
    "\n",
    "plt.figure(figsize=(30,5))\n",
    "plt.hist(train_loss[None,:], bins=50)\n",
    "plt.xlabel(\"Train loss\")\n",
    "plt.ylabel(\"No of examples\")\n",
    "plt.show()"
   ]
  },
  {
   "cell_type": "code",
   "execution_count": 105,
   "metadata": {},
   "outputs": [
    {
     "name": "stdout",
     "output_type": "stream",
     "text": [
      "Threshold:  0.020784616\n"
     ]
    }
   ],
   "source": [
    "threshold = np.mean(train_loss) + np.std(train_loss)\n",
    "print(\"Threshold: \", threshold)"
   ]
  },
  {
   "cell_type": "code",
   "execution_count": 106,
   "metadata": {},
   "outputs": [
    {
     "data": {
      "image/png": "[encoded data removed]",
      "text/plain": [
       "<Figure size 2160x360 with 1 Axes>"
      ]
     },
     "metadata": {
      "needs_background": "light"
     },
     "output_type": "display_data"
    }
   ],
   "source": [
    "reconstructions = autoencoder.predict(anomalous_test_data)\n",
    "test_loss = tf.keras.losses.mae(reconstructions, anomalous_test_data)\n",
    "\n",
    "plt.figure(figsize=(30,5))\n",
    "plt.hist(test_loss[None, :], bins=50)\n",
    "plt.xlabel(\"Test loss\")\n",
    "plt.ylabel(\"No of examples\")\n",
    "plt.show()"
   ]
  },
  {
   "cell_type": "code",
   "execution_count": 107,
   "metadata": {},
   "outputs": [
    {
     "name": "stdout",
     "output_type": "stream",
     "text": [
      "Threshold:  0.024612743\n"
     ]
    }
   ],
   "source": [
    "test_threshold = np.mean(test_loss) + np.std(test_loss)\n",
    "print(\"Threshold: \", test_threshold)"
   ]
  },
  {
   "cell_type": "code",
   "execution_count": 108,
   "metadata": {},
   "outputs": [],
   "source": [
    "def predict(model, data, threshold):\n",
    "  reconstructions = model(data)\n",
    "  loss = tf.keras.losses.mae(reconstructions, data)\n",
    "  return tf.math.less(loss, threshold)\n",
    "\n",
    "\n",
    "def print_stats(predictions, labels):\n",
    "  print(\"Accuracy = {}\".format(accuracy_score(labels, predictions)))\n",
    "  print(\"Precision = {}\".format(precision_score(labels, predictions)))\n",
    "  print(\"Recall = {}\".format(recall_score(labels, predictions)))\n",
    "  print(\"F1 = {}\".format(f1_score(labels, predictions)))\n"
   ]
  },
  {
   "cell_type": "code",
   "execution_count": 68,
   "metadata": {},
   "outputs": [
    {
     "name": "stdout",
     "output_type": "stream",
     "text": [
      "Accuracy = 0.33912037037037035\n",
      "Precision = 0.06984667802385008\n",
      "Recall = 0.6212121212121212\n",
      "F1 = 0.12557427258805512\n"
     ]
    }
   ],
   "source": [
    "preds = predict(autoencoder, test_data, threshold)\n",
    "print_stats(preds, test_labels)"
   ]
  },
  {
   "cell_type": "code",
   "execution_count": 81,
   "metadata": {},
   "outputs": [
    {
     "name": "stdout",
     "output_type": "stream",
     "text": [
      "Accuracy = 0.2835648148148148\n",
      "Precision = 0.08042488619119878\n",
      "Recall = 0.803030303030303\n",
      "F1 = 0.14620689655172414\n"
     ]
    }
   ],
   "source": [
    "preds = predict(autoencoder, test_data, threshold)\n",
    "print_stats(preds, test_labels)"
   ]
  },
  {
   "cell_type": "code",
   "execution_count": 95,
   "metadata": {},
   "outputs": [
    {
     "name": "stdout",
     "output_type": "stream",
     "text": [
      "Accuracy = 0.21643518518518517\n",
      "Precision = 0.08207934336525308\n",
      "Recall = 0.9090909090909091\n",
      "F1 = 0.15056461731493098\n"
     ]
    }
   ],
   "source": [
    "preds = predict(autoencoder, test_data, threshold)\n",
    "print_stats(preds, test_labels)"
   ]
  },
  {
   "cell_type": "code",
   "execution_count": 109,
   "metadata": {},
   "outputs": [
    {
     "name": "stdout",
     "output_type": "stream",
     "text": [
      "Accuracy = 0.2604166666666667\n",
      "Precision = 0.085383502170767\n",
      "Recall = 0.8939393939393939\n",
      "F1 = 0.15587846763540292\n"
     ]
    }
   ],
   "source": [
    "preds = predict(autoencoder, test_data, threshold)\n",
    "print_stats(preds, test_labels)"
   ]
  }
 ],
 "metadata": {
  "kernelspec": {
   "display_name": "base",
   "language": "python",
   "name": "python3"
  },
  "language_info": {
   "codemirror_mode": {
    "name": "ipython",
    "version": 3
   },
   "file_extension": ".py",
   "mimetype": "text/x-python",
   "name": "python",
   "nbconvert_exporter": "python",
   "pygments_lexer": "ipython3",
   "version": "3.9.7"
  },
  "orig_nbformat": 4,
  "vscode": {
   "interpreter": {
    "hash": "d4d1e4263499bec80672ea0156c357c1ee493ec2b1c70f0acce89fc37c4a6abe"
   }
  }
 },
 "nbformat": 4,
 "nbformat_minor": 2
}
