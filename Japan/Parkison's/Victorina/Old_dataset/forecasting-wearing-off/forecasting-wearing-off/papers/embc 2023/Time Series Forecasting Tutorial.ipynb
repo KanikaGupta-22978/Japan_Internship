{
 "cells": [
  {
   "cell_type": "markdown",
   "id": "b9f741db-7d49-4d61-9f90-6a866a7772cb",
   "metadata": {},
   "source": [
    "# Load libraries"
   ]
  },
  {
   "cell_type": "code",
   "execution_count": 4,
   "id": "e2e81c93-92b5-42ae-ab07-f6d2be1993cf",
   "metadata": {},
   "outputs": [],
   "source": [
    "import os\n",
    "import datetime\n",
    "\n",
    "import IPython\n",
    "import IPython.display\n",
    "import matplotlib as mpl\n",
    "import matplotlib.pyplot as plt\n",
    "import numpy as np\n",
    "import pandas as pd\n",
    "import seaborn as sns\n",
    "import tensorflow as tf\n",
    "from keras import backend as K\n",
    "\n",
    "mpl.rcParams['figure.figsize'] = (8, 6)\n",
    "mpl.rcParams['axes.grid'] = False\n",
    "\n",
    "from sklearn.model_selection import LeaveOneGroupOut"
   ]
  },
  {
   "attachments": {},
   "cell_type": "markdown",
   "id": "0a2ecc8d",
   "metadata": {},
   "source": [
    "# Load configuration"
   ]
  },
  {
   "cell_type": "code",
   "execution_count": 5,
   "id": "604c32e4",
   "metadata": {},
   "outputs": [],
   "source": [
    "# Garmin features\n",
    "features = ['heart_rate', 'steps', 'stress_score',\n",
    "           'awake', 'deep', 'light', 'rem', \n",
    "           'nonrem_total', 'total', 'nonrem_percentage', 'sleep_efficiency']\n",
    "\n",
    "# Additional features\n",
    "#   'timestamp_hour'\n",
    "features += ['timestamp_dayofweek', 'timestamp_hour_sin', 'timestamp_hour_cos']\n",
    "\n",
    "TARGET_COLUMN = 'wearing_off'\n",
    "features.append(TARGET_COLUMN)\n",
    "\n",
    "columns = ['timestamp'] + features + ['participant']"
   ]
  },
  {
   "cell_type": "markdown",
   "id": "68766c22-e029-4504-97bb-d040a280cf7c",
   "metadata": {},
   "source": [
    "# Load dataset"
   ]
  },
  {
   "cell_type": "code",
   "execution_count": 6,
   "id": "8943b351-b7a4-4319-830b-f5123d3f3b34",
   "metadata": {
    "scrolled": true,
    "tags": []
   },
   "outputs": [],
   "source": [
    "df = pd.read_excel('./data/4-combined_data.xlsx',\n",
    "                  index_col=\"timestamp\",\n",
    "                  usecols=columns,\n",
    "                  sheet_name=\"combined\",\n",
    "                  engine='openpyxl')\n",
    "\n",
    "# Fill missing data with 0\n",
    "df.fillna(0, inplace=True)"
   ]
  },
  {
   "cell_type": "code",
   "execution_count": 7,
   "id": "78772675-72a8-4cb9-9ef7-4cd010800ecb",
   "metadata": {},
   "outputs": [
    {
     "name": "stdout",
     "output_type": "stream",
     "text": [
      "16608\n"
     ]
    },
    {
     "data": {
      "text/html": [
       "<div>\n",
       "<style scoped>\n",
       "    .dataframe tbody tr th:only-of-type {\n",
       "        vertical-align: middle;\n",
       "    }\n",
       "\n",
       "    .dataframe tbody tr th {\n",
       "        vertical-align: top;\n",
       "    }\n",
       "\n",
       "    .dataframe thead th {\n",
       "        text-align: right;\n",
       "    }\n",
       "</style>\n",
       "<table border=\"1\" class=\"dataframe\">\n",
       "  <thead>\n",
       "    <tr style=\"text-align: right;\">\n",
       "      <th></th>\n",
       "      <th>heart_rate</th>\n",
       "      <th>steps</th>\n",
       "      <th>stress_score</th>\n",
       "      <th>awake</th>\n",
       "      <th>deep</th>\n",
       "      <th>light</th>\n",
       "      <th>rem</th>\n",
       "      <th>nonrem_total</th>\n",
       "      <th>total</th>\n",
       "      <th>nonrem_percentage</th>\n",
       "      <th>sleep_efficiency</th>\n",
       "      <th>timestamp_hour_sin</th>\n",
       "      <th>timestamp_hour_cos</th>\n",
       "      <th>timestamp_dayofweek</th>\n",
       "      <th>wearing_off</th>\n",
       "      <th>participant</th>\n",
       "    </tr>\n",
       "    <tr>\n",
       "      <th>timestamp</th>\n",
       "      <th></th>\n",
       "      <th></th>\n",
       "      <th></th>\n",
       "      <th></th>\n",
       "      <th></th>\n",
       "      <th></th>\n",
       "      <th></th>\n",
       "      <th></th>\n",
       "      <th></th>\n",
       "      <th></th>\n",
       "      <th></th>\n",
       "      <th></th>\n",
       "      <th></th>\n",
       "      <th></th>\n",
       "      <th></th>\n",
       "      <th></th>\n",
       "    </tr>\n",
       "  </thead>\n",
       "  <tbody>\n",
       "    <tr>\n",
       "      <th>2021-11-25 00:00:00</th>\n",
       "      <td>-1.00</td>\n",
       "      <td>0.0</td>\n",
       "      <td>-1.0</td>\n",
       "      <td>-1.0</td>\n",
       "      <td>-1.0</td>\n",
       "      <td>-1.0</td>\n",
       "      <td>-1.0</td>\n",
       "      <td>-1.0</td>\n",
       "      <td>-1.0</td>\n",
       "      <td>-1.0</td>\n",
       "      <td>-1.0</td>\n",
       "      <td>-7.627160e-12</td>\n",
       "      <td>1.000000</td>\n",
       "      <td>3</td>\n",
       "      <td>0</td>\n",
       "      <td>1</td>\n",
       "    </tr>\n",
       "    <tr>\n",
       "      <th>2021-11-25 00:15:00</th>\n",
       "      <td>-1.00</td>\n",
       "      <td>0.0</td>\n",
       "      <td>-1.0</td>\n",
       "      <td>-1.0</td>\n",
       "      <td>-1.0</td>\n",
       "      <td>-1.0</td>\n",
       "      <td>-1.0</td>\n",
       "      <td>-1.0</td>\n",
       "      <td>-1.0</td>\n",
       "      <td>-1.0</td>\n",
       "      <td>-1.0</td>\n",
       "      <td>6.540313e-02</td>\n",
       "      <td>0.997859</td>\n",
       "      <td>3</td>\n",
       "      <td>0</td>\n",
       "      <td>1</td>\n",
       "    </tr>\n",
       "    <tr>\n",
       "      <th>2021-11-25 00:30:00</th>\n",
       "      <td>21.95</td>\n",
       "      <td>0.0</td>\n",
       "      <td>-0.4</td>\n",
       "      <td>-1.0</td>\n",
       "      <td>-1.0</td>\n",
       "      <td>-1.0</td>\n",
       "      <td>-1.0</td>\n",
       "      <td>-1.0</td>\n",
       "      <td>-1.0</td>\n",
       "      <td>-1.0</td>\n",
       "      <td>-1.0</td>\n",
       "      <td>1.305262e-01</td>\n",
       "      <td>0.991445</td>\n",
       "      <td>3</td>\n",
       "      <td>0</td>\n",
       "      <td>1</td>\n",
       "    </tr>\n",
       "    <tr>\n",
       "      <th>2021-11-25 00:45:00</th>\n",
       "      <td>60.25</td>\n",
       "      <td>0.0</td>\n",
       "      <td>12.4</td>\n",
       "      <td>-1.0</td>\n",
       "      <td>-1.0</td>\n",
       "      <td>-1.0</td>\n",
       "      <td>-1.0</td>\n",
       "      <td>-1.0</td>\n",
       "      <td>-1.0</td>\n",
       "      <td>-1.0</td>\n",
       "      <td>-1.0</td>\n",
       "      <td>1.950903e-01</td>\n",
       "      <td>0.980785</td>\n",
       "      <td>3</td>\n",
       "      <td>0</td>\n",
       "      <td>1</td>\n",
       "    </tr>\n",
       "    <tr>\n",
       "      <th>2021-11-25 01:00:00</th>\n",
       "      <td>10.60</td>\n",
       "      <td>0.0</td>\n",
       "      <td>-1.0</td>\n",
       "      <td>-1.0</td>\n",
       "      <td>-1.0</td>\n",
       "      <td>-1.0</td>\n",
       "      <td>-1.0</td>\n",
       "      <td>-1.0</td>\n",
       "      <td>-1.0</td>\n",
       "      <td>-1.0</td>\n",
       "      <td>-1.0</td>\n",
       "      <td>2.588190e-01</td>\n",
       "      <td>0.965926</td>\n",
       "      <td>3</td>\n",
       "      <td>0</td>\n",
       "      <td>1</td>\n",
       "    </tr>\n",
       "  </tbody>\n",
       "</table>\n",
       "</div>"
      ],
      "text/plain": [
       "                     heart_rate  steps  stress_score  awake  deep  light  rem  \\\n",
       "timestamp                                                                       \n",
       "2021-11-25 00:00:00       -1.00    0.0          -1.0   -1.0  -1.0   -1.0 -1.0   \n",
       "2021-11-25 00:15:00       -1.00    0.0          -1.0   -1.0  -1.0   -1.0 -1.0   \n",
       "2021-11-25 00:30:00       21.95    0.0          -0.4   -1.0  -1.0   -1.0 -1.0   \n",
       "2021-11-25 00:45:00       60.25    0.0          12.4   -1.0  -1.0   -1.0 -1.0   \n",
       "2021-11-25 01:00:00       10.60    0.0          -1.0   -1.0  -1.0   -1.0 -1.0   \n",
       "\n",
       "                     nonrem_total  total  nonrem_percentage  sleep_efficiency  \\\n",
       "timestamp                                                                       \n",
       "2021-11-25 00:00:00          -1.0   -1.0               -1.0              -1.0   \n",
       "2021-11-25 00:15:00          -1.0   -1.0               -1.0              -1.0   \n",
       "2021-11-25 00:30:00          -1.0   -1.0               -1.0              -1.0   \n",
       "2021-11-25 00:45:00          -1.0   -1.0               -1.0              -1.0   \n",
       "2021-11-25 01:00:00          -1.0   -1.0               -1.0              -1.0   \n",
       "\n",
       "                     timestamp_hour_sin  timestamp_hour_cos  \\\n",
       "timestamp                                                     \n",
       "2021-11-25 00:00:00       -7.627160e-12            1.000000   \n",
       "2021-11-25 00:15:00        6.540313e-02            0.997859   \n",
       "2021-11-25 00:30:00        1.305262e-01            0.991445   \n",
       "2021-11-25 00:45:00        1.950903e-01            0.980785   \n",
       "2021-11-25 01:00:00        2.588190e-01            0.965926   \n",
       "\n",
       "                     timestamp_dayofweek  wearing_off  participant  \n",
       "timestamp                                                           \n",
       "2021-11-25 00:00:00                    3            0            1  \n",
       "2021-11-25 00:15:00                    3            0            1  \n",
       "2021-11-25 00:30:00                    3            0            1  \n",
       "2021-11-25 00:45:00                    3            0            1  \n",
       "2021-11-25 01:00:00                    3            0            1  "
      ]
     },
     "metadata": {},
     "output_type": "display_data"
    }
   ],
   "source": [
    "print(len(df))\n",
    "display(df.head())"
   ]
  },
  {
   "cell_type": "code",
   "execution_count": null,
   "id": "13a5cf49",
   "metadata": {},
   "outputs": [],
   "source": [
    "# # Remove days without wearing-off record (UNDERSAMPLING)\n",
    "# #   * not sure whether there is no actual wearing-off periods that day\n",
    "# #   * or if there were actual wearing-off periods but not recorded\n",
    "# df.pivot_table(values='wearing_off', index=[\"participant\"], aggfunc='count')\n",
    "\n",
    "# df_day = df.resample('D').sum()\n",
    "# days_without_wearing_off = list(df_day.query('wearing_off != 0').index)\n",
    "# days_without_wearing_off = [day.date().strftime('%Y-%m-%d') for day in days_without_wearing_off]\n",
    "\n",
    "# df['date'] = pd.to_datetime(df.index.date)\n",
    "# df = df[df['date'].dt.date.astype(str).isin(days_without_wearing_off)][features + ['participant']]\n",
    "# # df[df['date'].dt.date.astype(str).isin(days_without_wearing_off)].pivot_table(values='wearing_off', index=[\"participant\"], aggfunc='count')\n",
    "\n",
    "# print(len(df))\n",
    "# display(df.head())"
   ]
  },
  {
   "cell_type": "markdown",
   "id": "84433d10-3b70-40d0-a429-118314dcc978",
   "metadata": {},
   "source": [
    "# Split dataset"
   ]
  },
  {
   "cell_type": "code",
   "execution_count": 8,
   "id": "2a0844a4-67da-4ae0-a3f3-a6ffafc92f9c",
   "metadata": {},
   "outputs": [],
   "source": [
    "PARTICIPANT_AS_TEST = 9\n",
    "\n",
    "column_indices = {name: i for i, name in enumerate(df.columns)}\n",
    "# Select all except specified participant (used for training)\n",
    "general_df = df.query(f'participant != {PARTICIPANT_AS_TEST}')[features].copy()\n",
    "train_df = general_df[0:int( len(general_df) * 0.6 )]\n",
    "val_df = general_df[int( len(general_df) * 0.6 ):]\n",
    "\n",
    "test_participant_df = df.query(f'participant == {PARTICIPANT_AS_TEST}')[features].copy()\n",
    "fine_tuning_df = test_participant_df[0:int( len(test_participant_df) * 0.5 )]\n",
    "test_df = test_participant_df[int( len(test_participant_df) * 0.5 ):]"
   ]
  },
  {
   "cell_type": "markdown",
   "id": "f5137caf-014a-489e-a27b-873ae9441345",
   "metadata": {},
   "source": [
    "# Normalize dataset"
   ]
  },
  {
   "cell_type": "code",
   "execution_count": 9,
   "id": "ebb20785-e995-49f6-92ee-99d42218151a",
   "metadata": {},
   "outputs": [],
   "source": [
    "normalize_features = ['heart_rate', 'steps', 'stress_score', 'awake', 'deep', \n",
    "                      'light', 'rem', 'nonrem_total', 'total', 'nonrem_percentage',\n",
    "                      'sleep_efficiency', 'timestamp_hour_sin', 'timestamp_hour_cos']\n",
    "def normalize_data(df, mean, std, normalize_features=normalize_features):\n",
    "    df_to_normalize = df.copy()\n",
    "    df_to_normalize.loc[:, normalize_features] = ((\n",
    "        df_to_normalize.loc[:, normalize_features] - mean\n",
    "    ) / std)\n",
    "    \n",
    "    return df_to_normalize"
   ]
  },
  {
   "cell_type": "code",
   "execution_count": 10,
   "id": "f5d88e7e",
   "metadata": {},
   "outputs": [],
   "source": [
    "general_mean = general_df.loc[:, normalize_features].mean()\n",
    "general_std = general_df.loc[:, normalize_features].std()\n",
    "\n",
    "train_df = normalize_data(train_df, general_mean, general_std)\n",
    "val_df = normalize_data(val_df, general_mean, general_std)\n",
    "fine_tuning_df = normalize_data(fine_tuning_df, general_mean, general_std)\n",
    "test_df = normalize_data(test_df, general_mean, general_std)"
   ]
  },
  {
   "cell_type": "markdown",
   "id": "3ef7275e-e352-4e8a-a773-89f85bfcfdd8",
   "metadata": {},
   "source": [
    "# WindowGenerator"
   ]
  },
  {
   "cell_type": "code",
   "execution_count": 11,
   "id": "a698325a",
   "metadata": {},
   "outputs": [],
   "source": [
    "BATCH_SIZE = 32\n",
    "SHIFT = 4\n",
    "RECORD_SIZE_PER_DAY = 96\n",
    "\n",
    "\n",
    "class WindowGenerator():\n",
    "  def __init__(self, input_width, label_width, shift,\n",
    "               train_df, val_df, fine_tuning_df, test_df, \n",
    "               label_columns=None, batch_size=1):\n",
    "    # Store the raw data.\n",
    "    self.train_df = train_df\n",
    "    self.val_df = val_df\n",
    "    self.fine_tuning_df = fine_tuning_df\n",
    "    self.test_df = test_df\n",
    "    self.batch_size = batch_size\n",
    "\n",
    "    # Work out the label column indices.\n",
    "    self.label_columns = label_columns\n",
    "    if label_columns is not None:\n",
    "      self.label_columns_indices = {name: i for i, name in\n",
    "                                    enumerate(label_columns)}\n",
    "    self.column_indices = {name: i for i, name in\n",
    "                           enumerate(self.train_df.columns)}\n",
    "    \n",
    "    # Work out the window parameters.\n",
    "    self.input_width = input_width\n",
    "    self.label_width = label_width\n",
    "    self.shift = shift\n",
    "\n",
    "    self.total_window_size = input_width + shift\n",
    "\n",
    "    self.input_slice = slice(0, input_width)\n",
    "    self.input_indices = np.arange(self.total_window_size)[self.input_slice]\n",
    "\n",
    "    self.label_start = self.total_window_size - self.label_width\n",
    "    self.labels_slice = slice(self.label_start, None)\n",
    "    self.label_indices = np.arange(self.total_window_size)[self.labels_slice]\n",
    "\n",
    "  def __repr__(self):\n",
    "    return '\\n'.join([\n",
    "        f'Total window size: {self.total_window_size}',\n",
    "        f'Input indices: {self.input_indices}',\n",
    "        f'Label indices: {self.label_indices}',\n",
    "        f'Label column name(s): {self.label_columns}'])\n",
    "\n",
    "  def split_window(self, features):\n",
    "    inputs = features[:, self.input_slice, :]\n",
    "    labels = features[:, self.labels_slice, :]\n",
    "    if self.label_columns is not None:\n",
    "      labels = tf.stack(\n",
    "          [labels[:, :, self.column_indices[name]] for name in self.label_columns],\n",
    "          axis=-1)\n",
    "\n",
    "    # Slicing doesn't preserve static shape information, so set the shapes\n",
    "    # manually. This way the `tf.data.Datasets` are easier to inspect.\n",
    "    inputs.set_shape([None, self.input_width, None])\n",
    "    labels.set_shape([None, self.label_width, None])\n",
    "\n",
    "    return inputs, labels\n",
    "  \n",
    "  def plot(self, model=None, plot_col='wearing_off', max_subplots=3):\n",
    "    inputs, labels = self.example\n",
    "    \n",
    "    fig = plt.figure(figsize=(12, 8))\n",
    "    plot_col_index = self.column_indices[plot_col]\n",
    "    max_n = min(max_subplots, len(inputs))\n",
    "    for n in range(max_n):\n",
    "      ax = plt.subplot(max_n, 1, n+1)\n",
    "      plt.ylabel(f'{plot_col} [normed]')\n",
    "      \n",
    "      # NEW\n",
    "      plt.ylim(-0.1,1.1) \n",
    "      ax.set_yticks(\n",
    "          [0.0, 0.5, 1.0]\n",
    "      )\n",
    "      ax.set_xticks([])\n",
    "      if n == 2:\n",
    "          ax.set_xticks(\n",
    "              np.append(self.input_indices[::SHIFT], self.input_indices[-1] + 1),\n",
    "              list(range(0, len( self.input_indices[::SHIFT] ) + 1 )),\n",
    "              minor=True\n",
    "          )\n",
    "      # NEW\n",
    "\n",
    "      plt.plot(self.input_indices, inputs[n, :, plot_col_index],\n",
    "              label='Inputs', marker='.', zorder=-10)\n",
    "      if self.label_columns:\n",
    "        label_col_index = self.label_columns_indices.get(plot_col, None)\n",
    "      else:\n",
    "        label_col_index = plot_col_index\n",
    "      if label_col_index is None:\n",
    "        continue\n",
    "\n",
    "      # plt.scatter(self.label_indices, labels[n, :, label_col_index],\n",
    "      #             edgecolors='k', label='Labels', c='#2ca02c', s=64)\n",
    "      plt.scatter(self.label_indices[::SHIFT], labels[n, :, label_col_index][::SHIFT],\n",
    "                  edgecolors='k', label='Labels', c='#2ca02c', s=64)\n",
    "      if model is not None:\n",
    "        predictions = model(inputs)\n",
    "        plt.scatter(self.label_indices[::SHIFT], predictions[n, :, label_col_index][::SHIFT],\n",
    "                    marker='X', edgecolors='k', label='Predictions',\n",
    "                    c='#ff7f0e', s=64)\n",
    "        # plt.scatter(self.label_indices, predictions[n, :, label_col_index],\n",
    "        #             marker='X', edgecolors='k', label='Predictions',\n",
    "        #             c='#ff7f0e', s=64)\n",
    "\n",
    "      if n == 2:\n",
    "          # Put a legend below current axis\n",
    "          plt.legend(loc='upper center', bbox_to_anchor=(0.5, 0.025),\n",
    "                      bbox_transform=fig.transFigure,\n",
    "                    fancybox=True, shadow=True, ncol=3)\n",
    "          # plt.legend()\n",
    "      # if n == 0:\n",
    "      #   plt.legend()\n",
    "\n",
    "\n",
    "    plt.xlabel('Time [h]')\n",
    "\n",
    "  def make_dataset(self, data):\n",
    "    data = np.array(data, dtype=np.float32)\n",
    "    ds = tf.keras.utils.timeseries_dataset_from_array(\n",
    "      data=data,\n",
    "      targets=None,\n",
    "      sequence_length=self.total_window_size,\n",
    "      sequence_stride=1,\n",
    "      shuffle=False,\n",
    "      seed=4,\n",
    "      batch_size=BATCH_SIZE,).shuffle(buffer_size=10000)\n",
    "\n",
    "    ds = ds.map(self.split_window)\n",
    "\n",
    "    return ds\n",
    "  \n",
    "  @property\n",
    "  def train(self):\n",
    "    return self.make_dataset(self.train_df)\n",
    "\n",
    "  @property\n",
    "  def val(self):\n",
    "    return self.make_dataset(self.val_df)\n",
    "\n",
    "  @property\n",
    "  def fine_tuning(self):\n",
    "    return self.make_dataset(self.fine_tuning_df)\n",
    "\n",
    "  @property\n",
    "  def test(self):\n",
    "    return self.make_dataset(self.test_df)\n",
    "\n",
    "  @property\n",
    "  def example(self):\n",
    "    \"\"\"Get and cache an example batch of `inputs, labels` for plotting.\"\"\"\n",
    "    result = getattr(self, '_example', None)\n",
    "    if result is None:\n",
    "      # No example batch was found, so get one from the `.train` dataset\n",
    "      result = next(iter(self.train))\n",
    "      # And cache it for next time\n",
    "      self._example = result\n",
    "    return result"
   ]
  },
  {
   "cell_type": "markdown",
   "id": "b1af2303-6392-49d8-bf3b-168c03a8508f",
   "metadata": {},
   "source": [
    "## Single Step Window"
   ]
  },
  {
   "cell_type": "code",
   "execution_count": 12,
   "id": "d73a7514-1092-4d29-8b77-e5bfa48fc566",
   "metadata": {
    "collapsed": true,
    "jupyter": {
     "outputs_hidden": true
    },
    "scrolled": true,
    "tags": []
   },
   "outputs": [],
   "source": [
    "single_step_window = WindowGenerator(\n",
    "    train_df=train_df, val_df=val_df,\n",
    "    fine_tuning_df=fine_tuning_df, test_df=test_df,\n",
    "    input_width=1, label_width=1, shift=SHIFT,\n",
    "    label_columns=[TARGET_COLUMN], batch_size=BATCH_SIZE)\n",
    "# print(single_step_window)\n",
    "# for example_inputs, example_labels in single_step_window.train.take(1):\n",
    "#   print(f'Inputs shape (batch, time, features): {example_inputs.shape}')\n",
    "#   print(f'Labels shape (batch, time, features): {example_labels.shape}')\n",
    "# single_step_window.plot(plot_col=TARGET_COLUMN)"
   ]
  },
  {
   "cell_type": "markdown",
   "id": "b7d1c5c2-6ca1-49ca-84ab-d4cc2c539ffc",
   "metadata": {},
   "source": [
    "## Wide Window"
   ]
  },
  {
   "cell_type": "code",
   "execution_count": 13,
   "id": "9e7d2048-2ad6-4afb-a7db-3afb799e86a4",
   "metadata": {
    "collapsed": true,
    "jupyter": {
     "outputs_hidden": true
    },
    "scrolled": true,
    "tags": []
   },
   "outputs": [],
   "source": [
    "wide_window = WindowGenerator(\n",
    "    train_df=train_df, val_df=val_df,\n",
    "    fine_tuning_df=fine_tuning_df, test_df=test_df,\n",
    "    input_width=24, label_width=24, shift=SHIFT,\n",
    "    label_columns=[TARGET_COLUMN], batch_size=BATCH_SIZE)\n",
    "# print(wide_window)\n",
    "# for example_inputs, example_labels in wide_window.train.take(1):\n",
    "#   print(f'Inputs shape (batch, time, features): {example_inputs.shape}')\n",
    "#   print(f'Labels shape (batch, time, features): {example_labels.shape}')\n",
    "# wide_window.plot(plot_col=TARGET_COLUMN)"
   ]
  },
  {
   "cell_type": "markdown",
   "id": "f05650c8-6900-4d1c-8d1b-888f3fe79704",
   "metadata": {},
   "source": [
    "## Convolutional Window"
   ]
  },
  {
   "cell_type": "code",
   "execution_count": 14,
   "id": "4c3689aa-cb55-4dae-ba8e-89d4785f4571",
   "metadata": {
    "collapsed": true,
    "jupyter": {
     "outputs_hidden": true
    },
    "scrolled": true,
    "tags": []
   },
   "outputs": [],
   "source": [
    "CONV_WIDTH = RECORD_SIZE_PER_DAY # 24 hours or 96 records\n",
    "conv_window = WindowGenerator(\n",
    "    train_df=train_df, val_df=val_df,\n",
    "    fine_tuning_df=fine_tuning_df, test_df=test_df,\n",
    "    input_width=CONV_WIDTH, label_width=1, shift=SHIFT,\n",
    "    label_columns=[TARGET_COLUMN], batch_size=BATCH_SIZE)\n",
    "# print(conv_window)\n",
    "# for example_inputs, example_labels in conv_window.train.take(1):\n",
    "#   print(f'Inputs shape (batch, time, features): {example_inputs.shape}')\n",
    "#   print(f'Labels shape (batch, time, features): {example_labels.shape}')\n",
    "# conv_window.plot(plot_col=TARGET_COLUMN)"
   ]
  },
  {
   "attachments": {},
   "cell_type": "markdown",
   "id": "6de4978f",
   "metadata": {},
   "source": [
    "## Wide Convolutional Window"
   ]
  },
  {
   "cell_type": "code",
   "execution_count": 15,
   "id": "fc3879b1",
   "metadata": {},
   "outputs": [],
   "source": [
    "LABEL_WIDTH = CONV_WIDTH # 4 * 6 # 4 records * 6 hours\n",
    "INPUT_WIDTH = LABEL_WIDTH + (CONV_WIDTH - 1)\n",
    "wide_conv_window = WindowGenerator(\n",
    "    train_df=train_df, val_df=val_df,\n",
    "    fine_tuning_df=fine_tuning_df, test_df=test_df,\n",
    "    input_width=INPUT_WIDTH, label_width=LABEL_WIDTH, shift=SHIFT,\n",
    "    label_columns=[TARGET_COLUMN], batch_size=BATCH_SIZE)\n",
    "# print(wide_conv_window)\n",
    "# for example_inputs, example_labels in wide_conv_window.train.take(1):\n",
    "#   print(f'Inputs shape (batch, time, features): {example_inputs.shape}')\n",
    "#   print(f'Labels shape (batch, time, features): {example_labels.shape}')\n",
    "# wide_conv_window.plot(plot_col=TARGET_COLUMN)"
   ]
  },
  {
   "cell_type": "markdown",
   "id": "04a8c169-e711-46e7-9ac2-715c559ccf9d",
   "metadata": {},
   "source": [
    "# Model Training"
   ]
  },
  {
   "cell_type": "code",
   "execution_count": 40,
   "id": "48764c40",
   "metadata": {},
   "outputs": [],
   "source": [
    "MAX_EPOCHS = 20\n",
    "LEARNING_RATE = 1e-3\n",
    "THRESHOLDS = [\n",
    "    (i + 1) * 1.0 / (200 - 1)\n",
    "    for i in range(200 - 2)\n",
    "]\n",
    "METRICS = [\n",
    "  tf.keras.metrics.TruePositives(name='tp', thresholds=THRESHOLDS),\n",
    "  tf.keras.metrics.FalsePositives(name='fp', thresholds=THRESHOLDS),\n",
    "  tf.keras.metrics.TrueNegatives(name='tn', thresholds=THRESHOLDS),\n",
    "  tf.keras.metrics.FalseNegatives(name='fn', thresholds=THRESHOLDS), \n",
    "  tf.keras.metrics.BinaryAccuracy(name='accuracy'),\n",
    "  tf.keras.metrics.Precision(name='precision', thresholds=THRESHOLDS),\n",
    "  tf.keras.metrics.Recall(name='recall', thresholds=THRESHOLDS),\n",
    "  tf.keras.metrics.AUC(name='auc', thresholds=THRESHOLDS),\n",
    "  tf.keras.metrics.AUC(name='prc', curve='PR', thresholds=THRESHOLDS, summation_method='majoring')] # precision-recall curve]\n",
    "\n",
    "\n",
    "def brier_score_loss(y_true, y_pred):\n",
    "  return K.mean(K.square(y_true - y_pred))\n",
    "\n",
    "def compile_and_fit(model, window, patience=2):\n",
    "  early_stopping = tf.keras.callbacks.EarlyStopping(monitor='val_loss',\n",
    "                                                    patience=patience,\n",
    "                                                    mode='min')\n",
    "\n",
    "  # model.compile(loss=tf.keras.losses.MeanSquaredError(),\n",
    "  #               optimizer=tf.keras.optimizers.Adam(learning_rate=LEARNING_RATE),\n",
    "  #               metrics=[tf.keras.metrics.MeanAbsoluteError()])\n",
    "  model.compile(loss=tf.keras.losses.BinaryCrossentropy(from_logits=False),\n",
    "                optimizer=tf.keras.optimizers.Adam(learning_rate=LEARNING_RATE),\n",
    "                metrics=METRICS)\n",
    "  # model.compile(loss=brier_score_loss,\n",
    "  #               optimizer=tf.keras.optimizers.Adam(learning_rate=LEARNING_RATE),\n",
    "  #               metrics=METRICS)\n",
    "\n",
    "  # history = model.fit(window.train, epochs=MAX_EPOCHS,\n",
    "  #                     validation_data=window.val,\n",
    "  #                     callbacks=[early_stopping])\n",
    "  history = model.fit(window.train, epochs=MAX_EPOCHS,\n",
    "                      validation_data=window.val,\n",
    "                      callbacks=[early_stopping])\n",
    "  \n",
    "  return history\n",
    "\n",
    "def fine_tune(model, window, patience=2):\n",
    "  early_stopping = tf.keras.callbacks.EarlyStopping(monitor='val_loss',\n",
    "                                                    patience=patience,\n",
    "                                                    mode='min')\n",
    "\n",
    "  model.compile(loss=tf.keras.losses.BinaryCrossentropy(from_logits=False),\n",
    "                optimizer=tf.keras.optimizers.Adam(learning_rate=LEARNING_RATE),\n",
    "                metrics=METRICS)\n",
    "  \n",
    "  # model.compile(loss=brier_score_loss,\n",
    "  #               optimizer=tf.keras.optimizers.Adam(learning_rate=LEARNING_RATE),\n",
    "  #               metrics=METRICS)\n",
    "\n",
    "  history = model.fit(window.fine_tuning, epochs=MAX_EPOCHS,\n",
    "                    validation_data=window.val,\n",
    "                    callbacks=[early_stopping])\n",
    "  \n",
    "  return history"
   ]
  },
  {
   "cell_type": "code",
   "execution_count": 18,
   "id": "0aa38e38",
   "metadata": {},
   "outputs": [],
   "source": [
    "val_performance = {}\n",
    "before_fine_tuning_performance = {}\n",
    "performance = {}"
   ]
  },
  {
   "attachments": {},
   "cell_type": "markdown",
   "id": "21d8ccab",
   "metadata": {},
   "source": [
    "## Baseline"
   ]
  },
  {
   "cell_type": "code",
   "execution_count": 19,
   "id": "fe813844",
   "metadata": {},
   "outputs": [],
   "source": [
    "class Baseline(tf.keras.Model):\n",
    "  def __init__(self, label_index=None):\n",
    "    super().__init__()\n",
    "    self.label_index = label_index\n",
    "\n",
    "  def call(self, inputs):\n",
    "    if self.label_index is None:\n",
    "      return inputs\n",
    "    result = inputs[:, :, self.label_index]\n",
    "    return result[:, :, tf.newaxis]"
   ]
  },
  {
   "cell_type": "code",
   "execution_count": 20,
   "id": "b4399de4",
   "metadata": {},
   "outputs": [
    {
     "name": "stderr",
     "output_type": "stream",
     "text": [
      "2023-02-12 04:06:05.533113: I tensorflow/compiler/mlir/mlir_graph_optimization_pass.cc:185] None of the MLIR Optimization Passes are enabled (registered 2)\n"
     ]
    },
    {
     "name": "stdout",
     "output_type": "stream",
     "text": [
      "Epoch 1/20\n",
      "292/292 [==============================] - 4s 6ms/step - loss: 2.1344 - tp: 199.0000 - fp: 649.0000 - tn: 7830.0000 - fn: 649.0000 - accuracy: 0.8608 - precision: 0.2347 - recall: 0.2347 - auc: 0.5791 - prc: 0.1427 - val_loss: 1.8946 - val_tp: 24.0000 - val_fp: 384.0000 - val_tn: 5425.0000 - val_fn: 384.0000 - val_accuracy: 0.8765 - val_precision: 0.0588 - val_recall: 0.0588 - val_auc: 0.4964 - val_prc: 0.0644\n",
      "Epoch 2/20\n",
      "292/292 [==============================] - 1s 4ms/step - loss: 2.1344 - tp: 199.0000 - fp: 649.0000 - tn: 7830.0000 - fn: 649.0000 - accuracy: 0.8608 - precision: 0.2347 - recall: 0.2347 - auc: 0.5791 - prc: 0.1427 - val_loss: 1.8946 - val_tp: 24.0000 - val_fp: 384.0000 - val_tn: 5425.0000 - val_fn: 384.0000 - val_accuracy: 0.8765 - val_precision: 0.0588 - val_recall: 0.0588 - val_auc: 0.4964 - val_prc: 0.0644\n",
      "Epoch 3/20\n",
      "292/292 [==============================] - 2s 4ms/step - loss: 2.1344 - tp: 199.0000 - fp: 649.0000 - tn: 7830.0000 - fn: 649.0000 - accuracy: 0.8608 - precision: 0.2347 - recall: 0.2347 - auc: 0.5791 - prc: 0.1427 - val_loss: 1.8946 - val_tp: 24.0000 - val_fp: 384.0000 - val_tn: 5425.0000 - val_fn: 384.0000 - val_accuracy: 0.8765 - val_precision: 0.0588 - val_recall: 0.0588 - val_auc: 0.4964 - val_prc: 0.0644\n",
      "Epoch 4/20\n",
      "292/292 [==============================] - 2s 4ms/step - loss: 2.1344 - tp: 199.0000 - fp: 649.0000 - tn: 7830.0000 - fn: 649.0000 - accuracy: 0.8608 - precision: 0.2347 - recall: 0.2347 - auc: 0.5791 - prc: 0.1427 - val_loss: 1.8946 - val_tp: 24.0000 - val_fp: 384.0000 - val_tn: 5425.0000 - val_fn: 384.0000 - val_accuracy: 0.8765 - val_precision: 0.0588 - val_recall: 0.0588 - val_auc: 0.4964 - val_prc: 0.0644\n",
      "Epoch 5/20\n",
      "292/292 [==============================] - 1s 4ms/step - loss: 2.1344 - tp: 199.0000 - fp: 649.0000 - tn: 7830.0000 - fn: 649.0000 - accuracy: 0.8608 - precision: 0.2347 - recall: 0.2347 - auc: 0.5791 - prc: 0.1427 - val_loss: 1.8946 - val_tp: 24.0000 - val_fp: 384.0000 - val_tn: 5425.0000 - val_fn: 384.0000 - val_accuracy: 0.8765 - val_precision: 0.0588 - val_recall: 0.0588 - val_auc: 0.4964 - val_prc: 0.0644\n"
     ]
    }
   ],
   "source": [
    "K.clear_session()\n",
    "baseline = Baseline(label_index=column_indices[TARGET_COLUMN])\n",
    "history = compile_and_fit(baseline, single_step_window)"
   ]
  },
  {
   "cell_type": "code",
   "execution_count": 21,
   "id": "ba565ec4",
   "metadata": {},
   "outputs": [
    {
     "name": "stdout",
     "output_type": "stream",
     "text": [
      "195/195 [==============================] - 1s 2ms/step - loss: 1.8946 - tp: 24.0000 - fp: 384.0000 - tn: 5425.0000 - fn: 384.0000 - accuracy: 0.8765 - precision: 0.0588 - recall: 0.0588 - auc: 0.4964 - prc: 0.0644\n",
      "loss :  1.0827949047088623\n",
      "tp :  [5. 5. 5. 5. 5. 5. 5. 5. 5. 5. 5. 5. 5. 5. 5. 5. 5. 5. 5. 5. 5. 5. 5. 5.\n",
      " 5. 5. 5. 5. 5. 5. 5. 5. 5. 5. 5. 5. 5. 5. 5. 5. 5. 5. 5. 5. 5. 5. 5. 5.\n",
      " 5. 5. 5. 5. 5. 5. 5. 5. 5. 5. 5. 5. 5. 5. 5. 5. 5. 5. 5. 5. 5. 5. 5. 5.\n",
      " 5. 5. 5. 5. 5. 5. 5. 5. 5. 5. 5. 5. 5. 5. 5. 5. 5. 5. 5. 5. 5. 5. 5. 5.\n",
      " 5. 5. 5. 5. 5. 5. 5. 5. 5. 5. 5. 5. 5. 5. 5. 5. 5. 5. 5. 5. 5. 5. 5. 5.\n",
      " 5. 5. 5. 5. 5. 5. 5. 5. 5. 5. 5. 5. 5. 5. 5. 5. 5. 5. 5. 5. 5. 5. 5. 5.\n",
      " 5. 5. 5. 5. 5. 5. 5. 5. 5. 5. 5. 5. 5. 5. 5. 5. 5. 5. 5. 5. 5. 5. 5. 5.\n",
      " 5. 5. 5. 5. 5. 5. 5. 5. 5. 5. 5. 5. 5. 5. 5. 5. 5. 5. 5. 5. 5. 5. 5. 5.\n",
      " 5. 5. 5. 5. 5. 5.]\n",
      "fp :  [19. 19. 19. 19. 19. 19. 19. 19. 19. 19. 19. 19. 19. 19. 19. 19. 19. 19.\n",
      " 19. 19. 19. 19. 19. 19. 19. 19. 19. 19. 19. 19. 19. 19. 19. 19. 19. 19.\n",
      " 19. 19. 19. 19. 19. 19. 19. 19. 19. 19. 19. 19. 19. 19. 19. 19. 19. 19.\n",
      " 19. 19. 19. 19. 19. 19. 19. 19. 19. 19. 19. 19. 19. 19. 19. 19. 19. 19.\n",
      " 19. 19. 19. 19. 19. 19. 19. 19. 19. 19. 19. 19. 19. 19. 19. 19. 19. 19.\n",
      " 19. 19. 19. 19. 19. 19. 19. 19. 19. 19. 19. 19. 19. 19. 19. 19. 19. 19.\n",
      " 19. 19. 19. 19. 19. 19. 19. 19. 19. 19. 19. 19. 19. 19. 19. 19. 19. 19.\n",
      " 19. 19. 19. 19. 19. 19. 19. 19. 19. 19. 19. 19. 19. 19. 19. 19. 19. 19.\n",
      " 19. 19. 19. 19. 19. 19. 19. 19. 19. 19. 19. 19. 19. 19. 19. 19. 19. 19.\n",
      " 19. 19. 19. 19. 19. 19. 19. 19. 19. 19. 19. 19. 19. 19. 19. 19. 19. 19.\n",
      " 19. 19. 19. 19. 19. 19. 19. 19. 19. 19. 19. 19. 19. 19. 19. 19. 19. 19.]\n",
      "tn :  [482. 482. 482. 482. 482. 482. 482. 482. 482. 482. 482. 482. 482. 482.\n",
      " 482. 482. 482. 482. 482. 482. 482. 482. 482. 482. 482. 482. 482. 482.\n",
      " 482. 482. 482. 482. 482. 482. 482. 482. 482. 482. 482. 482. 482. 482.\n",
      " 482. 482. 482. 482. 482. 482. 482. 482. 482. 482. 482. 482. 482. 482.\n",
      " 482. 482. 482. 482. 482. 482. 482. 482. 482. 482. 482. 482. 482. 482.\n",
      " 482. 482. 482. 482. 482. 482. 482. 482. 482. 482. 482. 482. 482. 482.\n",
      " 482. 482. 482. 482. 482. 482. 482. 482. 482. 482. 482. 482. 482. 482.\n",
      " 482. 482. 482. 482. 482. 482. 482. 482. 482. 482. 482. 482. 482. 482.\n",
      " 482. 482. 482. 482. 482. 482. 482. 482. 482. 482. 482. 482. 482. 482.\n",
      " 482. 482. 482. 482. 482. 482. 482. 482. 482. 482. 482. 482. 482. 482.\n",
      " 482. 482. 482. 482. 482. 482. 482. 482. 482. 482. 482. 482. 482. 482.\n",
      " 482. 482. 482. 482. 482. 482. 482. 482. 482. 482. 482. 482. 482. 482.\n",
      " 482. 482. 482. 482. 482. 482. 482. 482. 482. 482. 482. 482. 482. 482.\n",
      " 482. 482. 482. 482. 482. 482. 482. 482. 482. 482. 482. 482. 482. 482.\n",
      " 482. 482.]\n",
      "fn :  [18. 18. 18. 18. 18. 18. 18. 18. 18. 18. 18. 18. 18. 18. 18. 18. 18. 18.\n",
      " 18. 18. 18. 18. 18. 18. 18. 18. 18. 18. 18. 18. 18. 18. 18. 18. 18. 18.\n",
      " 18. 18. 18. 18. 18. 18. 18. 18. 18. 18. 18. 18. 18. 18. 18. 18. 18. 18.\n",
      " 18. 18. 18. 18. 18. 18. 18. 18. 18. 18. 18. 18. 18. 18. 18. 18. 18. 18.\n",
      " 18. 18. 18. 18. 18. 18. 18. 18. 18. 18. 18. 18. 18. 18. 18. 18. 18. 18.\n",
      " 18. 18. 18. 18. 18. 18. 18. 18. 18. 18. 18. 18. 18. 18. 18. 18. 18. 18.\n",
      " 18. 18. 18. 18. 18. 18. 18. 18. 18. 18. 18. 18. 18. 18. 18. 18. 18. 18.\n",
      " 18. 18. 18. 18. 18. 18. 18. 18. 18. 18. 18. 18. 18. 18. 18. 18. 18. 18.\n",
      " 18. 18. 18. 18. 18. 18. 18. 18. 18. 18. 18. 18. 18. 18. 18. 18. 18. 18.\n",
      " 18. 18. 18. 18. 18. 18. 18. 18. 18. 18. 18. 18. 18. 18. 18. 18. 18. 18.\n",
      " 18. 18. 18. 18. 18. 18. 18. 18. 18. 18. 18. 18. 18. 18. 18. 18. 18. 18.]\n",
      "accuracy :  0.9293892979621887\n",
      "precision :  [0.20833333 0.20833333 0.20833333 0.20833333 0.20833333 0.20833333\n",
      " 0.20833333 0.20833333 0.20833333 0.20833333 0.20833333 0.20833333\n",
      " 0.20833333 0.20833333 0.20833333 0.20833333 0.20833333 0.20833333\n",
      " 0.20833333 0.20833333 0.20833333 0.20833333 0.20833333 0.20833333\n",
      " 0.20833333 0.20833333 0.20833333 0.20833333 0.20833333 0.20833333\n",
      " 0.20833333 0.20833333 0.20833333 0.20833333 0.20833333 0.20833333\n",
      " 0.20833333 0.20833333 0.20833333 0.20833333 0.20833333 0.20833333\n",
      " 0.20833333 0.20833333 0.20833333 0.20833333 0.20833333 0.20833333\n",
      " 0.20833333 0.20833333 0.20833333 0.20833333 0.20833333 0.20833333\n",
      " 0.20833333 0.20833333 0.20833333 0.20833333 0.20833333 0.20833333\n",
      " 0.20833333 0.20833333 0.20833333 0.20833333 0.20833333 0.20833333\n",
      " 0.20833333 0.20833333 0.20833333 0.20833333 0.20833333 0.20833333\n",
      " 0.20833333 0.20833333 0.20833333 0.20833333 0.20833333 0.20833333\n",
      " 0.20833333 0.20833333 0.20833333 0.20833333 0.20833333 0.20833333\n",
      " 0.20833333 0.20833333 0.20833333 0.20833333 0.20833333 0.20833333\n",
      " 0.20833333 0.20833333 0.20833333 0.20833333 0.20833333 0.20833333\n",
      " 0.20833333 0.20833333 0.20833333 0.20833333 0.20833333 0.20833333\n",
      " 0.20833333 0.20833333 0.20833333 0.20833333 0.20833333 0.20833333\n",
      " 0.20833333 0.20833333 0.20833333 0.20833333 0.20833333 0.20833333\n",
      " 0.20833333 0.20833333 0.20833333 0.20833333 0.20833333 0.20833333\n",
      " 0.20833333 0.20833333 0.20833333 0.20833333 0.20833333 0.20833333\n",
      " 0.20833333 0.20833333 0.20833333 0.20833333 0.20833333 0.20833333\n",
      " 0.20833333 0.20833333 0.20833333 0.20833333 0.20833333 0.20833333\n",
      " 0.20833333 0.20833333 0.20833333 0.20833333 0.20833333 0.20833333\n",
      " 0.20833333 0.20833333 0.20833333 0.20833333 0.20833333 0.20833333\n",
      " 0.20833333 0.20833333 0.20833333 0.20833333 0.20833333 0.20833333\n",
      " 0.20833333 0.20833333 0.20833333 0.20833333 0.20833333 0.20833333\n",
      " 0.20833333 0.20833333 0.20833333 0.20833333 0.20833333 0.20833333\n",
      " 0.20833333 0.20833333 0.20833333 0.20833333 0.20833333 0.20833333\n",
      " 0.20833333 0.20833333 0.20833333 0.20833333 0.20833333 0.20833333\n",
      " 0.20833333 0.20833333 0.20833333 0.20833333 0.20833333 0.20833333\n",
      " 0.20833333 0.20833333 0.20833333 0.20833333 0.20833333 0.20833333\n",
      " 0.20833333 0.20833333 0.20833333 0.20833333 0.20833333 0.20833333]\n",
      "recall :  [0.2173913 0.2173913 0.2173913 0.2173913 0.2173913 0.2173913 0.2173913\n",
      " 0.2173913 0.2173913 0.2173913 0.2173913 0.2173913 0.2173913 0.2173913\n",
      " 0.2173913 0.2173913 0.2173913 0.2173913 0.2173913 0.2173913 0.2173913\n",
      " 0.2173913 0.2173913 0.2173913 0.2173913 0.2173913 0.2173913 0.2173913\n",
      " 0.2173913 0.2173913 0.2173913 0.2173913 0.2173913 0.2173913 0.2173913\n",
      " 0.2173913 0.2173913 0.2173913 0.2173913 0.2173913 0.2173913 0.2173913\n",
      " 0.2173913 0.2173913 0.2173913 0.2173913 0.2173913 0.2173913 0.2173913\n",
      " 0.2173913 0.2173913 0.2173913 0.2173913 0.2173913 0.2173913 0.2173913\n",
      " 0.2173913 0.2173913 0.2173913 0.2173913 0.2173913 0.2173913 0.2173913\n",
      " 0.2173913 0.2173913 0.2173913 0.2173913 0.2173913 0.2173913 0.2173913\n",
      " 0.2173913 0.2173913 0.2173913 0.2173913 0.2173913 0.2173913 0.2173913\n",
      " 0.2173913 0.2173913 0.2173913 0.2173913 0.2173913 0.2173913 0.2173913\n",
      " 0.2173913 0.2173913 0.2173913 0.2173913 0.2173913 0.2173913 0.2173913\n",
      " 0.2173913 0.2173913 0.2173913 0.2173913 0.2173913 0.2173913 0.2173913\n",
      " 0.2173913 0.2173913 0.2173913 0.2173913 0.2173913 0.2173913 0.2173913\n",
      " 0.2173913 0.2173913 0.2173913 0.2173913 0.2173913 0.2173913 0.2173913\n",
      " 0.2173913 0.2173913 0.2173913 0.2173913 0.2173913 0.2173913 0.2173913\n",
      " 0.2173913 0.2173913 0.2173913 0.2173913 0.2173913 0.2173913 0.2173913\n",
      " 0.2173913 0.2173913 0.2173913 0.2173913 0.2173913 0.2173913 0.2173913\n",
      " 0.2173913 0.2173913 0.2173913 0.2173913 0.2173913 0.2173913 0.2173913\n",
      " 0.2173913 0.2173913 0.2173913 0.2173913 0.2173913 0.2173913 0.2173913\n",
      " 0.2173913 0.2173913 0.2173913 0.2173913 0.2173913 0.2173913 0.2173913\n",
      " 0.2173913 0.2173913 0.2173913 0.2173913 0.2173913 0.2173913 0.2173913\n",
      " 0.2173913 0.2173913 0.2173913 0.2173913 0.2173913 0.2173913 0.2173913\n",
      " 0.2173913 0.2173913 0.2173913 0.2173913 0.2173913 0.2173913 0.2173913\n",
      " 0.2173913 0.2173913 0.2173913 0.2173913 0.2173913 0.2173913 0.2173913\n",
      " 0.2173913 0.2173913 0.2173913 0.2173913 0.2173913 0.2173913 0.2173913\n",
      " 0.2173913 0.2173913 0.2173913 0.2173913 0.2173913 0.2173913 0.2173913\n",
      " 0.2173913 0.2173913]\n",
      "auc :  0.5897335410118103\n",
      "prc :  0.09342513978481293\n"
     ]
    }
   ],
   "source": [
    "val_performance['Baseline'] = baseline.evaluate(single_step_window.val)\n",
    "before_fine_tuning_performance['Baseline'] = baseline.evaluate(single_step_window.test, verbose=0)\n",
    "for name, value in zip(baseline.metrics_names, before_fine_tuning_performance['Baseline']):\n",
    "  print(name, ': ', value)"
   ]
  },
  {
   "cell_type": "code",
   "execution_count": 22,
   "id": "49422549",
   "metadata": {},
   "outputs": [
    {
     "name": "stdout",
     "output_type": "stream",
     "text": [
      "Epoch 1/20\n",
      "17/17 [==============================] - 3s 81ms/step - loss: 1.4049 - tp: 31.0000 - fp: 43.0000 - tn: 932.0000 - fn: 42.0000 - accuracy: 0.9189 - precision: 0.4189 - recall: 0.4247 - auc: 0.6903 - prc: 0.2462 - val_loss: 1.8946 - val_tp: 24.0000 - val_fp: 384.0000 - val_tn: 5425.0000 - val_fn: 384.0000 - val_accuracy: 0.8765 - val_precision: 0.0588 - val_recall: 0.0588 - val_auc: 0.4964 - val_prc: 0.0644\n",
      "Epoch 2/20\n",
      "17/17 [==============================] - 1s 38ms/step - loss: 1.4049 - tp: 26.0000 - fp: 24.0000 - tn: 450.0000 - fn: 24.0000 - accuracy: 0.9084 - precision: 0.5200 - recall: 0.5200 - auc: 0.7347 - prc: 0.3505 - val_loss: 1.8946 - val_tp: 24.0000 - val_fp: 384.0000 - val_tn: 5425.0000 - val_fn: 384.0000 - val_accuracy: 0.8765 - val_precision: 0.0588 - val_recall: 0.0588 - val_auc: 0.4964 - val_prc: 0.0644\n",
      "Epoch 3/20\n",
      "17/17 [==============================] - 1s 38ms/step - loss: 1.4049 - tp: 26.0000 - fp: 24.0000 - tn: 450.0000 - fn: 24.0000 - accuracy: 0.9084 - precision: 0.5200 - recall: 0.5200 - auc: 0.7347 - prc: 0.3505 - val_loss: 1.8946 - val_tp: 24.0000 - val_fp: 384.0000 - val_tn: 5425.0000 - val_fn: 384.0000 - val_accuracy: 0.8765 - val_precision: 0.0588 - val_recall: 0.0588 - val_auc: 0.4964 - val_prc: 0.0644\n"
     ]
    }
   ],
   "source": [
    "history = fine_tune(baseline, single_step_window)"
   ]
  },
  {
   "cell_type": "code",
   "execution_count": 23,
   "id": "297bd932",
   "metadata": {},
   "outputs": [
    {
     "name": "stdout",
     "output_type": "stream",
     "text": [
      "loss :  1.0827951431274414\n",
      "tp :  [5. 5. 5. 5. 5. 5. 5. 5. 5. 5. 5. 5. 5. 5. 5. 5. 5. 5. 5. 5. 5. 5. 5. 5.\n",
      " 5. 5. 5. 5. 5. 5. 5. 5. 5. 5. 5. 5. 5. 5. 5. 5. 5. 5. 5. 5. 5. 5. 5. 5.\n",
      " 5. 5. 5. 5. 5. 5. 5. 5. 5. 5. 5. 5. 5. 5. 5. 5. 5. 5. 5. 5. 5. 5. 5. 5.\n",
      " 5. 5. 5. 5. 5. 5. 5. 5. 5. 5. 5. 5. 5. 5. 5. 5. 5. 5. 5. 5. 5. 5. 5. 5.\n",
      " 5. 5. 5. 5. 5. 5. 5. 5. 5. 5. 5. 5. 5. 5. 5. 5. 5. 5. 5. 5. 5. 5. 5. 5.\n",
      " 5. 5. 5. 5. 5. 5. 5. 5. 5. 5. 5. 5. 5. 5. 5. 5. 5. 5. 5. 5. 5. 5. 5. 5.\n",
      " 5. 5. 5. 5. 5. 5. 5. 5. 5. 5. 5. 5. 5. 5. 5. 5. 5. 5. 5. 5. 5. 5. 5. 5.\n",
      " 5. 5. 5. 5. 5. 5. 5. 5. 5. 5. 5. 5. 5. 5. 5. 5. 5. 5. 5. 5. 5. 5. 5. 5.\n",
      " 5. 5. 5. 5. 5. 5.]\n",
      "fp :  [19. 19. 19. 19. 19. 19. 19. 19. 19. 19. 19. 19. 19. 19. 19. 19. 19. 19.\n",
      " 19. 19. 19. 19. 19. 19. 19. 19. 19. 19. 19. 19. 19. 19. 19. 19. 19. 19.\n",
      " 19. 19. 19. 19. 19. 19. 19. 19. 19. 19. 19. 19. 19. 19. 19. 19. 19. 19.\n",
      " 19. 19. 19. 19. 19. 19. 19. 19. 19. 19. 19. 19. 19. 19. 19. 19. 19. 19.\n",
      " 19. 19. 19. 19. 19. 19. 19. 19. 19. 19. 19. 19. 19. 19. 19. 19. 19. 19.\n",
      " 19. 19. 19. 19. 19. 19. 19. 19. 19. 19. 19. 19. 19. 19. 19. 19. 19. 19.\n",
      " 19. 19. 19. 19. 19. 19. 19. 19. 19. 19. 19. 19. 19. 19. 19. 19. 19. 19.\n",
      " 19. 19. 19. 19. 19. 19. 19. 19. 19. 19. 19. 19. 19. 19. 19. 19. 19. 19.\n",
      " 19. 19. 19. 19. 19. 19. 19. 19. 19. 19. 19. 19. 19. 19. 19. 19. 19. 19.\n",
      " 19. 19. 19. 19. 19. 19. 19. 19. 19. 19. 19. 19. 19. 19. 19. 19. 19. 19.\n",
      " 19. 19. 19. 19. 19. 19. 19. 19. 19. 19. 19. 19. 19. 19. 19. 19. 19. 19.]\n",
      "tn :  [482. 482. 482. 482. 482. 482. 482. 482. 482. 482. 482. 482. 482. 482.\n",
      " 482. 482. 482. 482. 482. 482. 482. 482. 482. 482. 482. 482. 482. 482.\n",
      " 482. 482. 482. 482. 482. 482. 482. 482. 482. 482. 482. 482. 482. 482.\n",
      " 482. 482. 482. 482. 482. 482. 482. 482. 482. 482. 482. 482. 482. 482.\n",
      " 482. 482. 482. 482. 482. 482. 482. 482. 482. 482. 482. 482. 482. 482.\n",
      " 482. 482. 482. 482. 482. 482. 482. 482. 482. 482. 482. 482. 482. 482.\n",
      " 482. 482. 482. 482. 482. 482. 482. 482. 482. 482. 482. 482. 482. 482.\n",
      " 482. 482. 482. 482. 482. 482. 482. 482. 482. 482. 482. 482. 482. 482.\n",
      " 482. 482. 482. 482. 482. 482. 482. 482. 482. 482. 482. 482. 482. 482.\n",
      " 482. 482. 482. 482. 482. 482. 482. 482. 482. 482. 482. 482. 482. 482.\n",
      " 482. 482. 482. 482. 482. 482. 482. 482. 482. 482. 482. 482. 482. 482.\n",
      " 482. 482. 482. 482. 482. 482. 482. 482. 482. 482. 482. 482. 482. 482.\n",
      " 482. 482. 482. 482. 482. 482. 482. 482. 482. 482. 482. 482. 482. 482.\n",
      " 482. 482. 482. 482. 482. 482. 482. 482. 482. 482. 482. 482. 482. 482.\n",
      " 482. 482.]\n",
      "fn :  [18. 18. 18. 18. 18. 18. 18. 18. 18. 18. 18. 18. 18. 18. 18. 18. 18. 18.\n",
      " 18. 18. 18. 18. 18. 18. 18. 18. 18. 18. 18. 18. 18. 18. 18. 18. 18. 18.\n",
      " 18. 18. 18. 18. 18. 18. 18. 18. 18. 18. 18. 18. 18. 18. 18. 18. 18. 18.\n",
      " 18. 18. 18. 18. 18. 18. 18. 18. 18. 18. 18. 18. 18. 18. 18. 18. 18. 18.\n",
      " 18. 18. 18. 18. 18. 18. 18. 18. 18. 18. 18. 18. 18. 18. 18. 18. 18. 18.\n",
      " 18. 18. 18. 18. 18. 18. 18. 18. 18. 18. 18. 18. 18. 18. 18. 18. 18. 18.\n",
      " 18. 18. 18. 18. 18. 18. 18. 18. 18. 18. 18. 18. 18. 18. 18. 18. 18. 18.\n",
      " 18. 18. 18. 18. 18. 18. 18. 18. 18. 18. 18. 18. 18. 18. 18. 18. 18. 18.\n",
      " 18. 18. 18. 18. 18. 18. 18. 18. 18. 18. 18. 18. 18. 18. 18. 18. 18. 18.\n",
      " 18. 18. 18. 18. 18. 18. 18. 18. 18. 18. 18. 18. 18. 18. 18. 18. 18. 18.\n",
      " 18. 18. 18. 18. 18. 18. 18. 18. 18. 18. 18. 18. 18. 18. 18. 18. 18. 18.]\n",
      "accuracy :  0.9293892979621887\n",
      "precision :  [0.20833333 0.20833333 0.20833333 0.20833333 0.20833333 0.20833333\n",
      " 0.20833333 0.20833333 0.20833333 0.20833333 0.20833333 0.20833333\n",
      " 0.20833333 0.20833333 0.20833333 0.20833333 0.20833333 0.20833333\n",
      " 0.20833333 0.20833333 0.20833333 0.20833333 0.20833333 0.20833333\n",
      " 0.20833333 0.20833333 0.20833333 0.20833333 0.20833333 0.20833333\n",
      " 0.20833333 0.20833333 0.20833333 0.20833333 0.20833333 0.20833333\n",
      " 0.20833333 0.20833333 0.20833333 0.20833333 0.20833333 0.20833333\n",
      " 0.20833333 0.20833333 0.20833333 0.20833333 0.20833333 0.20833333\n",
      " 0.20833333 0.20833333 0.20833333 0.20833333 0.20833333 0.20833333\n",
      " 0.20833333 0.20833333 0.20833333 0.20833333 0.20833333 0.20833333\n",
      " 0.20833333 0.20833333 0.20833333 0.20833333 0.20833333 0.20833333\n",
      " 0.20833333 0.20833333 0.20833333 0.20833333 0.20833333 0.20833333\n",
      " 0.20833333 0.20833333 0.20833333 0.20833333 0.20833333 0.20833333\n",
      " 0.20833333 0.20833333 0.20833333 0.20833333 0.20833333 0.20833333\n",
      " 0.20833333 0.20833333 0.20833333 0.20833333 0.20833333 0.20833333\n",
      " 0.20833333 0.20833333 0.20833333 0.20833333 0.20833333 0.20833333\n",
      " 0.20833333 0.20833333 0.20833333 0.20833333 0.20833333 0.20833333\n",
      " 0.20833333 0.20833333 0.20833333 0.20833333 0.20833333 0.20833333\n",
      " 0.20833333 0.20833333 0.20833333 0.20833333 0.20833333 0.20833333\n",
      " 0.20833333 0.20833333 0.20833333 0.20833333 0.20833333 0.20833333\n",
      " 0.20833333 0.20833333 0.20833333 0.20833333 0.20833333 0.20833333\n",
      " 0.20833333 0.20833333 0.20833333 0.20833333 0.20833333 0.20833333\n",
      " 0.20833333 0.20833333 0.20833333 0.20833333 0.20833333 0.20833333\n",
      " 0.20833333 0.20833333 0.20833333 0.20833333 0.20833333 0.20833333\n",
      " 0.20833333 0.20833333 0.20833333 0.20833333 0.20833333 0.20833333\n",
      " 0.20833333 0.20833333 0.20833333 0.20833333 0.20833333 0.20833333\n",
      " 0.20833333 0.20833333 0.20833333 0.20833333 0.20833333 0.20833333\n",
      " 0.20833333 0.20833333 0.20833333 0.20833333 0.20833333 0.20833333\n",
      " 0.20833333 0.20833333 0.20833333 0.20833333 0.20833333 0.20833333\n",
      " 0.20833333 0.20833333 0.20833333 0.20833333 0.20833333 0.20833333\n",
      " 0.20833333 0.20833333 0.20833333 0.20833333 0.20833333 0.20833333\n",
      " 0.20833333 0.20833333 0.20833333 0.20833333 0.20833333 0.20833333\n",
      " 0.20833333 0.20833333 0.20833333 0.20833333 0.20833333 0.20833333]\n",
      "recall :  [0.2173913 0.2173913 0.2173913 0.2173913 0.2173913 0.2173913 0.2173913\n",
      " 0.2173913 0.2173913 0.2173913 0.2173913 0.2173913 0.2173913 0.2173913\n",
      " 0.2173913 0.2173913 0.2173913 0.2173913 0.2173913 0.2173913 0.2173913\n",
      " 0.2173913 0.2173913 0.2173913 0.2173913 0.2173913 0.2173913 0.2173913\n",
      " 0.2173913 0.2173913 0.2173913 0.2173913 0.2173913 0.2173913 0.2173913\n",
      " 0.2173913 0.2173913 0.2173913 0.2173913 0.2173913 0.2173913 0.2173913\n",
      " 0.2173913 0.2173913 0.2173913 0.2173913 0.2173913 0.2173913 0.2173913\n",
      " 0.2173913 0.2173913 0.2173913 0.2173913 0.2173913 0.2173913 0.2173913\n",
      " 0.2173913 0.2173913 0.2173913 0.2173913 0.2173913 0.2173913 0.2173913\n",
      " 0.2173913 0.2173913 0.2173913 0.2173913 0.2173913 0.2173913 0.2173913\n",
      " 0.2173913 0.2173913 0.2173913 0.2173913 0.2173913 0.2173913 0.2173913\n",
      " 0.2173913 0.2173913 0.2173913 0.2173913 0.2173913 0.2173913 0.2173913\n",
      " 0.2173913 0.2173913 0.2173913 0.2173913 0.2173913 0.2173913 0.2173913\n",
      " 0.2173913 0.2173913 0.2173913 0.2173913 0.2173913 0.2173913 0.2173913\n",
      " 0.2173913 0.2173913 0.2173913 0.2173913 0.2173913 0.2173913 0.2173913\n",
      " 0.2173913 0.2173913 0.2173913 0.2173913 0.2173913 0.2173913 0.2173913\n",
      " 0.2173913 0.2173913 0.2173913 0.2173913 0.2173913 0.2173913 0.2173913\n",
      " 0.2173913 0.2173913 0.2173913 0.2173913 0.2173913 0.2173913 0.2173913\n",
      " 0.2173913 0.2173913 0.2173913 0.2173913 0.2173913 0.2173913 0.2173913\n",
      " 0.2173913 0.2173913 0.2173913 0.2173913 0.2173913 0.2173913 0.2173913\n",
      " 0.2173913 0.2173913 0.2173913 0.2173913 0.2173913 0.2173913 0.2173913\n",
      " 0.2173913 0.2173913 0.2173913 0.2173913 0.2173913 0.2173913 0.2173913\n",
      " 0.2173913 0.2173913 0.2173913 0.2173913 0.2173913 0.2173913 0.2173913\n",
      " 0.2173913 0.2173913 0.2173913 0.2173913 0.2173913 0.2173913 0.2173913\n",
      " 0.2173913 0.2173913 0.2173913 0.2173913 0.2173913 0.2173913 0.2173913\n",
      " 0.2173913 0.2173913 0.2173913 0.2173913 0.2173913 0.2173913 0.2173913\n",
      " 0.2173913 0.2173913 0.2173913 0.2173913 0.2173913 0.2173913 0.2173913\n",
      " 0.2173913 0.2173913 0.2173913 0.2173913 0.2173913 0.2173913 0.2173913\n",
      " 0.2173913 0.2173913]\n",
      "auc :  0.5897335410118103\n",
      "prc :  0.09342513978481293\n"
     ]
    }
   ],
   "source": [
    "performance['Baseline'] = baseline.evaluate(single_step_window.test, verbose=0)\n",
    "for name, value in zip(baseline.metrics_names, performance['Baseline']):\n",
    "  print(name, ': ', value)"
   ]
  },
  {
   "cell_type": "code",
   "execution_count": 24,
   "id": "7b834b08",
   "metadata": {},
   "outputs": [
    {
     "data": {
      "image/png": "[encoded data removed]",
      "text/plain": [
       "<Figure size 864x576 with 3 Axes>"
      ]
     },
     "metadata": {
      "needs_background": "light"
     },
     "output_type": "display_data"
    }
   ],
   "source": [
    "wide_window.plot(model=baseline, plot_col=\"wearing_off\")"
   ]
  },
  {
   "cell_type": "markdown",
   "id": "96428e9c",
   "metadata": {},
   "source": [
    "## Linear"
   ]
  },
  {
   "cell_type": "code",
   "execution_count": 41,
   "id": "a456937d-f35e-4457-a5f0-9dcb3b34609f",
   "metadata": {},
   "outputs": [
    {
     "name": "stdout",
     "output_type": "stream",
     "text": [
      "Epoch 1/20\n",
      "292/292 [==============================] - 4s 6ms/step - loss: 1.4518 - tp: 573.5455 - fp: 5899.9194 - tn: 2579.0808 - fn: 274.4546 - accuracy: 0.2485 - precision: 0.0852 - recall: 0.6764 - auc: 0.4664 - prc: 0.0824 - val_loss: 0.8668 - val_tp: 199.1818 - val_fp: 3144.3940 - val_tn: 2664.6060 - val_fn: 208.8182 - val_accuracy: 0.4147 - val_precision: 0.0513 - val_recall: 0.4882 - val_auc: 0.4165 - val_prc: 0.0555\n",
      "Epoch 2/20\n",
      "292/292 [==============================] - 2s 4ms/step - loss: 0.8773 - tp: 433.2020 - fp: 4538.5049 - tn: 3940.4949 - fn: 414.7980 - accuracy: 0.4468 - precision: 0.0831 - recall: 0.5109 - auc: 0.4599 - prc: 0.0815 - val_loss: 0.5745 - val_tp: 149.7172 - val_fp: 2318.6616 - val_tn: 3490.3384 - val_fn: 258.2828 - val_accuracy: 0.7423 - val_precision: 0.0513 - val_recall: 0.3670 - val_auc: 0.4211 - val_prc: 0.0561\n",
      "Epoch 3/20\n",
      "292/292 [==============================] - 2s 4ms/step - loss: 0.5691 - tp: 309.9748 - fp: 3212.8586 - tn: 5266.1416 - fn: 538.0253 - accuracy: 0.7499 - precision: 0.0915 - recall: 0.3655 - auc: 0.4683 - prc: 0.0840 - val_loss: 0.4346 - val_tp: 115.8131 - val_fp: 1739.9495 - val_tn: 4069.0505 - val_fn: 292.1869 - val_accuracy: 0.9133 - val_precision: 0.0514 - val_recall: 0.2839 - val_auc: 0.4499 - val_prc: 0.0596\n",
      "Epoch 4/20\n",
      "292/292 [==============================] - 2s 4ms/step - loss: 0.4392 - tp: 226.8131 - fp: 2320.9495 - tn: 6158.0503 - fn: 621.1869 - accuracy: 0.8849 - precision: 0.0950 - recall: 0.2675 - auc: 0.4758 - prc: 0.0873 - val_loss: 0.3657 - val_tp: 95.0152 - val_fp: 1382.9242 - val_tn: 4426.0757 - val_fn: 312.9849 - val_accuracy: 0.9241 - val_precision: 0.0511 - val_recall: 0.2329 - val_auc: 0.4856 - val_prc: 0.0632\n",
      "Epoch 5/20\n",
      "292/292 [==============================] - 2s 4ms/step - loss: 0.3824 - tp: 182.5253 - fp: 1817.5959 - tn: 6661.4038 - fn: 665.4747 - accuracy: 0.8984 - precision: 0.0924 - recall: 0.2152 - auc: 0.4980 - prc: 0.0924 - val_loss: 0.3285 - val_tp: 81.8283 - val_fp: 1159.0858 - val_tn: 4649.9141 - val_fn: 326.1717 - val_accuracy: 0.9278 - val_precision: 0.0510 - val_recall: 0.2006 - val_auc: 0.5121 - val_prc: 0.0664\n",
      "Epoch 6/20\n",
      "292/292 [==============================] - 2s 4ms/step - loss: 0.3545 - tp: 154.3535 - fp: 1509.4899 - tn: 6969.5103 - fn: 693.6465 - accuracy: 0.9028 - precision: 0.0823 - recall: 0.1820 - auc: 0.5100 - prc: 0.0957 - val_loss: 0.3076 - val_tp: 73.5606 - val_fp: 1020.4849 - val_tn: 4788.5151 - val_fn: 334.4394 - val_accuracy: 0.9305 - val_precision: 0.0501 - val_recall: 0.1803 - val_auc: 0.5283 - val_prc: 0.0687\n",
      "Epoch 7/20\n",
      "292/292 [==============================] - 2s 5ms/step - loss: 0.3391 - tp: 139.9394 - fp: 1322.6666 - tn: 7156.3335 - fn: 708.0606 - accuracy: 0.9047 - precision: 0.0770 - recall: 0.1650 - auc: 0.5278 - prc: 0.1012 - val_loss: 0.2945 - val_tp: 67.9394 - val_fp: 926.6263 - val_tn: 4882.3735 - val_fn: 340.0606 - val_accuracy: 0.9323 - val_precision: 0.0477 - val_recall: 0.1665 - val_auc: 0.5394 - val_prc: 0.0708\n",
      "Epoch 8/20\n",
      "292/292 [==============================] - 2s 4ms/step - loss: 0.3297 - tp: 130.0556 - fp: 1198.2980 - tn: 7280.7021 - fn: 717.9445 - accuracy: 0.9062 - precision: 0.0643 - recall: 0.1534 - auc: 0.5418 - prc: 0.1048 - val_loss: 0.2859 - val_tp: 64.2071 - val_fp: 863.1465 - val_tn: 4945.8535 - val_fn: 343.7929 - val_accuracy: 0.9329 - val_precision: 0.0436 - val_recall: 0.1574 - val_auc: 0.5476 - val_prc: 0.0723\n",
      "Epoch 9/20\n",
      "292/292 [==============================] - 2s 4ms/step - loss: 0.3229 - tp: 125.9697 - fp: 1127.3131 - tn: 7351.6870 - fn: 722.0303 - accuracy: 0.9072 - precision: 0.0621 - recall: 0.1485 - auc: 0.5571 - prc: 0.1095 - val_loss: 0.2798 - val_tp: 61.4192 - val_fp: 816.5808 - val_tn: 4992.4194 - val_fn: 346.5808 - val_accuracy: 0.9331 - val_precision: 0.0394 - val_recall: 0.1505 - val_auc: 0.5536 - val_prc: 0.0733\n",
      "Epoch 10/20\n",
      "292/292 [==============================] - 2s 4ms/step - loss: 0.3182 - tp: 121.0808 - fp: 1059.9799 - tn: 7419.0200 - fn: 726.9192 - accuracy: 0.9078 - precision: 0.0518 - recall: 0.1428 - auc: 0.5675 - prc: 0.1125 - val_loss: 0.2756 - val_tp: 59.7273 - val_fp: 785.0707 - val_tn: 5023.9292 - val_fn: 348.2727 - val_accuracy: 0.9334 - val_precision: 0.0361 - val_recall: 0.1464 - val_auc: 0.5593 - val_prc: 0.0744\n",
      "Epoch 11/20\n",
      "292/292 [==============================] - 2s 4ms/step - loss: 0.3141 - tp: 120.4141 - fp: 1029.4950 - tn: 7449.5049 - fn: 727.5859 - accuracy: 0.9085 - precision: 0.0540 - recall: 0.1420 - auc: 0.5795 - prc: 0.1174 - val_loss: 0.2719 - val_tp: 58.0808 - val_fp: 757.4141 - val_tn: 5051.5859 - val_fn: 349.9192 - val_accuracy: 0.9341 - val_precision: 0.0322 - val_recall: 0.1424 - val_auc: 0.5636 - val_prc: 0.0750\n",
      "Epoch 12/20\n",
      "292/292 [==============================] - 2s 4ms/step - loss: 0.3107 - tp: 114.9697 - fp: 968.8232 - tn: 7510.1768 - fn: 733.0303 - accuracy: 0.9088 - precision: 0.0456 - recall: 0.1356 - auc: 0.5876 - prc: 0.1189 - val_loss: 0.2696 - val_tp: 57.1919 - val_fp: 741.7677 - val_tn: 5067.2324 - val_fn: 350.8081 - val_accuracy: 0.9342 - val_precision: 0.0298 - val_recall: 0.1402 - val_auc: 0.5666 - val_prc: 0.0756\n",
      "Epoch 13/20\n",
      "292/292 [==============================] - 2s 4ms/step - loss: 0.3078 - tp: 119.9596 - fp: 981.1313 - tn: 7497.8687 - fn: 728.0404 - accuracy: 0.9089 - precision: 0.0476 - recall: 0.1415 - auc: 0.6049 - prc: 0.1254 - val_loss: 0.2679 - val_tp: 56.4545 - val_fp: 729.0505 - val_tn: 5079.9497 - val_fn: 351.5454 - val_accuracy: 0.9344 - val_precision: 0.0275 - val_recall: 0.1384 - val_auc: 0.5693 - val_prc: 0.0761\n",
      "Epoch 14/20\n",
      "292/292 [==============================] - 2s 4ms/step - loss: 0.3053 - tp: 119.9192 - fp: 969.9747 - tn: 7509.0254 - fn: 728.0808 - accuracy: 0.9090 - precision: 0.0473 - recall: 0.1414 - auc: 0.6148 - prc: 0.1282 - val_loss: 0.2651 - val_tp: 55.1313 - val_fp: 707.0606 - val_tn: 5101.9395 - val_fn: 352.8687 - val_accuracy: 0.9344 - val_precision: 0.0257 - val_recall: 0.1351 - val_auc: 0.5737 - val_prc: 0.0768\n",
      "Epoch 15/20\n",
      "292/292 [==============================] - 2s 4ms/step - loss: 0.3030 - tp: 115.7374 - fp: 923.5606 - tn: 7555.4395 - fn: 732.2626 - accuracy: 0.9090 - precision: 0.0473 - recall: 0.1365 - auc: 0.6206 - prc: 0.1301 - val_loss: 0.2637 - val_tp: 54.4242 - val_fp: 696.9445 - val_tn: 5112.0557 - val_fn: 353.5757 - val_accuracy: 0.9344 - val_precision: 0.0242 - val_recall: 0.1334 - val_auc: 0.5757 - val_prc: 0.0766\n",
      "Epoch 16/20\n",
      "292/292 [==============================] - 2s 4ms/step - loss: 0.3011 - tp: 117.9646 - fp: 928.3990 - tn: 7550.6011 - fn: 730.0353 - accuracy: 0.9091 - precision: 0.0488 - recall: 0.1391 - auc: 0.6300 - prc: 0.1337 - val_loss: 0.2630 - val_tp: 54.1010 - val_fp: 691.0909 - val_tn: 5117.9092 - val_fn: 353.8990 - val_accuracy: 0.9344 - val_precision: 0.0235 - val_recall: 0.1326 - val_auc: 0.5785 - val_prc: 0.0772\n",
      "Epoch 17/20\n",
      "292/292 [==============================] - 2s 4ms/step - loss: 0.2992 - tp: 118.7626 - fp: 919.5101 - tn: 7559.4897 - fn: 729.2374 - accuracy: 0.9091 - precision: 0.0507 - recall: 0.1401 - auc: 0.6403 - prc: 0.1381 - val_loss: 0.2616 - val_tp: 53.1465 - val_fp: 679.7929 - val_tn: 5129.2070 - val_fn: 354.8535 - val_accuracy: 0.9344 - val_precision: 0.0224 - val_recall: 0.1303 - val_auc: 0.5791 - val_prc: 0.0770\n",
      "Epoch 18/20\n",
      "292/292 [==============================] - 2s 4ms/step - loss: 0.2975 - tp: 116.2273 - fp: 894.0101 - tn: 7584.9897 - fn: 731.7727 - accuracy: 0.9091 - precision: 0.0500 - recall: 0.1371 - auc: 0.6455 - prc: 0.1395 - val_loss: 0.2607 - val_tp: 52.5556 - val_fp: 671.1010 - val_tn: 5137.8989 - val_fn: 355.4445 - val_accuracy: 0.9344 - val_precision: 0.0218 - val_recall: 0.1288 - val_auc: 0.5812 - val_prc: 0.0772\n",
      "Epoch 19/20\n",
      "292/292 [==============================] - 2s 4ms/step - loss: 0.2961 - tp: 116.5657 - fp: 888.2323 - tn: 7590.7676 - fn: 731.4343 - accuracy: 0.9091 - precision: 0.0499 - recall: 0.1375 - auc: 0.6534 - prc: 0.1418 - val_loss: 0.2596 - val_tp: 51.6667 - val_fp: 660.8182 - val_tn: 5148.1816 - val_fn: 356.3333 - val_accuracy: 0.9344 - val_precision: 0.0209 - val_recall: 0.1266 - val_auc: 0.5816 - val_prc: 0.0770\n",
      "Epoch 20/20\n",
      "292/292 [==============================] - 2s 4ms/step - loss: 0.2948 - tp: 116.3687 - fp: 875.5606 - tn: 7603.4395 - fn: 731.6313 - accuracy: 0.9091 - precision: 0.0533 - recall: 0.1372 - auc: 0.6586 - prc: 0.1444 - val_loss: 0.2593 - val_tp: 51.5051 - val_fp: 659.4192 - val_tn: 5149.5806 - val_fn: 356.4950 - val_accuracy: 0.9344 - val_precision: 0.0203 - val_recall: 0.1262 - val_auc: 0.5824 - val_prc: 0.0770\n"
     ]
    }
   ],
   "source": [
    "K.clear_session()\n",
    "linear = tf.keras.Sequential([\n",
    "    tf.keras.layers.Dense(units=1, activation=\"sigmoid\")\n",
    "])\n",
    "history = compile_and_fit(linear, single_step_window)"
   ]
  },
  {
   "cell_type": "code",
   "execution_count": 46,
   "id": "6224d508",
   "metadata": {},
   "outputs": [
    {
     "name": "stdout",
     "output_type": "stream",
     "text": [
      "195/195 [==============================] - 1s 2ms/step - loss: 0.2593 - tp: 51.5051 - fp: 659.4192 - tn: 5149.5806 - fn: 356.4950 - accuracy: 0.9344 - precision: 0.0203 - recall: 0.1262 - auc: 0.5824 - prc: 0.0770      \n",
      "loss :  0.18336737155914307\n",
      "tp :  [23. 23. 23. 23. 23. 23. 23. 23. 23. 23. 23. 23. 23. 23. 23. 23. 23. 23.\n",
      " 22. 22. 22. 22. 22. 22. 22. 21. 21. 21. 21. 18. 17. 17. 16. 15. 14. 12.\n",
      " 12. 11. 11. 11. 10.  8.  8.  7.  7.  7.  7.  6.  6.  5.  5.  5.  5.  5.\n",
      "  4.  4.  4.  4.  4.  4.  4.  3.  2.  0.  0.  0.  0.  0.  0.  0.  0.  0.\n",
      "  0.  0.  0.  0.  0.  0.  0.  0.  0.  0.  0.  0.  0.  0.  0.  0.  0.  0.\n",
      "  0.  0.  0.  0.  0.  0.  0.  0.  0.  0.  0.  0.  0.  0.  0.  0.  0.  0.\n",
      "  0.  0.  0.  0.  0.  0.  0.  0.  0.  0.  0.  0.  0.  0.  0.  0.  0.  0.\n",
      "  0.  0.  0.  0.  0.  0.  0.  0.  0.  0.  0.  0.  0.  0.  0.  0.  0.  0.\n",
      "  0.  0.  0.  0.  0.  0.  0.  0.  0.  0.  0.  0.  0.  0.  0.  0.  0.  0.\n",
      "  0.  0.  0.  0.  0.  0.  0.  0.  0.  0.  0.  0.  0.  0.  0.  0.  0.  0.\n",
      "  0.  0.  0.  0.  0.  0.  0.  0.  0.  0.  0.  0.  0.  0.  0.  0.  0.  0.]\n",
      "fp :  [501. 501. 501. 501. 500. 500. 490. 477. 468. 430. 404. 385. 369. 351.\n",
      " 330. 310. 279. 264. 249. 229. 218. 204. 190. 174. 160. 146. 134. 116.\n",
      " 108. 101.  95.  91.  79.  72.  65.  62.  56.  49.  45.  41.  41.  35.\n",
      "  33.  27.  24.  20.  18.  17.  17.  14.  13.  12.   7.   6.   5.   2.\n",
      "   2.   2.   1.   1.   0.   0.   0.   0.   0.   0.   0.   0.   0.   0.\n",
      "   0.   0.   0.   0.   0.   0.   0.   0.   0.   0.   0.   0.   0.   0.\n",
      "   0.   0.   0.   0.   0.   0.   0.   0.   0.   0.   0.   0.   0.   0.\n",
      "   0.   0.   0.   0.   0.   0.   0.   0.   0.   0.   0.   0.   0.   0.\n",
      "   0.   0.   0.   0.   0.   0.   0.   0.   0.   0.   0.   0.   0.   0.\n",
      "   0.   0.   0.   0.   0.   0.   0.   0.   0.   0.   0.   0.   0.   0.\n",
      "   0.   0.   0.   0.   0.   0.   0.   0.   0.   0.   0.   0.   0.   0.\n",
      "   0.   0.   0.   0.   0.   0.   0.   0.   0.   0.   0.   0.   0.   0.\n",
      "   0.   0.   0.   0.   0.   0.   0.   0.   0.   0.   0.   0.   0.   0.\n",
      "   0.   0.   0.   0.   0.   0.   0.   0.   0.   0.   0.   0.   0.   0.\n",
      "   0.   0.]\n",
      "tn :  [  0.   0.   0.   0.   1.   1.  11.  24.  33.  71.  97. 116. 132. 150.\n",
      " 171. 191. 222. 237. 252. 272. 283. 297. 311. 327. 341. 355. 367. 385.\n",
      " 393. 400. 406. 410. 422. 429. 436. 439. 445. 452. 456. 460. 460. 466.\n",
      " 468. 474. 477. 481. 483. 484. 484. 487. 488. 489. 494. 495. 496. 499.\n",
      " 499. 499. 500. 500. 501. 501. 501. 501. 501. 501. 501. 501. 501. 501.\n",
      " 501. 501. 501. 501. 501. 501. 501. 501. 501. 501. 501. 501. 501. 501.\n",
      " 501. 501. 501. 501. 501. 501. 501. 501. 501. 501. 501. 501. 501. 501.\n",
      " 501. 501. 501. 501. 501. 501. 501. 501. 501. 501. 501. 501. 501. 501.\n",
      " 501. 501. 501. 501. 501. 501. 501. 501. 501. 501. 501. 501. 501. 501.\n",
      " 501. 501. 501. 501. 501. 501. 501. 501. 501. 501. 501. 501. 501. 501.\n",
      " 501. 501. 501. 501. 501. 501. 501. 501. 501. 501. 501. 501. 501. 501.\n",
      " 501. 501. 501. 501. 501. 501. 501. 501. 501. 501. 501. 501. 501. 501.\n",
      " 501. 501. 501. 501. 501. 501. 501. 501. 501. 501. 501. 501. 501. 501.\n",
      " 501. 501. 501. 501. 501. 501. 501. 501. 501. 501. 501. 501. 501. 501.\n",
      " 501. 501.]\n",
      "fn :  [ 0.  0.  0.  0.  0.  0.  0.  0.  0.  0.  0.  0.  0.  0.  0.  0.  0.  0.\n",
      "  1.  1.  1.  1.  1.  1.  1.  2.  2.  2.  2.  5.  6.  6.  7.  8.  9. 11.\n",
      " 11. 12. 12. 12. 13. 15. 15. 16. 16. 16. 16. 17. 17. 18. 18. 18. 18. 18.\n",
      " 19. 19. 19. 19. 19. 19. 19. 20. 21. 23. 23. 23. 23. 23. 23. 23. 23. 23.\n",
      " 23. 23. 23. 23. 23. 23. 23. 23. 23. 23. 23. 23. 23. 23. 23. 23. 23. 23.\n",
      " 23. 23. 23. 23. 23. 23. 23. 23. 23. 23. 23. 23. 23. 23. 23. 23. 23. 23.\n",
      " 23. 23. 23. 23. 23. 23. 23. 23. 23. 23. 23. 23. 23. 23. 23. 23. 23. 23.\n",
      " 23. 23. 23. 23. 23. 23. 23. 23. 23. 23. 23. 23. 23. 23. 23. 23. 23. 23.\n",
      " 23. 23. 23. 23. 23. 23. 23. 23. 23. 23. 23. 23. 23. 23. 23. 23. 23. 23.\n",
      " 23. 23. 23. 23. 23. 23. 23. 23. 23. 23. 23. 23. 23. 23. 23. 23. 23. 23.\n",
      " 23. 23. 23. 23. 23. 23. 23. 23. 23. 23. 23. 23. 23. 23. 23. 23. 23. 23.]\n",
      "accuracy :  0.9561068415641785\n",
      "precision :  [0.04389313 0.04389313 0.04389313 0.04389313 0.04397706 0.04397706\n",
      " 0.04483431 0.046      0.04684318 0.05077263 0.05386417 0.05637255\n",
      " 0.05867347 0.06149733 0.0651558  0.06906907 0.07615894 0.08013938\n",
      " 0.08118081 0.08764941 0.09166667 0.09734514 0.10377359 0.1122449\n",
      " 0.12087912 0.1257485  0.13548388 0.15328467 0.1627907  0.15126051\n",
      " 0.15178572 0.1574074  0.16842106 0.1724138  0.17721519 0.16216215\n",
      " 0.1764706  0.18333334 0.19642857 0.21153846 0.19607843 0.18604651\n",
      " 0.19512194 0.20588236 0.22580644 0.25925925 0.28       0.26086956\n",
      " 0.26086956 0.2631579  0.2777778  0.29411766 0.41666666 0.45454547\n",
      " 0.44444445 0.6666667  0.6666667  0.6666667  0.8        0.8\n",
      " 1.         1.         1.         0.         0.         0.\n",
      " 0.         0.         0.         0.         0.         0.\n",
      " 0.         0.         0.         0.         0.         0.\n",
      " 0.         0.         0.         0.         0.         0.\n",
      " 0.         0.         0.         0.         0.         0.\n",
      " 0.         0.         0.         0.         0.         0.\n",
      " 0.         0.         0.         0.         0.         0.\n",
      " 0.         0.         0.         0.         0.         0.\n",
      " 0.         0.         0.         0.         0.         0.\n",
      " 0.         0.         0.         0.         0.         0.\n",
      " 0.         0.         0.         0.         0.         0.\n",
      " 0.         0.         0.         0.         0.         0.\n",
      " 0.         0.         0.         0.         0.         0.\n",
      " 0.         0.         0.         0.         0.         0.\n",
      " 0.         0.         0.         0.         0.         0.\n",
      " 0.         0.         0.         0.         0.         0.\n",
      " 0.         0.         0.         0.         0.         0.\n",
      " 0.         0.         0.         0.         0.         0.\n",
      " 0.         0.         0.         0.         0.         0.\n",
      " 0.         0.         0.         0.         0.         0.\n",
      " 0.         0.         0.         0.         0.         0.\n",
      " 0.         0.         0.         0.         0.         0.\n",
      " 0.         0.         0.         0.         0.         0.        ]\n",
      "recall :  [1.         1.         1.         1.         1.         1.\n",
      " 1.         1.         1.         1.         1.         1.\n",
      " 1.         1.         1.         1.         1.         1.\n",
      " 0.95652175 0.95652175 0.95652175 0.95652175 0.95652175 0.95652175\n",
      " 0.95652175 0.9130435  0.9130435  0.9130435  0.9130435  0.7826087\n",
      " 0.73913044 0.73913044 0.6956522  0.65217394 0.6086956  0.5217391\n",
      " 0.5217391  0.47826087 0.47826087 0.47826087 0.4347826  0.3478261\n",
      " 0.3478261  0.3043478  0.3043478  0.3043478  0.3043478  0.26086956\n",
      " 0.26086956 0.2173913  0.2173913  0.2173913  0.2173913  0.2173913\n",
      " 0.17391305 0.17391305 0.17391305 0.17391305 0.17391305 0.17391305\n",
      " 0.17391305 0.13043478 0.08695652 0.         0.         0.\n",
      " 0.         0.         0.         0.         0.         0.\n",
      " 0.         0.         0.         0.         0.         0.\n",
      " 0.         0.         0.         0.         0.         0.\n",
      " 0.         0.         0.         0.         0.         0.\n",
      " 0.         0.         0.         0.         0.         0.\n",
      " 0.         0.         0.         0.         0.         0.\n",
      " 0.         0.         0.         0.         0.         0.\n",
      " 0.         0.         0.         0.         0.         0.\n",
      " 0.         0.         0.         0.         0.         0.\n",
      " 0.         0.         0.         0.         0.         0.\n",
      " 0.         0.         0.         0.         0.         0.\n",
      " 0.         0.         0.         0.         0.         0.\n",
      " 0.         0.         0.         0.         0.         0.\n",
      " 0.         0.         0.         0.         0.         0.\n",
      " 0.         0.         0.         0.         0.         0.\n",
      " 0.         0.         0.         0.         0.         0.\n",
      " 0.         0.         0.         0.         0.         0.\n",
      " 0.         0.         0.         0.         0.         0.\n",
      " 0.         0.         0.         0.         0.         0.\n",
      " 0.         0.         0.         0.         0.         0.\n",
      " 0.         0.         0.         0.         0.         0.\n",
      " 0.         0.         0.         0.         0.         0.        ]\n",
      "auc :  0.8772020936012268\n",
      "prc :  0.33522528409957886\n"
     ]
    }
   ],
   "source": [
    "val_performance['Linear'] = linear.evaluate(single_step_window.val)\n",
    "before_fine_tuning_performance['Linear'] = linear.evaluate(single_step_window.test, verbose=0)\n",
    "for name, value in zip(linear.metrics_names, before_fine_tuning_performance['Linear']):\n",
    "  print(name, ': ', value)"
   ]
  },
  {
   "cell_type": "code",
   "execution_count": null,
   "id": "e6983b67",
   "metadata": {},
   "outputs": [],
   "source": [
    "history = fine_tune(linear, single_step_window)"
   ]
  },
  {
   "cell_type": "code",
   "execution_count": null,
   "id": "66db05dd",
   "metadata": {},
   "outputs": [],
   "source": [
    "performance['Linear'] = linear.evaluate(single_step_window.test, verbose=0)\n",
    "for name, value in zip(linear.metrics_names, performance['Linear']):\n",
    "  print(name, ': ', value)"
   ]
  },
  {
   "cell_type": "code",
   "execution_count": null,
   "id": "e627320b-e6cf-43ff-aeaf-13d9746253af",
   "metadata": {},
   "outputs": [],
   "source": [
    "wide_window.plot(model=linear, plot_col=\"wearing_off\")"
   ]
  },
  {
   "attachments": {},
   "cell_type": "markdown",
   "id": "1df90bbb",
   "metadata": {},
   "source": [
    "## Dense"
   ]
  },
  {
   "cell_type": "code",
   "execution_count": null,
   "id": "19e09211",
   "metadata": {},
   "outputs": [],
   "source": [
    "K.clear_session()\n",
    "dense = tf.keras.Sequential([\n",
    "    tf.keras.layers.Dense(units=64, activation='relu'),\n",
    "    tf.keras.layers.Dense(units=64, activation='relu'),\n",
    "    tf.keras.layers.Dense(units=1, activation=\"sigmoid\")\n",
    "\n",
    "])\n",
    "history = compile_and_fit(dense, single_step_window)"
   ]
  },
  {
   "cell_type": "code",
   "execution_count": null,
   "id": "7c8fc705",
   "metadata": {},
   "outputs": [],
   "source": [
    "val_performance['Dense'] = dense.evaluate(single_step_window.val)\n",
    "before_fine_tuning_performance['Dense'] = dense.evaluate(single_step_window.test, verbose=0)\n",
    "for name, value in zip(dense.metrics_names, before_fine_tuning_performance['Dense']):\n",
    "  print(name, ': ', value)"
   ]
  },
  {
   "cell_type": "code",
   "execution_count": null,
   "id": "c10d65ea",
   "metadata": {},
   "outputs": [],
   "source": [
    "history = fine_tune(dense, single_step_window)"
   ]
  },
  {
   "cell_type": "code",
   "execution_count": null,
   "id": "bd402c64",
   "metadata": {},
   "outputs": [],
   "source": [
    "performance['Dense'] = dense.evaluate(single_step_window.test, verbose=0)\n",
    "for name, value in zip(dense.metrics_names, performance['Dense']):\n",
    "  print(name, ': ', value)"
   ]
  },
  {
   "cell_type": "code",
   "execution_count": null,
   "id": "00951be4",
   "metadata": {},
   "outputs": [],
   "source": [
    "wide_window.plot(model=dense, plot_col=\"wearing_off\")"
   ]
  },
  {
   "attachments": {},
   "cell_type": "markdown",
   "id": "ea12ac49",
   "metadata": {},
   "source": [
    "## Multi-step Dense"
   ]
  },
  {
   "cell_type": "code",
   "execution_count": null,
   "id": "1f35aa3b",
   "metadata": {},
   "outputs": [],
   "source": [
    "K.clear_session()\n",
    "multi_step_dense = tf.keras.Sequential([\n",
    "    # Shape: (time, features) => (time*features)\n",
    "    tf.keras.layers.Flatten(),\n",
    "    tf.keras.layers.Dense(units=64, activation='relu'),\n",
    "    tf.keras.layers.Dense(units=64, activation='relu'),\n",
    "    tf.keras.layers.Dense(units=1, activation='sigmoid'),\n",
    "    # Add back the time dimension.\n",
    "    # Shape: (outputs) => (1, outputs)\n",
    "    tf.keras.layers.Reshape([1, -1]),\n",
    "])\n",
    "history = compile_and_fit(multi_step_dense, conv_window)"
   ]
  },
  {
   "cell_type": "code",
   "execution_count": null,
   "id": "3900685f",
   "metadata": {},
   "outputs": [],
   "source": [
    "val_performance['Multi step Dense'] = multi_step_dense.evaluate(conv_window.val)\n",
    "before_fine_tuning_performance['Multi step Dense'] = multi_step_dense.evaluate(conv_window.test, verbose=0)\n",
    "for name, value in zip(multi_step_dense.metrics_names, before_fine_tuning_performance['Multi step Dense']):\n",
    "  print(name, ': ', value)"
   ]
  },
  {
   "cell_type": "code",
   "execution_count": null,
   "id": "22d856f2",
   "metadata": {},
   "outputs": [],
   "source": [
    "history = fine_tune(multi_step_dense, conv_window)"
   ]
  },
  {
   "cell_type": "code",
   "execution_count": null,
   "id": "f1f0079e",
   "metadata": {},
   "outputs": [],
   "source": [
    "performance['Multi step Dense'] = multi_step_dense.evaluate(conv_window.test, verbose=0)\n",
    "for name, value in zip(multi_step_dense.metrics_names, performance['Multi step Dense']):\n",
    "  print(name, ': ', value)"
   ]
  },
  {
   "cell_type": "code",
   "execution_count": null,
   "id": "f975e513",
   "metadata": {},
   "outputs": [],
   "source": [
    "conv_window.plot(model=multi_step_dense, plot_col=\"wearing_off\")"
   ]
  },
  {
   "attachments": {},
   "cell_type": "markdown",
   "id": "86c6061e",
   "metadata": {},
   "source": [
    "## CNN"
   ]
  },
  {
   "cell_type": "code",
   "execution_count": null,
   "id": "a098167e",
   "metadata": {},
   "outputs": [],
   "source": [
    "K.clear_session()\n",
    "conv_model = tf.keras.Sequential([\n",
    "    tf.keras.layers.Conv1D(filters=32,\n",
    "                           kernel_size=(CONV_WIDTH,),\n",
    "                           activation='relu'),\n",
    "    tf.keras.layers.Dense(units=32, activation='relu'),\n",
    "    tf.keras.layers.Dense(units=1, activation='sigmoid'),\n",
    "])\n",
    "history = compile_and_fit(conv_model, conv_window)"
   ]
  },
  {
   "cell_type": "code",
   "execution_count": null,
   "id": "46dec297",
   "metadata": {},
   "outputs": [],
   "source": [
    "val_performance['CNN'] = conv_model.evaluate(conv_window.val)\n",
    "before_fine_tuning_performance['CNN'] = conv_model.evaluate(conv_window.test, verbose=0)\n",
    "for name, value in zip(conv_model.metrics_names, before_fine_tuning_performance['CNN']):\n",
    "  print(name, ': ', value)"
   ]
  },
  {
   "cell_type": "code",
   "execution_count": null,
   "id": "659642ce",
   "metadata": {},
   "outputs": [],
   "source": [
    "history = fine_tune(conv_model, conv_window)"
   ]
  },
  {
   "cell_type": "code",
   "execution_count": null,
   "id": "c290a6cc",
   "metadata": {},
   "outputs": [],
   "source": [
    "performance['CNN'] = conv_model.evaluate(conv_window.test, verbose=0)\n",
    "for name, value in zip(conv_model.metrics_names, performance['CNN']):\n",
    "  print(name, ': ', value)"
   ]
  },
  {
   "cell_type": "code",
   "execution_count": null,
   "id": "3dae8d6e",
   "metadata": {},
   "outputs": [],
   "source": [
    "wide_conv_window.plot(model=conv_model, plot_col='wearing_off')"
   ]
  },
  {
   "attachments": {},
   "cell_type": "markdown",
   "id": "bbf02972",
   "metadata": {},
   "source": [
    "## LSTM"
   ]
  },
  {
   "cell_type": "code",
   "execution_count": null,
   "id": "460bacfc",
   "metadata": {},
   "outputs": [],
   "source": [
    "K.clear_session()\n",
    "lstm_model = tf.keras.models.Sequential([\n",
    "    # Shape [batch, time, features] => [batch, time, lstm_units]\n",
    "    tf.keras.layers.LSTM(64, return_sequences=True),\n",
    "    # Shape => [batch, time, features]\n",
    "    tf.keras.layers.Dense(units=1, activation='sigmoid')\n",
    "])\n",
    "\n",
    "history = compile_and_fit(lstm_model, wide_window)\n"
   ]
  },
  {
   "cell_type": "code",
   "execution_count": null,
   "id": "bc8a2a8c",
   "metadata": {},
   "outputs": [],
   "source": [
    "val_performance['LSTM'] = lstm_model.evaluate(wide_window.val)\n",
    "before_fine_tuning_performance['LSTM'] = lstm_model.evaluate(wide_window.test, verbose=0)\n",
    "for name, value in zip(lstm_model.metrics_names, before_fine_tuning_performance['LSTM']):\n",
    "  print(name, ': ', value)"
   ]
  },
  {
   "cell_type": "code",
   "execution_count": null,
   "id": "10309ef9",
   "metadata": {},
   "outputs": [],
   "source": [
    "history = fine_tune(lstm_model, wide_window)"
   ]
  },
  {
   "cell_type": "code",
   "execution_count": null,
   "id": "a75f4f0b",
   "metadata": {},
   "outputs": [],
   "source": [
    "performance['LSTM'] = lstm_model.evaluate(wide_window.test, verbose=0)\n",
    "for name, value in zip(lstm_model.metrics_names, performance['LSTM']):\n",
    "  print(name, ': ', value)"
   ]
  },
  {
   "cell_type": "code",
   "execution_count": null,
   "id": "d2426d17",
   "metadata": {},
   "outputs": [],
   "source": [
    "wide_window.plot(model=lstm_model, plot_col='wearing_off')"
   ]
  },
  {
   "attachments": {},
   "cell_type": "markdown",
   "id": "a5ebf553",
   "metadata": {},
   "source": [
    "## Performance"
   ]
  },
  {
   "cell_type": "code",
   "execution_count": null,
   "id": "4246ff2d",
   "metadata": {},
   "outputs": [],
   "source": [
    "x = np.arange(len(performance))\n",
    "width = 0.3\n",
    "metric_name = 'prc'\n",
    "metric_index = lstm_model.metrics_names.index(metric_name)\n",
    "# val_mae = [v[metric_index] for v in val_performance.values()]\n",
    "before_fine_tuning_mae = [v[metric_index] for v in before_fine_tuning_performance.values()]\n",
    "test_mae = [v[metric_index] for v in performance.values()]\n",
    "\n",
    "plt.ylabel(f'{metric_name} [wearing_off, normalized]')\n",
    "# plt.bar(x - 0.17, before_fine_tuning_mae, width, label='Validation')\n",
    "plt.bar(x - 0.17, before_fine_tuning_mae, width, label='Before Fine-Tuning Test')\n",
    "plt.bar(x + 0.17, test_mae, width, label='After Fine-Tuning Test')\n",
    "plt.xticks(ticks=x, labels=performance.keys(),\n",
    "           rotation=45)\n",
    "_ = plt.legend()"
   ]
  },
  {
   "cell_type": "code",
   "execution_count": null,
   "id": "36ff22e1",
   "metadata": {},
   "outputs": [],
   "source": [
    "# if os.path.exists(f'./results/final_performance.xlsx'):\n",
    "#     with pd.ExcelWriter(f'./results/final_performance.xlsx', engine='openpyxl', mode='a', if_sheet_exists='overlay') as writer:\n",
    "#         pd.DataFrame(\n",
    "#             val_performance, index=lstm_model.metrics_names\n",
    "#         ).assign(\n",
    "#             participant=PARTICIPANT_AS_TEST\n",
    "#         ).to_excel(writer, sheet_name=\"validation\", startrow=writer.sheets['validation'].max_row, header=None)\n",
    "\n",
    "#         pd.DataFrame(\n",
    "#             before_fine_tuning_performance, index=lstm_model.metrics_names\n",
    "#         ).assign(\n",
    "#             participant=PARTICIPANT_AS_TEST\n",
    "#         ).to_excel(writer, sheet_name=\"before fine-tuning\", startrow=writer.sheets['before fine-tuning'].max_row, header=None)\n",
    "\n",
    "#         pd.DataFrame(\n",
    "#             performance, index=lstm_model.metrics_names\n",
    "#         ).assign(\n",
    "#             participant=PARTICIPANT_AS_TEST\n",
    "#         ).to_excel(writer, sheet_name=\"after fine-tuning\", startrow=writer.sheets['after fine-tuning'].max_row, header=None)\n",
    "# else:\n",
    "#     with pd.ExcelWriter(f'./results/final_performance.xlsx', engine='openpyxl', mode='w') as writer:\n",
    "#         pd.DataFrame(\n",
    "#             val_performance, index=lstm_model.metrics_names\n",
    "#         ).assign(\n",
    "#             participant=PARTICIPANT_AS_TEST\n",
    "#         ).to_excel(writer, sheet_name=\"validation\")\n",
    "\n",
    "#         pd.DataFrame(\n",
    "#             before_fine_tuning_performance, index=lstm_model.metrics_names\n",
    "#         ).assign(\n",
    "#             participant=PARTICIPANT_AS_TEST\n",
    "#         ).to_excel(writer, sheet_name=\"before fine-tuning\")\n",
    "\n",
    "#         pd.DataFrame(\n",
    "#             performance, index=lstm_model.metrics_names\n",
    "#         ).assign(\n",
    "#             participant=PARTICIPANT_AS_TEST\n",
    "#         ).to_excel(writer, sheet_name=\"after fine-tuning\")"
   ]
  },
  {
   "cell_type": "code",
   "execution_count": null,
   "id": "b9c8c041",
   "metadata": {},
   "outputs": [],
   "source": [
    "from IPython.core.display import display, HTML\n",
    "\n",
    "def display_side_by_side(dfs:list, captions:list, tablespacing=5):\n",
    "    \"\"\"Display tables side by side to save vertical space\n",
    "    Input:\n",
    "        dfs: list of pandas.DataFrame\n",
    "        captions: list of table captions\n",
    "    \"\"\"\n",
    "    output = \"\"\n",
    "    for (caption, df) in zip(captions, dfs):\n",
    "        output += df.style.set_table_attributes(\"style='display:inline'\").set_caption(caption)._repr_html_()\n",
    "        output += tablespacing * \"\\xa0\"\n",
    "    display(HTML(output))"
   ]
  },
  {
   "cell_type": "code",
   "execution_count": null,
   "id": "19485849",
   "metadata": {},
   "outputs": [],
   "source": [
    "display_side_by_side([\n",
    "  pd.DataFrame(val_performance, index=lstm_model.metrics_names),\n",
    "  # pd.DataFrame(before_fine_tuning_performance, index=lstm_model.metrics_names),\n",
    "  # pd.DataFrame(performance, index=lstm_model.metrics_names)\n",
    "], [\n",
    "  'validation',\n",
    "  # 'before fine-tuning',\n",
    "  # 'after fine-tuning'\n",
    "])"
   ]
  },
  {
   "attachments": {},
   "cell_type": "markdown",
   "id": "fe093f43",
   "metadata": {},
   "source": [
    "## Residual Connections"
   ]
  },
  {
   "cell_type": "code",
   "execution_count": null,
   "id": "42135ce2",
   "metadata": {},
   "outputs": [],
   "source": [
    "# wide_window = WindowGenerator(\n",
    "#     train_df=train_df, val_df=val_df,\n",
    "#     fine_tuning_df=fine_tuning_df, test_df=test_df,\n",
    "#     input_width=24, label_width=24, shift=1,\n",
    "#     batch_size=BATCH_SIZE)\n",
    "# print(wide_window)\n",
    "# for example_inputs, example_labels in wide_window.train.take(1):\n",
    "#   print(f'Inputs shape (batch, time, features): {example_inputs.shape}')\n",
    "#   print(f'Labels shape (batch, time, features): {example_labels.shape}')\n",
    "# wide_window.plot(plot_col=TARGET_COLUMN)"
   ]
  },
  {
   "cell_type": "code",
   "execution_count": null,
   "id": "abdad9c3",
   "metadata": {},
   "outputs": [],
   "source": [
    "# def compile_and_fit(model, window, patience=2):\n",
    "#   early_stopping = tf.keras.callbacks.EarlyStopping(monitor='val_loss',\n",
    "#                                                     patience=patience,\n",
    "#                                                     mode='min')\n",
    "\n",
    "#   model.compile(loss=tf.keras.losses.MeanSquaredError(),\n",
    "#                 optimizer=tf.keras.optimizers.Adam(learning_rate=LEARNING_RATE),\n",
    "#                 metrics=[tf.keras.metrics.MeanAbsoluteError()])\n",
    "#   # model.compile(loss=tf.keras.losses.BinaryCrossentropy(from_logits=False),\n",
    "#   #               optimizer=tf.keras.optimizers.Adam(learning_rate=LEARNING_RATE),\n",
    "#   #               metrics=METRICS)\n",
    "#   # model.compile(loss=brier_score_loss,\n",
    "#   #               optimizer=tf.keras.optimizers.Adam(learning_rate=LEARNING_RATE),\n",
    "#   #               metrics=METRICS)\n",
    "\n",
    "#   # history = model.fit(window.train, epochs=MAX_EPOCHS,\n",
    "#   #                     validation_data=window.val,\n",
    "#   #                     callbacks=[early_stopping])\n",
    "#   history = model.fit(window.train, epochs=MAX_EPOCHS,\n",
    "#                       validation_data=window.val,\n",
    "#                       callbacks=[early_stopping])"
   ]
  },
  {
   "cell_type": "code",
   "execution_count": null,
   "id": "8ba86b0f",
   "metadata": {},
   "outputs": [],
   "source": [
    "# class ResidualWrapper(tf.keras.Model):\n",
    "#   def __init__(self, model):\n",
    "#     super().__init__()\n",
    "#     self.model = model\n",
    "\n",
    "#   def call(self, inputs, *args, **kwargs):\n",
    "#     delta = self.model(inputs, *args, **kwargs)\n",
    "\n",
    "#     # The prediction for each time step is the input\n",
    "#     # from the previous time step plus the delta\n",
    "#     # calculated by the model.\n",
    "#     return inputs + delta"
   ]
  },
  {
   "cell_type": "code",
   "execution_count": null,
   "id": "25a5d89b",
   "metadata": {},
   "outputs": [],
   "source": [
    "# K.clear_session()\n",
    "# residual_lstm = ResidualWrapper(\n",
    "#     tf.keras.Sequential([\n",
    "#         tf.keras.layers.LSTM(32, return_sequences=True),\n",
    "#         tf.keras.layers.Dense(\n",
    "#             units=len(features),\n",
    "#             # # The predicted deltas should start small.\n",
    "#             # # Therefore, initialize the output layer with zeros.\n",
    "#             kernel_initializer=tf.initializers.zeros())\n",
    "#     ])\n",
    "# )\n",
    "\n",
    "# history = compile_and_fit(residual_lstm, wide_window)"
   ]
  },
  {
   "cell_type": "code",
   "execution_count": null,
   "id": "71d21b79",
   "metadata": {},
   "outputs": [],
   "source": [
    "# val_performance['Residual LSTM'] = residual_lstm.evaluate(wide_window.val)\n",
    "# performance['Residual LSTM'] = residual_lstm.evaluate(wide_window.test, verbose=0)\n",
    "# for name, value in zip(residual_lstm.metrics_names, performance['Residual LSTM']):\n",
    "#   print(name, ': ', value)"
   ]
  },
  {
   "cell_type": "code",
   "execution_count": null,
   "id": "ea0f375b",
   "metadata": {},
   "outputs": [],
   "source": [
    "# wide_window.plot(model=residual_lstm)"
   ]
  },
  {
   "cell_type": "code",
   "execution_count": null,
   "id": "de25f220",
   "metadata": {},
   "outputs": [],
   "source": [
    "# x = np.arange(len(performance))\n",
    "# width = 0.3\n",
    "# metric_name = 'mean_absolute_error'\n",
    "# metric_index = lstm_model.metrics_names.index('mean_absolute_error')\n",
    "# val_mae = [v[metric_index] for v in val_performance.values()]\n",
    "# test_mae = [v[metric_index] for v in performance.values()]\n",
    "\n",
    "# plt.ylabel('mean_absolute_error [T (degC), normalized]')\n",
    "# plt.bar(x - 0.17, val_mae, width, label='Validation')\n",
    "# plt.bar(x + 0.17, test_mae, width, label='Test')\n",
    "# plt.xticks(ticks=x, labels=performance.keys(),\n",
    "#            rotation=45)\n",
    "# _ = plt.legend()"
   ]
  },
  {
   "attachments": {},
   "cell_type": "markdown",
   "id": "1e7e6b8d",
   "metadata": {},
   "source": [
    "# Plot loss"
   ]
  },
  {
   "cell_type": "code",
   "execution_count": null,
   "id": "823b70be-4506-44a8-a0e0-ad7a7d76a7c1",
   "metadata": {
    "scrolled": true,
    "tags": []
   },
   "outputs": [],
   "source": [
    "# metrics = ['loss'] #, 'balanced_accuracy', 'auc', 'prc', 'precision', 'recall']\n",
    "# plt.figure(figsize=(25, 10))\n",
    "# for n, metric in enumerate(metrics):\n",
    "#     name = metric.replace(\"_\",\" \").capitalize()\n",
    "#     plt.subplot(3,3,n+1)\n",
    "#     plt.plot(history.epoch, history.history[metric], label='Train')\n",
    "#     plt.plot(history.epoch, history.history['val_'+metric], label='Validation')\n",
    "#     plt.xlabel('Epoch')\n",
    "#     plt.ylabel(name)\n",
    "#     if metric == 'loss':\n",
    "#       plt.ylim([0, plt.ylim()[1]])\n",
    "#     # # elif metric == 'auc':\n",
    "#     # #   plt.ylim([0.8,1])\n",
    "#     # else:\n",
    "#     #   plt.ylim([0,1])\n",
    "#     plt.legend()\n",
    "# plt.show()"
   ]
  },
  {
   "attachments": {},
   "cell_type": "markdown",
   "id": "fa37c5e3",
   "metadata": {},
   "source": [
    "# Predict using Model"
   ]
  },
  {
   "cell_type": "code",
   "execution_count": null,
   "id": "75d8cb25-45dc-4abe-b05f-7a52616d40e5",
   "metadata": {},
   "outputs": [],
   "source": [
    "# def data_loader(new_df):\n",
    "#     return np.array(new_df, dtype=np.float32)[np.newaxis, ...]\n",
    "# linear.predict(data_loader(test_df.head(4))) # [0,:4]"
   ]
  },
  {
   "cell_type": "code",
   "execution_count": null,
   "id": "fc8201a4",
   "metadata": {},
   "outputs": [],
   "source": [
    "# inputs = None\n",
    "# labels = None\n",
    "\n",
    "# for input, label in single_step_window.val.as_numpy_iterator():\n",
    "#   if inputs is None:\n",
    "#     inputs = input\n",
    "#     labels = label\n",
    "#   else:\n",
    "#     inputs = np.concatenate([inputs, inputs])\n",
    "#     labels = np.concatenate([labels, labels])"
   ]
  },
  {
   "cell_type": "markdown",
   "id": "cc6c1be8-cf9f-49fe-9dd3-08b3b02951cf",
   "metadata": {
    "tags": []
   },
   "source": [
    "# Export Model"
   ]
  },
  {
   "cell_type": "code",
   "execution_count": null,
   "id": "30c15882-f6bf-4cf8-b804-90ed32b5a1d7",
   "metadata": {},
   "outputs": [],
   "source": [
    "# saved_model = tf.saved_model.load(model_path)"
   ]
  },
  {
   "cell_type": "code",
   "execution_count": null,
   "id": "f1608823-d0e8-4acb-95b0-442174555b64",
   "metadata": {
    "scrolled": true,
    "tags": []
   },
   "outputs": [],
   "source": [
    "# saved_model(data_loader(test_df.iloc[0:36, :]), training=False)[:,:,14]"
   ]
  },
  {
   "cell_type": "code",
   "execution_count": null,
   "id": "92496a0b-401c-40a5-955f-6148174ec096",
   "metadata": {
    "scrolled": true,
    "tags": []
   },
   "outputs": [],
   "source": [
    "# saved_model(data_loader(test_df.iloc[0:24, :]).tolist(), training=False)[:,:,14]"
   ]
  },
  {
   "cell_type": "code",
   "execution_count": null,
   "id": "a0b37fff-6d12-4ef6-b03f-c84223812173",
   "metadata": {
    "scrolled": true,
    "tags": []
   },
   "outputs": [],
   "source": [
    "# print(data_loader(test_df.iloc[0:36, :]).tolist())"
   ]
  },
  {
   "cell_type": "code",
   "execution_count": null,
   "id": "9bb9663e-18a9-450c-b900-f8554c1329c9",
   "metadata": {},
   "outputs": [],
   "source": [
    "# data_loader(test_df.iloc[0:36, :]).shape"
   ]
  }
 ],
 "metadata": {
  "kernelspec": {
   "display_name": "base",
   "language": "python",
   "name": "python3"
  },
  "language_info": {
   "codemirror_mode": {
    "name": "ipython",
    "version": 3
   },
   "file_extension": ".py",
   "mimetype": "text/x-python",
   "name": "python",
   "nbconvert_exporter": "python",
   "pygments_lexer": "ipython3",
   "version": "3.9.7"
  },
  "vscode": {
   "interpreter": {
    "hash": "d4d1e4263499bec80672ea0156c357c1ee493ec2b1c70f0acce89fc37c4a6abe"
   }
  }
 },
 "nbformat": 4,
 "nbformat_minor": 5
}
