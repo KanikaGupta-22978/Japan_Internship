{
 "cells": [
  {
   "attachments": {},
   "cell_type": "markdown",
   "id": "73b4448d",
   "metadata": {},
   "source": [
    "# Load libraries"
   ]
  },
  {
   "cell_type": "code",
   "execution_count": null,
   "id": "1d5b7bc2-7029-436a-b0e4-b7fe540378ed",
   "metadata": {},
   "outputs": [],
   "source": [
    "import numpy as np\n",
    "import pandas as pd\n",
    "import matplotlib.pyplot as plt\n",
    "from pandasql import sqldf\n",
    "import seaborn\n",
    "import math\n",
    "import os\n",
    "import json\n",
    "from IPython.display import Javascript"
   ]
  },
  {
   "cell_type": "markdown",
   "id": "c0721ae2-6d27-4325-996c-c08b795a69bd",
   "metadata": {
    "tags": []
   },
   "source": [
    "# Configurations & Constants"
   ]
  },
  {
   "cell_type": "code",
   "execution_count": null,
   "id": "e94c37d9-f62e-44f5-9933-cd333c7dcd54",
   "metadata": {},
   "outputs": [],
   "source": [
    "user = 'participant13' # participant1-10\n",
    "target_freq_as_int = 15 # 15|1\n",
    "target_freq_unit1 = 'min' # min|s\n",
    "target_freq_unit2 = 'm' # m|s\n",
    "dataset_type = '' # '' | time_series_"
   ]
  },
  {
   "cell_type": "code",
   "execution_count": null,
   "id": "56e97d7c-5442-4d45-be01-06920d200a1d",
   "metadata": {},
   "outputs": [],
   "source": [
    "# participant information\n",
    "participant_dictionary = json.load(open(f'./data/participant_dictionary.json'))\n",
    "\n",
    "target_freq = f'{target_freq_as_int}{target_freq_unit1}'\n",
    "target_freq2 = f'{target_freq_as_int}{target_freq_unit2}'\n",
    "\n",
    "customer_id = participant_dictionary[user]['fonlog_id']\n",
    "user_id = participant_dictionary[user]['fonlog_user_id']\n",
    "start_date = participant_dictionary[user]['start_date']\n",
    "end_date_plus_one = participant_dictionary[user]['end_date_plus_one']\n",
    "end_date_plus_two = participant_dictionary[user]['end_date_plus_two']\n",
    "\n",
    "color = {\n",
    "    \"boxes\": \"Blue\",\n",
    "    \"whiskers\": \"Black\",\n",
    "    \"medians\": \"Red\",\n",
    "    \"caps\": \"Gray\"\n",
    "}\n",
    "\n",
    "wo_columns = {\n",
    "    \"Timestamp\": \"timestamp\",\n",
    "    \"Heart Rate (in Beats per minute)\": \"heart_rate\",\n",
    "    \"Stress Score\": \"stress_score\",\n",
    "    \"Stress Interpretation\": \"stress_level\",\n",
    "    \"Number of Steps\": \"steps\",\n",
    "    \"Wearing Off\": \"wearing_off\",\n",
    "    \"started_at\": \"wo_start\",\n",
    "    \"finished_at\": \"wo_end\",\n",
    "    \"Tremors\": \"wo_tremors\",\n",
    "    \"Slowing down of movement\": \"wo_slowdown\",\n",
    "    \"Change in mood or depression\": \"wo_moodchange\",\n",
    "    \"Rigidity of muscles\": \"wo_rigidity\",\n",
    "    \"Sharp pain or prolonged dull pain\": \"wo_pain\",\n",
    "    \"Impairment of complex movements of the hand and fingers\": \"wo_impairment_hands\",\n",
    "    \"Difficulty integrating thoughts or slowing down of thought\": \"wo_slow_thoughts\",\n",
    "    \"Anxiety or panic attacks\": \"wo_anxiety\",\n",
    "    \"Muscle spasm\": \"wo_muscle_spasm\",\n",
    "    \"activity_target.activity_id\": \"report_id\"\n",
    "}\n",
    "\n",
    "drug_intake_columns = {\n",
    "    \"started_at\": \"drug_intake_start\",\n",
    "    \"finished_at\": \"drug_intake_end\",\n",
    "    \"Sharp pain or prolonged dull pain\": \"drug_intake_tremors\",\n",
    "    \"Tremors\": \"drug_intake_slowdown\",\n",
    "    \"Anxiety or panic attacks\": \"drug_intake_moodchange\",\n",
    "    \"Rigidity of muscles\": \"drug_intake_rigidity\",\n",
    "    \"Slowing down of movement\": \"drug_intake_pain\",\n",
    "    \"Difficulty integrating thoughts or slowing down of thought\": \"drug_intake_impairment_hands\",\n",
    "    \"Impairment of complex movements of the hand and fingers\": \"drug_intake_slow_thoughts\",\n",
    "    \"Change in mood or depression\": \"drug_intake_anxiety\",\n",
    "    \"Muscle spasm\": \"drug_intake_muscle_spasm\"\n",
    "}\n",
    "\n",
    "symptoms_dictionary = {\n",
    "    \"ふるえる\": \"Tremors\",\n",
    "    \"動作が遅くなる\": \"Slowing down of movement\",\n",
    "    \"気分が変化する または おちこむ\": \"Change in mood or depression\",\n",
    "    \"体のどこかがこわばる\": \"Rigidity of muscles\",\n",
    "    \"するどい痛み または 長ぐ続ぐこぶい痛みがある\": \"Sharp pain or prolonged dull pain\",\n",
    "    \"手先の細かい作業が うまくできない\": \"Impairment of complex movements of the hand and fingers\",\n",
    "    \"思考がまとまらない または 頭の回転がおそい\": \"Difficulty integrating thoughts or slowing down of thought\",\n",
    "    \"不安になる または パニック状態になる\": \"Anxiety or panic attacks\",\n",
    "    \"筋肉がひきつる\": \"Muscle spasm\"\n",
    "}"
   ]
  },
  {
   "cell_type": "markdown",
   "id": "a3b6a881-3eba-49c9-9218-92b93118bdc8",
   "metadata": {},
   "source": [
    "# FonLog"
   ]
  },
  {
   "cell_type": "markdown",
   "id": "49f4a1f9-c6a7-46c7-b831-4ce43f7404c9",
   "metadata": {},
   "source": [
    "## Process wearing-off dataset"
   ]
  },
  {
   "cell_type": "code",
   "execution_count": null,
   "id": "66a67ba3-4a58-47d4-9119-9764328242bc",
   "metadata": {},
   "outputs": [],
   "source": [
    "# import deepl \n",
    "# translator = deepl.Translator(auth_key=\"c1c505b8-e89a-6d26-12c7-1e02442d5779:fx\") \n",
    "\n",
    "# def translate(df):\n",
    "#     result = translator.translate_text(df, target_lang=\"EN-GB\")\n",
    "#     return [ r.text for r in result ]"
   ]
  },
  {
   "cell_type": "code",
   "execution_count": null,
   "id": "95b05696-efd2-46e6-bd21-488f733e5575",
   "metadata": {},
   "outputs": [],
   "source": [
    "fonlog_data = pd.read_csv(f'./data/fonlog/records 2023 2 - 10.csv')\n",
    "# fonlog_data['activity_type.name.translated'] = translate(fonlog_data['activity_type.name'])\n",
    "# fonlog_data['record_type.name.translated'] = translate(fonlog_data['record_type.name'])\n",
    "# fonlog_data['customer.name.translated'] = translate(fonlog_data['customer.name'])\n",
    "\n",
    "# important_columns = {\n",
    "#     \"activity_target.activity_id\":           \"activity_type_id\",\n",
    "#     \"activity_type.activity_type_group_id\":  \"activity_type_group_id\",\n",
    "#     \"activity_type_group.name\":              \"activity_type_group_name\",\n",
    "#     \"activity.activity_type_id\":             \"activity.activity_type_id\",\n",
    "#     \"record_type.activity_type_id\":          \"record_type.activity_type_id\",\n",
    "#     \"activity_type.name\":                    \"activity_type_name\",\n",
    "#     \"record_type.name\":                      \"record_type.name\",\n",
    "#     \"record_type_id\":                        \"record_type_id\",\n",
    "#     \"value\":                                 \"value\",\n",
    "#     \"activity.started_at\":                   \"started_at\",\n",
    "#     \"activity.finished_at\":                  \"finished_at\",\n",
    "#     \"activity_target.user_id\":               \"activity_target.user_id\",\n",
    "#     \"activity.user_id\":                      \"activity.user_id\",\n",
    "#     \"activity_target.customer_id\":           \"patient_id\",\n",
    "#     \"customer.name\":                         \"patient_name\",\n",
    "#     \"customer.birthdate\":                    \"patient_birthdate\",\n",
    "#     \"customer.sex\":                          \"patient_sex\"\n",
    "# }\n",
    "\n",
    "important_columns = {\n",
    "    \"activity_target.activity_id\":           \"activity_target.activity_id\",\n",
    "    \"activity_type.activity_type_group_id\":  \"activity_type.activity_type_group_id\",\n",
    "    \"activity_type_group.name\":              \"activity_type_group.name\",\n",
    "    \"activity.activity_type_id\":             \"activity.activity_type_id\",\n",
    "    \"record_type.activity_type_id\":          \"record_type.activity_type_id\",\n",
    "    \"activity_type.name\":                    \"activity_type.name\",\n",
    "    \"record_type.name\":                      \"record_type.name\",\n",
    "    \"record_type_id\":                        \"record_type_id\",\n",
    "    \"value\":                                 \"value\",\n",
    "    \"activity.started_at\":                   \"activity.started_at\",\n",
    "    \"activity.finished_at\":                  \"activity.finished_at\",\n",
    "    \"activity_target.user_id\":               \"activity_target.user_id\",\n",
    "    \"activity.user_id\":                      \"activity.user_id\",\n",
    "    \"activity_target.customer_id\":           \"activity_target.customer_id\",\n",
    "    \"customer.name\":                         \"patient_name\",\n",
    "    \"customer.birthdate\":                    \"patient_birthdate\",\n",
    "    \"customer.sex\":                          \"patient_sex\"\n",
    "}\n",
    "fonlog_data = fonlog_data.reindex(columns=important_columns).copy()\n",
    "fonlog_data.rename(columns=important_columns, inplace=True)\n",
    "\n",
    "fonlog_data.to_excel(f'./data/fonlog/records.xlsx', sheet_name=\"records\", index=False)"
   ]
  },
  {
   "cell_type": "code",
   "execution_count": null,
   "id": "95e1c536-2cd1-4640-92e0-6acc5fa38f0a",
   "metadata": {},
   "outputs": [],
   "source": [
    "activity_type_id = 17 # for nurse-kitakyu \n",
    "# 12 for nurse-kitakyu patient \n",
    "# 2 # wearing-off's for noelact\n",
    "# activity_type_id = 12 # wearing-off's\n",
    "\n",
    "# Load from file\n",
    "fonlog_data = pd.read_excel(f'./data/fonlog/records.xlsx',\n",
    "                           sheet_name='records', engine='openpyxl')\n",
    "\n",
    "# Make sure to use datetime data type\n",
    "fonlog_data['activity.started_at'] = pd.to_datetime(fonlog_data['activity.started_at'])\n",
    "fonlog_data['activity.finished_at'] = pd.to_datetime(fonlog_data['activity.finished_at'])"
   ]
  },
  {
   "cell_type": "code",
   "execution_count": null,
   "id": "d6c68b01-0a2c-44da-9f1a-bb699adc13dc",
   "metadata": {
    "scrolled": true,
    "tags": []
   },
   "outputs": [],
   "source": [
    "filtered_fonlog_data = fonlog_data.query(\n",
    "  # Filter by activity group\n",
    "  f'`activity_type_group.name` == \"Wearing-Off by Nurse\"'\n",
    "  # f'`activity_type_group.name`.str.contains(\"Wearing-Off\", na=False)', engine=\"python\"\n",
    ").query(\n",
    "  # Filter by activity\n",
    "  f'`record_type.activity_type_id` == {activity_type_id}'\n",
    ").query(\n",
    "  # Filter by patient\n",
    "  f\"`activity_target.customer_id` == {customer_id} or `activity_target.user_id` == {user_id}\"\n",
    ").query(\n",
    "  f'`activity.started_at` >= \"{start_date}\" and `activity.started_at` < \"{end_date_plus_two}\"'\n",
    ").copy()\n",
    "# ).groupby([fonlog_data['activity.started_at'].dt.date]).count()\n",
    "# add if you want to get count by date"
   ]
  },
  {
   "cell_type": "code",
   "execution_count": null,
   "id": "6ceff9e4-6936-4f9f-a140-b7a0f1a4d296",
   "metadata": {
    "tags": []
   },
   "outputs": [],
   "source": [
    "from datetime import datetime as dt\n",
    "import ast\n",
    "\n",
    "def convert_list_of_string_periods(started_at, string_of_periods):\n",
    "  EMPTY_VALUE = np.NaN\n",
    "  results = []\n",
    "  try:\n",
    "    list_of_string = ast.literal_eval(string_of_periods)\n",
    "  except ValueError:\n",
    "    list_of_string = None\n",
    "      \n",
    "  if list_of_string is None:\n",
    "    return [[EMPTY_VALUE, EMPTY_VALUE]]\n",
    "  else:\n",
    "    for period in list_of_string:\n",
    "      started_at = dt.combine(\n",
    "        started_at.date(),\n",
    "        dt.strptime(\n",
    "            period.split(' - ')[0],\n",
    "            \"%H:%M\"\n",
    "        ).time()\n",
    "      )\n",
    "      finished_at = dt.combine(\n",
    "        started_at.date(),\n",
    "        dt.strptime(\n",
    "            period.split(' - ')[1],\n",
    "            \"%H:%M\"\n",
    "        ).time()\n",
    "      )\n",
    "      results.append( [started_at, finished_at] )\n",
    "\n",
    "    return results"
   ]
  },
  {
   "cell_type": "code",
   "execution_count": null,
   "id": "d42655e0-7263-45a3-ab4a-afe1a8d6ad70",
   "metadata": {
    "scrolled": true,
    "tags": []
   },
   "outputs": [],
   "source": [
    "wearing_off_periods = None\n",
    "\n",
    "for i, v in filtered_fonlog_data.loc[:, ['activity_target.activity_id', 'value', 'activity.started_at']].dropna().iterrows():        \n",
    "  new_wearing_off_periods = pd.DataFrame(\n",
    "    convert_list_of_string_periods(v['activity.started_at'], v.value), \n",
    "    columns=['started_at', 'finished_at']\n",
    "  ).assign(\n",
    "    wearing_off = v['activity_target.activity_id']\n",
    "  )\n",
    "  if wearing_off_periods is None:\n",
    "    wearing_off_periods = new_wearing_off_periods\n",
    "  else:\n",
    "    wearing_off_periods = pd.concat(\n",
    "      [wearing_off_periods, new_wearing_off_periods]\n",
    "    )\n",
    "  # if (v.value != '[null]'):\n",
    "  #     # print(v)\n",
    "  #     print(ast.literal_eval(v))\n",
    "  #     print()\n",
    "    \n",
    "\n",
    "wearing_off_periods.set_index('wearing_off', inplace=True)\n",
    "wearing_off_periods.index.name = \"activity_target.activity_id\"\n",
    "wearing_off_periods['activity_target.activity_id'] = wearing_off_periods.index\n",
    "wearing_off_periods.rename(\n",
    "  inplace=True,\n",
    "  columns={\n",
    "    \"activity.started_at\": \"started_at\",\n",
    "    \"activity.finished_at\": \"finished_at\",\n",
    "    \"activity_target.activity_id\": \"wearing_off_id\" }\n",
    ")\n",
    "wearing_off_periods.sort_values(by=\"started_at\", inplace=True)\n",
    "# display(wearing_off_periods)\n",
    "# print(wearing_off_periods.size)\n",
    "display(\n",
    "  wearing_off_periods.set_index('started_at').resample('D').count()\n",
    ")"
   ]
  },
  {
   "cell_type": "markdown",
   "id": "e529e235-ce30-4d6c-9fb1-722a23880f9f",
   "metadata": {},
   "source": [
    "## Process drug intake dataset"
   ]
  },
  {
   "cell_type": "code",
   "execution_count": null,
   "id": "1a167de1-1992-429f-bd6f-72322f52e12e",
   "metadata": {},
   "outputs": [],
   "source": [
    "activity_type_ids = [18, 19]\n",
    "record_type_ids = [87, 88]\n",
    "\n",
    "filtered_fonlog_data = fonlog_data.query(\n",
    "  # Filter by activity group\n",
    "  f'`activity_type_group.name` == \"Wearing-Off by Nurse\"'\n",
    "  # f'`activity_type_group.name`.str.contains(\"Wearing-Off\", na=False)', engine=\"python\"\n",
    ").query(\n",
    "  # Filter by activity\n",
    "  f'`record_type.activity_type_id` in {activity_type_ids}'\n",
    ").query(\n",
    "  # Filter by report type ID\n",
    "  f'`record_type_id` in {record_type_ids}'\n",
    ").query(\n",
    "  # Filter by patient\n",
    "  f\"`activity_target.customer_id` == {customer_id} or `activity_target.user_id` == {user_id}\"\n",
    ").query(\n",
    "  f'`activity.started_at` >= \"{start_date}\" and `activity.started_at` < \"{end_date_plus_two}\"'\n",
    ").copy()"
   ]
  },
  {
   "cell_type": "code",
   "execution_count": null,
   "id": "23046b82-0512-4991-bb14-a55002580864",
   "metadata": {
    "scrolled": true,
    "tags": []
   },
   "outputs": [],
   "source": [
    "drug_intake = None\n",
    "\n",
    "for i, v in filtered_fonlog_data.loc[:, ['activity_target.activity_id', 'value', 'activity.started_at', 'record_type.activity_type_id']].dropna().iterrows():        \n",
    "  new_drug_intake = pd.DataFrame(\n",
    "    convert_list_of_string_periods(v['activity.started_at'], v.value), \n",
    "    columns=['started_at', 'finished_at']\n",
    "  ).assign(\n",
    "    drug_intake_id = v['activity_target.activity_id'],\n",
    "    activity_type_id = v['record_type.activity_type_id']\n",
    "  )\n",
    "  if drug_intake is None:\n",
    "    drug_intake = new_drug_intake\n",
    "  else:\n",
    "    drug_intake = pd.concat(\n",
    "        [drug_intake, new_drug_intake]\n",
    "    )\n",
    "  # if (v.value != '[null]'):\n",
    "  #     # print(v)\n",
    "  #     print(ast.literal_eval(v))\n",
    "  #     print()\n",
    "    \n",
    "\n",
    "drug_intake.set_index('drug_intake_id', inplace=True)\n",
    "drug_intake.index.name = \"activity_target.activity_id\"\n",
    "drug_intake['activity_target.activity_id'] = drug_intake.index\n",
    "drug_intake.rename(\n",
    "  inplace=True,\n",
    "  columns={\n",
    "    \"activity.started_at\": \"started_at\",\n",
    "    \"activity.finished_at\": \"finished_at\",\n",
    "    'activity_target.activity_id': 'drug_intake_id'\n",
    "  }\n",
    ")\n",
    "drug_intake.sort_values(by=\"started_at\", inplace=True)\n",
    "display(drug_intake)\n",
    "print(drug_intake.size)"
   ]
  },
  {
   "cell_type": "markdown",
   "id": "f29908db-0035-413e-a983-9e2c6c8e52c2",
   "metadata": {
    "tags": []
   },
   "source": [
    "# Garmin"
   ]
  },
  {
   "cell_type": "markdown",
   "id": "d6897507-8124-4641-bb92-3e3f080170b1",
   "metadata": {},
   "source": [
    "## Heart rate"
   ]
  },
  {
   "cell_type": "code",
   "execution_count": null,
   "id": "24e11132-b9a8-4846-9f17-05a3d2228d2f",
   "metadata": {
    "scrolled": true,
    "tags": []
   },
   "outputs": [],
   "source": [
    "heart_rate = pd.read_excel(f'./data/garmin/{user}.xlsx',\n",
    "                           sheet_name='Heart Rate', index_col='Timestamp',\n",
    "                           engine='openpyxl')\n",
    "heart_rate.sort_values('Timestamp', inplace=True)\n",
    "heart_rate = heart_rate.loc[start_date:end_date_plus_one].rename(\n",
    "    columns={'Heart Rate (in Beats per minute)': 'heart_rate'}\n",
    ")\n",
    "# display(heart_rate.describe())\n",
    "# display(heart_rate.head())\n",
    "# display(heart_rate.tail())"
   ]
  },
  {
   "cell_type": "markdown",
   "id": "ab72af78-27ff-41ea-9fa7-8026d4f5e5a4",
   "metadata": {},
   "source": [
    "## Steps"
   ]
  },
  {
   "cell_type": "code",
   "execution_count": null,
   "id": "c2cc9625-33ba-418e-99d2-1dca5963f393",
   "metadata": {},
   "outputs": [],
   "source": [
    "steps = pd.read_excel(f'./data/garmin/{user}.xlsx',\n",
    "                           sheet_name='Steps', index_col='Timestamp',\n",
    "                           engine='openpyxl')\n",
    "steps.sort_values('Timestamp', inplace=True)\n",
    "steps = steps.loc[start_date:end_date_plus_one].rename(\n",
    "    columns={'Number of Steps': 'steps'}\n",
    ")\n",
    "# display(steps.describe())\n",
    "# display(steps.head())\n",
    "# display(steps.tail())"
   ]
  },
  {
   "cell_type": "markdown",
   "id": "868a5916-a7e9-435f-a3a1-af926913eb48",
   "metadata": {},
   "source": [
    "## Stress"
   ]
  },
  {
   "cell_type": "code",
   "execution_count": null,
   "id": "f132c99e-aa31-4aa1-b12f-169b2e0eefcd",
   "metadata": {},
   "outputs": [],
   "source": [
    "stress = pd.read_excel(f'./data/garmin/{user}.xlsx',\n",
    "                           sheet_name='Stress', index_col='Timestamp',\n",
    "                           engine='openpyxl')\n",
    "stress.sort_values('Timestamp', inplace=True)\n",
    "stress = stress.loc[start_date:end_date_plus_one].rename(\n",
    "    columns={'Stress Score': 'stress_score', 'Stress Interpretation': 'stress_interpretation'}\n",
    ")\n",
    "# display(stress.describe())\n",
    "# display(stress.head())\n",
    "# display(stress.tail())"
   ]
  },
  {
   "cell_type": "markdown",
   "id": "c37c471d-ace7-4ed7-b993-7287e3f8f5f5",
   "metadata": {},
   "source": [
    "## Sleep"
   ]
  },
  {
   "cell_type": "code",
   "execution_count": null,
   "id": "bbf05925-1290-4470-96dd-a6e9fee0520d",
   "metadata": {},
   "outputs": [],
   "source": [
    "sleep = pd.read_excel(f'./data/garmin/{user}.xlsx',\n",
    "                           sheet_name='Sleep', index_col='Calendar Date',\n",
    "                           engine='openpyxl')\n",
    "sleep.sort_values('Start Time', inplace=True)\n",
    "sleep = sleep.loc[start_date:end_date_plus_one]\n",
    "\n",
    "# Compute duration in minutes\n",
    "sleep['Duration'] = (sleep['End Time'] - sleep['Start Time']) / np.timedelta64(1, \"m\")\n",
    "\n",
    "# # Show original sleep data format\n",
    "# display('Original')\n",
    "# display(sleep.head())\n",
    "# display(sleep.tail())\n",
    "\n",
    "# Transform sleep data by sleep classification type\n",
    "sleep = sleep.pivot_table(\n",
    "    index = 'Calendar Date',\n",
    "    columns = 'Sleep Type',\n",
    "    values = 'Duration',\n",
    "    aggfunc = 'sum'\n",
    ")\n",
    "sleep = pd.DataFrame(sleep.to_records()).set_index('Calendar Date').fillna(0)\n",
    "# Make sure that sleep index is a DateTimeIndex type\n",
    "sleep.index = pd.to_datetime(sleep.index)\n",
    "sleep.index.name = 'Timestamp'\n",
    "\n",
    "# Compute total non-rem sleep\n",
    "sleep['nonrem_total'] = (sleep['deep'] + sleep['light'])\n",
    "sleep['total'] = (sleep['nonrem_total'] + sleep['rem'])\n",
    "sleep['nonrem_percentage'] = sleep['nonrem_total'] / sleep['total']\n",
    "sleep['sleep_efficiency'] = sleep['total'] / (sleep['total'] + sleep['awake'])\n",
    "\n",
    "# Ignore unmeasurable column from sleep dataset\n",
    "if 'unmeasurable' in sleep.columns:\n",
    "    sleep.drop(columns=['unmeasurable'], inplace=True)\n",
    "\n",
    "# # Show transformed sleep data\n",
    "# display('Summary')\n",
    "# display(sleep.describe())\n",
    "# display('Transformed')\n",
    "# display(sleep)"
   ]
  },
  {
   "cell_type": "markdown",
   "id": "c6de2271-bbe5-458a-b46b-dbae828d0fb7",
   "metadata": {},
   "source": [
    "## Complete collection period before resampling\n",
    "\n",
    "First, fill missing values according to Garmin's documentation and within the collection period."
   ]
  },
  {
   "cell_type": "markdown",
   "id": "373e18d6-cc94-43ae-b56c-c6d3efff7dcf",
   "metadata": {},
   "source": [
    "### Heart rate\n",
    "* Fill missing values with -1, as per Garmin's documentation for missing values before resampling\n",
    "* Missing values for the expected period indicate that the Garmin vivosmart4 was not worn"
   ]
  },
  {
   "cell_type": "code",
   "execution_count": null,
   "id": "dff6e39c-7b8c-4f98-9c83-3bf84b97a0e8",
   "metadata": {},
   "outputs": [],
   "source": [
    "heart_rate_freq = '15s'\n",
    "reference = pd.DataFrame(\n",
    "    index = pd.date_range(\n",
    "        start_date, end_date_plus_two,\n",
    "        freq = heart_rate_freq, name='Timestamp'\n",
    "    ).drop(\n",
    "        pd.Timestamp(end_date_plus_two)\n",
    "    )\n",
    ")\n",
    "\n",
    "heart_rate = reference.merge(\n",
    "    heart_rate.resample(heart_rate_freq).mean(), on='Timestamp', how='left'\n",
    ")#.fillna(-1)\n",
    "\n",
    "# display(heart_rate.describe())\n",
    "# display(heart_rate.head())\n",
    "# display(heart_rate.tail())"
   ]
  },
  {
   "cell_type": "markdown",
   "id": "ba937ab0-9bb5-4f66-a3ec-dcad356fb361",
   "metadata": {},
   "source": [
    "### Steps\n",
    "* Fill missing values with -1 to standardize with other Garmin datasets\n",
    "* Missing values for the expected period indicate that the Garmin vivosmart4 was not worn"
   ]
  },
  {
   "cell_type": "code",
   "execution_count": null,
   "id": "c24b444c-8b95-4ab5-8ced-e2cb5db1da26",
   "metadata": {},
   "outputs": [],
   "source": [
    "# Steps\n",
    "#     fill missing values with -1 to standardize with other Garmin dataset\n",
    "#     missing values for the expected period indicates Garmin vivosmart4 was not worn\n",
    "steps_freq = '15min'\n",
    "reference = pd.DataFrame(\n",
    "    index = pd.date_range(\n",
    "        start_date, end_date_plus_two,\n",
    "        freq = steps_freq, name='Timestamp'\n",
    "    ).drop(\n",
    "        pd.Timestamp(end_date_plus_two)\n",
    "    )\n",
    ")\n",
    "\n",
    "steps = reference.merge(\n",
    "    steps.resample(steps_freq).mean(), on='Timestamp', how='left'\n",
    ")#.fillna(-1)\n",
    "\n",
    "# display(steps.describe())\n",
    "# display(steps.head())\n",
    "# display(steps.tail())"
   ]
  },
  {
   "cell_type": "markdown",
   "id": "1aaacafe-b97a-465e-b946-93131d6e4865",
   "metadata": {},
   "source": [
    "### Stress\n",
    "* Fill missing values with -1, as per Garmin's documentation for missing values before resampling\n",
    "* Missing values for the expected period indicate that the Garmin vivosmart4 was not worn"
   ]
  },
  {
   "cell_type": "code",
   "execution_count": null,
   "id": "adbea478-1e57-46b3-b89a-432d4f3ae96a",
   "metadata": {},
   "outputs": [],
   "source": [
    "stress_freq = '3min'\n",
    "reference = pd.DataFrame(\n",
    "    index = pd.date_range(\n",
    "        start_date, end_date_plus_two,\n",
    "        freq = stress_freq, name='Timestamp'\n",
    "    ).drop(\n",
    "        pd.Timestamp(end_date_plus_two)\n",
    "    )\n",
    ")\n",
    "\n",
    "stress = reference.merge(\n",
    "    stress.resample(stress_freq).mean(), on='Timestamp', how='left'\n",
    ")#.fillna(-1)\n",
    "\n",
    "# display(stress.describe())\n",
    "# display(stress.head())\n",
    "# display(stress.tail())"
   ]
  },
  {
   "cell_type": "markdown",
   "id": "efd07aaa-be3a-41d9-a08f-d7c2cf63d17c",
   "metadata": {},
   "source": [
    "### Sleep\n",
    "* Fill missing values with -1 to standardize with other Garmin datasets\n",
    "* Missing values for the expected period indicate that the Garmin vivosmart4 was not worn"
   ]
  },
  {
   "cell_type": "code",
   "execution_count": null,
   "id": "26e2701d-61c3-4df0-a42e-d096befb53e7",
   "metadata": {},
   "outputs": [],
   "source": [
    "sleep_freq = 'D'\n",
    "reference = pd.DataFrame(\n",
    "    index = pd.date_range(\n",
    "        start_date, end_date_plus_two,\n",
    "        freq = sleep_freq, name = 'Timestamp'\n",
    "    ).drop(\n",
    "        pd.Timestamp(end_date_plus_two)\n",
    "    )\n",
    ")\n",
    "sleep = reference.merge(\n",
    "    sleep.resample(sleep_freq).mean(), on=\"Timestamp\", how='left'\n",
    ")#.fillna(-1)\n",
    "\n",
    "# # Show transformed sleep data\n",
    "# display('Summary')\n",
    "# display(sleep.describe())\n",
    "# display('Transformed')\n",
    "# display(sleep)\n"
   ]
  },
  {
   "cell_type": "code",
   "execution_count": null,
   "id": "af25c90e-2e1a-43c6-a6b6-50036c51149f",
   "metadata": {
    "tags": []
   },
   "outputs": [],
   "source": [
    "# multi_res = pd.concat([heart_rate, steps, stress], axis=1).sort_index(ascending=True)# .to_excel(\"garmin_multiresolution.xlsx\")\n",
    "# multi_res\n",
    "\n",
    "# sleep_multi_res = pd.concat([\n",
    "#     pd.DataFrame(\n",
    "#         index = pd.date_range(\n",
    "#             start_date, end_date_plus_two,\n",
    "#             freq = '15s', name = 'Timestamp'\n",
    "#         ).drop(\n",
    "#             pd.Timestamp(end_date_plus_two)\n",
    "#         )\n",
    "#     ).merge(\n",
    "#         sleep.resample('15s').mean(), on='Timestamp', how='left'\n",
    "#     ).ffill(),\n",
    "\n",
    "#     pd.DataFrame(\n",
    "#         index = pd.date_range(\n",
    "#             start_date, end_date_plus_two,\n",
    "#             freq = '15min', name = 'Timestamp'\n",
    "#         ).drop(\n",
    "#             pd.Timestamp(end_date_plus_two)\n",
    "#         )\n",
    "#     ).merge(\n",
    "#         sleep.resample('15min').mean(), on='Timestamp', how='left'\n",
    "#     ).ffill(),\n",
    "\n",
    "#     pd.DataFrame(\n",
    "#         index = pd.date_range(\n",
    "#             start_date, end_date_plus_two,\n",
    "#             freq = '3min', name = 'Timestamp'\n",
    "#         ).drop(\n",
    "#             pd.Timestamp(end_date_plus_two)\n",
    "#         )\n",
    "#     ).merge(\n",
    "#         sleep.resample('3min').mean(), on='Timestamp', how='left'\n",
    "#     ).ffill() \n",
    "# ]).reset_index().drop_duplicates(subset=['Timestamp']).set_index('Timestamp').sort_index(ascending=True)\n",
    "# sleep_multi_res\n",
    "\n",
    "# multi_res.merge(\n",
    "#     sleep_multi_res, on='Timestamp', how='left'\n",
    "# ).sort_index(ascending=True).to_excel(\"garmin_multiresolution.xlsx\")"
   ]
  },
  {
   "cell_type": "markdown",
   "id": "4630f9a2-416f-4988-923b-c773dbe1efbf",
   "metadata": {},
   "source": [
    "## Combine Garmin Dataset\n",
    "Resample according to resampling plan.\n",
    "\n",
    "Missing values due to resampling:\n",
    "* Fill using previous known value.\n",
    "* ``ffill()`` does this step."
   ]
  },
  {
   "cell_type": "code",
   "execution_count": null,
   "id": "1679ce1a-38a5-42f1-aab4-7eacb8c14f59",
   "metadata": {},
   "outputs": [],
   "source": [
    "# Create reference timestamp dataframe for the collection period\n",
    "reference = pd.DataFrame(\n",
    "    index = pd.date_range(\n",
    "        start_date, end_date_plus_two,\n",
    "        freq = target_freq, name = 'Timestamp'\n",
    "    ).drop(\n",
    "        pd.Timestamp(end_date_plus_two)\n",
    "    )\n",
    ")\n",
    "# display('Reference timestamp')\n",
    "# display(reference)\n",
    "\n",
    "# Combine each Garmin dataset to reference timestamp dataframe\n",
    "garmin_data = reference.merge(\n",
    "    # downsample heart rate from 15sec to 1min\n",
    "    #   missing values = -1 same treatment with Garmin with regards to missing value, fitness tracker not worn\n",
    "    heart_rate.resample(target_freq).mean(), on='Timestamp', how='left'\n",
    ")#.ffill()\n",
    "garmin_data = garmin_data.merge(\n",
    "    steps.resample(target_freq).mean(), on='Timestamp', how='left'\n",
    ")#.ffill()\n",
    "garmin_data = garmin_data.merge(\n",
    "    stress.resample(target_freq).mean(), on='Timestamp', how='left'\n",
    ")#.ffill()\n",
    "garmin_data = garmin_data.merge(\n",
    "    sleep.resample(target_freq).mean().ffill(), on='Timestamp', how='left'\n",
    ")#.ffill()\n",
    "# display('Combined Data')\n",
    "# display(garmin_data)"
   ]
  },
  {
   "cell_type": "code",
   "execution_count": null,
   "id": "71218889",
   "metadata": {},
   "outputs": [],
   "source": [
    "from IPython.core.display import display, HTML\n",
    "\n",
    "def display_side_by_side(dfs:list, captions:list, tablespacing=5):\n",
    "    \"\"\"Display tables side by side to save vertical space\n",
    "    Input:\n",
    "        dfs: list of pandas.DataFrame\n",
    "        captions: list of table captions\n",
    "    \"\"\"\n",
    "    output = \"\"\n",
    "    for (caption, df) in zip(captions, dfs):\n",
    "        output += df.style.set_table_attributes(\"style='display:inline'\").set_caption(caption)._repr_html_()\n",
    "        output += tablespacing * \"\\xa0\"\n",
    "    display(HTML(output))"
   ]
  },
  {
   "cell_type": "code",
   "execution_count": null,
   "id": "9bf0b9a3",
   "metadata": {},
   "outputs": [],
   "source": [
    "display_side_by_side([\n",
    "  garmin_data.head(5),\n",
    "  garmin_data.tail(5),\n",
    "  wearing_off_periods.set_index('started_at').resample(\"D\").count()\n",
    "], [\"head\", \"tail\", \"wearing-off\"])"
   ]
  },
  {
   "cell_type": "code",
   "execution_count": null,
   "id": "0248a802-acaf-4f41-b602-d920ed916c8d",
   "metadata": {
    "scrolled": true,
    "tags": []
   },
   "outputs": [],
   "source": [
    "garmin_data.to_excel(f'./data/steps/{user}/3-{user}_combined_garmin_data_only.xlsx')"
   ]
  },
  {
   "cell_type": "markdown",
   "id": "e559c8c6-9e6e-4b3c-aeef-906f3a96398f",
   "metadata": {},
   "source": [
    "# Combine Datasets\n",
    "Match wearing-off to combined Garmin data based on wearing-off start and end"
   ]
  },
  {
   "cell_type": "code",
   "execution_count": null,
   "id": "880c8acf-9d11-471d-a67f-53aca39ecc3c",
   "metadata": {},
   "outputs": [],
   "source": [
    "pysqldf = lambda q: sqldf(q, globals())\n",
    "cond_join= '''\n",
    "    select \n",
    "        garmin.*,\n",
    "        wearing_off_periods.*,\n",
    "        case\n",
    "            when wearing_off_periods.[started_at] is not null THEN 1\n",
    "        else 0\n",
    "        end as 'Wearing Off'\n",
    "    from garmin_data as garmin\n",
    "    left join wearing_off_periods\n",
    "    on garmin.[Timestamp] BETWEEN wearing_off_periods.[started_at] AND wearing_off_periods.[finished_at]\n",
    "'''\n",
    "\n",
    "# Change wearing-off columns\n",
    "combined_data = pysqldf(cond_join).rename(columns=wo_columns)\n",
    "\n",
    "# Drop duplicates based on timestamp\n",
    "combined_data = combined_data.drop_duplicates(subset=['timestamp'])\n",
    "\n",
    "# Set timestamp as index\n",
    "combined_data['timestamp'] = pd.to_datetime(combined_data['timestamp'])\n",
    "combined_data = combined_data.set_index('timestamp')"
   ]
  },
  {
   "cell_type": "markdown",
   "id": "46c1d7eb-5533-46fd-b01c-a8be26086322",
   "metadata": {},
   "source": [
    "Compute for wearing-off duration"
   ]
  },
  {
   "cell_type": "code",
   "execution_count": null,
   "id": "294f1dbc-4961-486f-bddd-5aa2b2eeb14d",
   "metadata": {},
   "outputs": [],
   "source": [
    "combined_data['wo_duration'] = ''\n",
    "combined_data['wo_duration'] = (\n",
    "    pd.to_datetime(combined_data.index) - pd.to_datetime(combined_data['wo_start'])\n",
    ") / np.timedelta64(1, target_freq_unit2)\n",
    "\n",
    "# gid = combined_data['wo_duration'].notnull().cumsum()\n",
    "# dg = combined_data.groupby(gid)\n",
    "# base = dg['wo_duration'].transform('last')\n",
    "# combined_data['wo_duration'] = (  base + ( dg.cumcount() ) * target_freq_as_int)\n",
    "\n",
    "# display(combined_data.iloc[140:150, ])"
   ]
  },
  {
   "cell_type": "markdown",
   "id": "5d1258bf-6485-46db-8cc8-904940e1a3c9",
   "metadata": {},
   "source": [
    "Match drug intake to combined Garmin data based on drug intake start and end"
   ]
  },
  {
   "cell_type": "code",
   "execution_count": null,
   "id": "31feff2d-0581-4f32-8d6b-fd5ae3ca0468",
   "metadata": {},
   "outputs": [],
   "source": [
    "pysqldf = lambda q: sqldf(q, globals())\n",
    "cond_join= '''\n",
    "    select \n",
    "        combined_data.*,\n",
    "        drug_intake.*,\n",
    "        case\n",
    "            when drug_intake.[started_at] is not null THEN 1\n",
    "        else 0\n",
    "        end as 'drug_intake'\n",
    "    from combined_data\n",
    "    left join drug_intake\n",
    "    on combined_data.[timestamp] BETWEEN drug_intake.[started_at] AND drug_intake.[finished_at]\n",
    "'''\n",
    "\n",
    "# Change drug intake columns\n",
    "combined_data = pysqldf(cond_join).rename(columns={\n",
    "    \"started_at\": \"drug_intake_start\",\n",
    "    \"finished_at\": \"drug_intake_end\"\n",
    "}).drop_duplicates(subset=['timestamp'])\n",
    "\n",
    "# Drop duplicates based on timestamp\n",
    "combined_data['timestamp'] = pd.to_datetime(combined_data['timestamp'])\n",
    "combined_data = combined_data.set_index('timestamp')\n",
    "combined_data = combined_data.drop(columns=['activity_target.activity_id'])"
   ]
  },
  {
   "cell_type": "markdown",
   "id": "62f9e20d-a4b8-41ce-bdde-01557c64a7dc",
   "metadata": {},
   "source": [
    "Compute time from last drug taken\n",
    "* find the difference between the reference timestamp and the drug intake start\n",
    "* convert difference to target frequency's unit e.g. minute, seconds"
   ]
  },
  {
   "cell_type": "code",
   "execution_count": null,
   "id": "ce11de70-3aaa-4df7-9600-8eb108be750a",
   "metadata": {},
   "outputs": [],
   "source": [
    "combined_data['time_from_last_drug_taken'] = ''\n",
    "combined_data['time_from_last_drug_taken'] = (\n",
    "    pd.to_datetime(combined_data.index) - pd.to_datetime(combined_data['drug_intake_start'])\n",
    ") / np.timedelta64(1, target_freq_unit2)"
   ]
  },
  {
   "cell_type": "markdown",
   "id": "0c6f44f4-8b87-46f9-a1a0-93d0edeccc1c",
   "metadata": {},
   "source": [
    "## Not Needed"
   ]
  },
  {
   "cell_type": "markdown",
   "id": "a6a8c849-bb94-4d02-ac02-90c8051c7683",
   "metadata": {},
   "source": [
    "Fill records after a drug intake report by adding target frequency value\n",
    "* add 1 minute, 15 seconds or 15 minutes to succeeding records after the drug intake end\n",
    "* reference: https://stackoverflow.com/a/42748625/2303766"
   ]
  },
  {
   "cell_type": "markdown",
   "id": "ed9a0985-73be-4dec-be8c-7def8dc56ed7",
   "metadata": {},
   "source": [
    "gid = combined_data['time_from_last_drug_taken'].notnull().cumsum()\n",
    "dg = combined_data.groupby(gid)\n",
    "base = dg['time_from_last_drug_taken'].transform('last')\n",
    "combined_data['time_from_last_drug_taken'] = (  base + ( dg.cumcount() ) * target_freq_as_int)\n",
    "\n",
    "if combined_data['time_from_last_drug_taken'].isna().any():\n",
    "    combined_data['time_from_last_drug_taken'] = combined_data['time_from_last_drug_taken'].fillna(0)"
   ]
  },
  {
   "cell_type": "markdown",
   "id": "ca3183d9-93fc-47c6-83fb-091d4e6ddff3",
   "metadata": {},
   "source": [
    "Generate final symptoms i.e., initial symptom + symptom after drug intake"
   ]
  },
  {
   "cell_type": "markdown",
   "id": "b50aa706-2075-4411-87c0-09e1ff940e8c",
   "metadata": {
    "code_folding": []
   },
   "source": [
    "wo_symptoms = ['wo_pain', 'wo_tremors', 'wo_anxiety', 'wo_rigidity',\n",
    "               'wo_slowdown', 'wo_slow_thoughts', 'wo_impairment_hands', \n",
    "               'wo_moodchange', 'wo_muscle_spasm']\n",
    "\n",
    "drug_intake_symptoms = ['drug_intake_pain', 'drug_intake_tremors',\n",
    "                        'drug_intake_anxiety', 'drug_intake_rigidity',\n",
    "                        'drug_intake_slowdown', 'drug_intake_slow_thoughts',\n",
    "                        'drug_intake_impairment_hands', \n",
    "                        'drug_intake_moodchange', 'drug_intake_muscle_spasm']\n",
    "\n",
    "def generate_final_symptoms(row):\n",
    "    values = []\n",
    "    for wo_symptom, drug_intake_symptom in zip(wo_symptoms, drug_intake_symptoms):\n",
    "        if math.isnan(row[drug_intake_symptom]):\n",
    "            if row[wo_symptom] is None or math.isnan(row[wo_symptom]):\n",
    "                values.append(0)\n",
    "            else:\n",
    "                values.append(row[wo_symptom])\n",
    "        else:\n",
    "            values.append(row[drug_intake_symptom])\n",
    "    if sum(values) >= 1:\n",
    "        values.append(1)\n",
    "    else:\n",
    "        values.append(0)\n",
    "    return pd.Series(values)\n",
    "\n",
    "symptoms = combined_data.apply(lambda row: generate_final_symptoms(row), axis=1)\n",
    "symptoms.columns = ['pain', 'tremors', 'anxiety', 'rigidity', 'slowdown', 'slow_thoughts',\n",
    "                    'impairment_hands', 'moodchange', 'muscle_spasm', 'wearing_off_post_meds']\n",
    "# combined_data = combined_data.drop(columns=['y'])\n",
    "combined_data = combined_data.join(symptoms)"
   ]
  },
  {
   "cell_type": "markdown",
   "id": "883733a2-0230-4a1a-9b49-aaba258da54a",
   "metadata": {},
   "source": [
    "Compute for final wearing_off based on\n",
    "* wearing_off: reported from WoQ-9 Part 1 (symptoms)\n",
    "* wearing_off_post_meds: reported from WoQ-9 Part 2 (Medicine Intake & its effect on the symptoms)"
   ]
  },
  {
   "cell_type": "markdown",
   "id": "7e002c8b-c767-46bf-8a72-0481129de01a",
   "metadata": {},
   "source": [
    "def combine_wearing_offs(n):\n",
    "    if n > 0:\n",
    "        return 1\n",
    "    else:\n",
    "        return 0\n",
    "\n",
    "combined_data[\"wearing_off\"] = (combined_data.wearing_off + combined_data.wearing_off_post_meds).apply(\n",
    "    lambda n: combine_wearing_offs(n)\n",
    ").values"
   ]
  },
  {
   "cell_type": "markdown",
   "id": "55710a26-8a24-43d9-b7e6-46a14efee0a8",
   "metadata": {},
   "source": [
    "# Post-Processing"
   ]
  },
  {
   "cell_type": "markdown",
   "id": "3a3d3e17-8d34-44e1-8ff3-4d9c18110f8f",
   "metadata": {},
   "source": [
    "## Include hour & day of the week\n",
    "Include hour and day of the week"
   ]
  },
  {
   "cell_type": "code",
   "execution_count": null,
   "id": "ff653e6b-cb5f-47bd-9599-f41715d7c15a",
   "metadata": {},
   "outputs": [],
   "source": [
    "combined_data['timestamp_hour'] = combined_data.index.hour\n",
    "combined_data['timestamp_dayofweek'] = combined_data.index.dayofweek"
   ]
  },
  {
   "cell_type": "markdown",
   "id": "7a7febd0-7479-4274-9f17-c2563f2361de",
   "metadata": {},
   "source": [
    "## Encode hour-features as cyclical features\n",
    "Include hour sine & hour cosine"
   ]
  },
  {
   "cell_type": "code",
   "execution_count": null,
   "id": "1e072c19-752f-4043-ab75-f53456294f69",
   "metadata": {},
   "outputs": [],
   "source": [
    "# Fix timestamp format\n",
    "date_time = pd.to_datetime(combined_data.index, format='%d.%m.%Y %H:%M:%S')\n",
    "\n",
    "# Convert to timestamp\n",
    "timestamp_s = date_time.map(pd.Timestamp.timestamp)\n",
    "\n",
    "# Get seconds per day\n",
    "day = 24 * 60 * 60 \n",
    "# Get seconds per year\n",
    "year = 365.2425 * day\n",
    "\n",
    "# Get sine(), cosine() for hour-feature\n",
    "combined_data['timestamp_hour_sin'] = np.sin(timestamp_s * (2 * np.pi / day))\n",
    "combined_data['timestamp_hour_cos'] = np.cos(timestamp_s * (2 * np.pi / day))\n",
    "\n",
    "# Move `wearing_off` feature at the end of the dataframe\n",
    "tmp = combined_data.pop('timestamp_dayofweek')\n",
    "combined_data['timestamp_dayofweek'] = tmp\n",
    "tmp = combined_data.pop('wearing_off')\n",
    "combined_data['wearing_off'] = tmp"
   ]
  },
  {
   "cell_type": "code",
   "execution_count": null,
   "id": "12508df3-f2ec-4a16-9bb2-707db4fffda7",
   "metadata": {},
   "outputs": [],
   "source": [
    "# An \"interface\" to matplotlib.axes.Axes.hist() method\n",
    "n, bins, patches = plt.hist(x=combined_data['timestamp_dayofweek'], bins='auto', color='#0504aa',\n",
    "                            alpha=0.7, rwidth=0.85)\n",
    "plt.grid(axis='y', alpha=0.75)\n",
    "plt.xlabel('Value')\n",
    "plt.ylabel('Frequency')\n",
    "plt.title('Distribution Days of the Week')\n",
    "# plt.text(23, 45, r'$\\mu=15, b=3$')\n",
    "maxfreq = n.max()\n",
    "# Set a clean upper y-axis limit.\n",
    "plt.ylim(ymax=np.ceil(maxfreq / 10) * 10 if maxfreq % 10 else maxfreq + 10)\n",
    "plt.figure(figsize=(24, 10))\n",
    "plt.show()"
   ]
  },
  {
   "cell_type": "code",
   "execution_count": null,
   "id": "f2892343-ddbb-4755-8260-f2f8a57801e3",
   "metadata": {},
   "outputs": [],
   "source": [
    "np.sin(combined_data['time_from_last_drug_taken'] * (2 * np.pi / combined_data['time_from_last_drug_taken'].max())).plot(figsize=(24,10))\n",
    "np.cos(combined_data['time_from_last_drug_taken'] * (2 * np.pi / combined_data['time_from_last_drug_taken'].max())).plot(figsize=(24,10))"
   ]
  },
  {
   "cell_type": "code",
   "execution_count": null,
   "id": "935586d8-944b-409c-b7e9-1ce34c09d4c3",
   "metadata": {
    "tags": []
   },
   "outputs": [],
   "source": [
    "combined_data.isna().any()"
   ]
  },
  {
   "cell_type": "code",
   "execution_count": null,
   "id": "8f3bf53a-5252-4df7-8f8f-a52ca8ae70a1",
   "metadata": {},
   "outputs": [],
   "source": [
    "combined_data.to_excel(f'./data/4-combined_data_{user}_{target_freq}.xlsx')"
   ]
  },
  {
   "attachments": {},
   "cell_type": "markdown",
   "id": "d6cb32a4-eed9-4768-aceb-debe67ac225f",
   "metadata": {},
   "source": [
    "# Combine and reporting combine data"
   ]
  },
  {
   "cell_type": "code",
   "execution_count": null,
   "id": "118e88f1",
   "metadata": {},
   "outputs": [],
   "source": [
    "dfs = []\n",
    "\n",
    "for i in [1,2,3,4,5,6,7,8,9,10,12,13]:\n",
    "  tmp = pd.read_excel(f'./data/4-combined_data_participant{i}_15min.xlsx',\n",
    "                    index_col=\"timestamp\",\n",
    "                    engine='openpyxl')\n",
    "  # tmp.groupby(tmp.index.date).sum().wearing_off\n",
    "  tmp = tmp.assign(participant=i)\n",
    "  dfs.append(tmp)\n",
    "\n",
    "# Combined data\n",
    "combined_participants = pd.concat(dfs, axis=0).drop(\n",
    "  columns=['activity_type_id']\n",
    ").copy()\n",
    "\n",
    "def custom_function_sum(values):\n",
    "  if np.sum(values) > 0:\n",
    "    return 1\n",
    "  else:\n",
    "    return 0\n",
    "\n",
    "# Report\n",
    "# Wearing-Off\n",
    "wearing_off_summary = combined_participants.pivot_table(\n",
    "  index=[lambda x: x.date],\n",
    "  columns=['participant'],\n",
    "  values='wearing_off',\n",
    "  aggfunc='sum'\n",
    ")\n",
    "wearing_off_summary\n",
    "\n",
    "# Wearing-Off Binary\n",
    "wearing_off_summary_binary = combined_participants.pivot_table(\n",
    "  index=[lambda x: x.date],\n",
    "  columns=['participant'],\n",
    "  values='wearing_off',\n",
    "  aggfunc=custom_function_sum\n",
    ")\n",
    "wearing_off_summary_binary\n",
    "\n",
    "# Wearing-Off By Hour\n",
    "new_combined_data = combined_participants.copy()\n",
    "new_combined_data['date'] = new_combined_data.index.date\n",
    "new_combined_data['hour'] = new_combined_data.index.hour\n",
    "new_combined_data.set_index(['date', 'hour'], inplace=True)\n",
    "wearing_off_summary_by_hour_binary = new_combined_data.pivot_table(\n",
    "  index=[\"participant\", \"date\"],\n",
    "  columns=[\"hour\"],\n",
    "  values=\"wearing_off\",\n",
    "  aggfunc=custom_function_sum\n",
    ")\n",
    "wearing_off_summary_by_hour_binary['total'] = wearing_off_summary_by_hour_binary.sum(axis=1)\n",
    "wearing_off_summary_by_hour_binary\n",
    "\n",
    "# Garmin Summary\n",
    "garmin_summary = combined_participants.pivot_table(\n",
    "  index=[lambda x: x.date],\n",
    "  columns=['participant'],\n",
    "  values=['heart_rate', 'stress_score', 'steps', 'total'],\n",
    "  aggfunc='mean'\n",
    ")\n",
    "garmin_summary\n",
    "\n",
    "def custom_function_mean(values):\n",
    "  if np.mean(values) > 0:\n",
    "    return 1\n",
    "  else:\n",
    "    return 0\n",
    "\n",
    "# Garmin Summary Binary\n",
    "garmin_summary_binary = combined_participants.pivot_table(\n",
    "  index=[lambda x: x.date],\n",
    "  columns=['participant'],\n",
    "  values=['heart_rate', 'stress_score', 'steps', 'total'],\n",
    "  aggfunc=custom_function_mean\n",
    ")\n",
    "garmin_summary_binary\n",
    "\n",
    "wearing_off_x_garmin = ( \n",
    "  ( wearing_off_summary_binary.fillna(0) * 0.5 ) + \n",
    "  garmin_summary_binary.total.fillna(0) )\n",
    "\n",
    "# Write to Excel file\n",
    "combined_data_filename = f'./data/4-combined_data.xlsx'\n",
    "with pd.ExcelWriter(combined_data_filename, engine='openpyxl', mode='w') as writer:\n",
    "    combined_participants.to_excel(writer, sheet_name=\"combined\")\n",
    "    wearing_off_summary_binary.to_excel(writer, sheet_name=\"Wearing-Off Summary Binary\")\n",
    "    wearing_off_summary.to_excel(writer, sheet_name=\"Wearing-Off Summary Count\")\n",
    "    wearing_off_summary_by_hour_binary.to_excel(writer, sheet_name=\"Wearing-Off Summary by Hour\")\n",
    "    garmin_summary.to_excel(writer, sheet_name=\"Garmin Summary Average\")\n",
    "    garmin_summary_binary.to_excel(writer, sheet_name=\"Garmin Summary Binary\")\n",
    "    wearing_off_x_garmin.to_excel(writer, sheet_name=\"Wearing-Off x Garmin\")"
   ]
  }
 ],
 "metadata": {
  "kernelspec": {
   "display_name": "Python 3 (ipykernel)",
   "language": "python",
   "name": "python3"
  },
  "language_info": {
   "codemirror_mode": {
    "name": "ipython",
    "version": 3
   },
   "file_extension": ".py",
   "mimetype": "text/x-python",
   "name": "python",
   "nbconvert_exporter": "python",
   "pygments_lexer": "ipython3",
   "version": "3.9.7"
  },
  "vscode": {
   "interpreter": {
    "hash": "d4d1e4263499bec80672ea0156c357c1ee493ec2b1c70f0acce89fc37c4a6abe"
   }
  }
 },
 "nbformat": 4,
 "nbformat_minor": 5
}
