{
 "cells": [
  {
   "cell_type": "code",
   "execution_count": 39,
   "metadata": {},
   "outputs": [],
   "source": [
    "using DelimitedFiles, Random, Statistics, LinearAlgebra\n",
    "using Distributions, Plots, LaTeXStrings\n",
    "include(\"/workspaces/proposed/pilotConsistent/gendat.jl\")\n",
    "include(\"/workspaces/proposed/pilotConsistent/estimators.jl\")\n",
    "\n",
    "using DelimitedFiles"
   ]
  },
  {
   "cell_type": "code",
   "execution_count": 3,
   "metadata": {},
   "outputs": [
    {
     "data": {
      "text/plain": [
       "664×75 Matrix{Float64}:\n",
       "  0.0655348    0.33161    -0.144391   …  -0.0122357   -0.185506   -0.0389523\n",
       "  0.110648    -0.0462351   0.207961      -0.169898     0.0246838  -0.0358784\n",
       "  0.0568006   -0.0278991   0.132631      -0.0998821    0.0283107  -0.0216497\n",
       "  0.0398977   -0.0138945  -0.0355425      0.0123803   -0.189949   -0.0398852\n",
       " -0.0163595   -0.0132565  -0.0823464      0.126283    -0.0720386   0.352256\n",
       "  0.0625028   -0.046812    0.183797   …  -0.150418    -0.130979   -0.0418825\n",
       "  0.101465    -0.0538128   0.140998      -0.131533     0.154051   -0.0417587\n",
       "  0.00931615  -0.0236581  -0.085691       0.188275    -0.107402   -0.0455554\n",
       "  0.0577751   -0.0537857   0.145518      -0.15817     -0.120328   -0.0417377\n",
       "  0.0577041   -0.0142555  -0.0779488     -0.15054     -0.149654   -0.0445666\n",
       "  0.113913     0.170972   -0.169649   …  -0.220649     0.0320572  -0.0465957\n",
       "  0.170162     0.407621   -0.0767137     -0.0128107    0.198915   -0.0407828\n",
       "  0.0400185    0.0439677  -0.063237       0.121878     0.163209   -0.0419604\n",
       "  ⋮                                   ⋱                           \n",
       "  0.0925334   -0.0207389  -0.0315809     -3.95753e-5  -0.101495   -0.0212657\n",
       " -0.0772966   -0.0513277  -0.13976        0.179999    -0.0595509  -0.0398302\n",
       " -0.135105    -0.067828   -0.18353        0.199269    -0.151743   -0.0526344\n",
       " -0.0587101   -0.0555123  -0.105668   …   0.184378     0.0945067  -0.0430775\n",
       "  0.0850794    0.362655   -0.0334968     -0.0774477   -0.0589182  -0.0204367\n",
       "  0.0549068   -0.0551233   0.13314        0.153466     0.138692   -0.0427756\n",
       "  0.0510613   -0.055189    0.143662      -0.197583     0.0560032  -0.0428266\n",
       " -0.138515    -0.0658124  -0.178076       0.239049    -0.0451881  -0.0510703\n",
       "  0.132241     0.0490615   0.0725368  …  -0.166277     0.0471298  -0.036041\n",
       "  0.0424084   -0.0314465   0.156899      -0.132549    -0.150402   -0.0420815\n",
       "  0.158665     0.0920898   0.0988613     -0.1462       0.115659   -0.0385789\n",
       " -0.0714341   -0.0448912  -0.113804       0.153593    -0.0623884   0.401595"
      ]
     },
     "execution_count": 3,
     "metadata": {},
     "output_type": "execute_result"
    }
   ],
   "source": [
    "# Read csv file\n",
    "X = readdlm(\"/workspaces/proposed/X.csv\", ',', Float64, '\\n')"
   ]
  },
  {
   "cell_type": "code",
   "execution_count": 55,
   "metadata": {},
   "outputs": [
    {
     "data": {
      "text/plain": [
       "664-element Vector{Bool}:\n",
       " 0\n",
       " 0\n",
       " 0\n",
       " 0\n",
       " 0\n",
       " 0\n",
       " 0\n",
       " 0\n",
       " 0\n",
       " 0\n",
       " 0\n",
       " 0\n",
       " 0\n",
       " ⋮\n",
       " 0\n",
       " 0\n",
       " 0\n",
       " 0\n",
       " 0\n",
       " 0\n",
       " 0\n",
       " 0\n",
       " 0\n",
       " 0\n",
       " 0\n",
       " 0"
      ]
     },
     "execution_count": 55,
     "metadata": {},
     "output_type": "execute_result"
    }
   ],
   "source": [
    "Y = readdlm(\"/workspaces/proposed/Y.csv\", ',', Float64, '\\n')\n",
    "\n",
    "# Convert Y to Vector of Bool\n",
    "Y = vec(convert(Array{Bool}, Y))\n",
    "Y"
   ]
  },
  {
   "cell_type": "code",
   "execution_count": 56,
   "metadata": {},
   "outputs": [
    {
     "data": {
      "text/plain": [
       "1"
      ]
     },
     "execution_count": 56,
     "metadata": {},
     "output_type": "execute_result"
    }
   ],
   "source": [
    "nss = [100]\n",
    "n0 = 1"
   ]
  },
  {
   "cell_type": "code",
   "execution_count": 57,
   "metadata": {},
   "outputs": [
    {
     "name": "stdout",
     "output_type": "stream",
     "text": [
      "H is singular\n"
     ]
    },
    {
     "ename": "LoadError",
     "evalue": "SingularException(74)",
     "output_type": "error",
     "traceback": [
      "SingularException(74)",
      "",
      "Stacktrace:",
      "  [1] checknonsingular",
      "    @ /opt/julia-1.7.3/share/julia/stdlib/v1.7/LinearAlgebra/src/factorization.jl:19 [inlined]",
      "  [2] checknonsingular",
      "    @ /opt/julia-1.7.3/share/julia/stdlib/v1.7/LinearAlgebra/src/factorization.jl:21 [inlined]",
      "  [3] #lu!#146",
      "    @ /opt/julia-1.7.3/share/julia/stdlib/v1.7/LinearAlgebra/src/lu.jl:82 [inlined]",
      "  [4] lu(A::Adjoint{Float64, Matrix{Float64}}, pivot::RowMaximum; check::Bool)",
      "    @ LinearAlgebra /opt/julia-1.7.3/share/julia/stdlib/v1.7/LinearAlgebra/src/lu.jl:279",
      "  [5] lu (repeats 2 times)",
      "    @ /opt/julia-1.7.3/share/julia/stdlib/v1.7/LinearAlgebra/src/lu.jl:278 [inlined]",
      "  [6] \\(A::Adjoint{Float64, Matrix{Float64}}, B::Adjoint{Float64, Matrix{Float64}})",
      "    @ LinearAlgebra /opt/julia-1.7.3/share/julia/stdlib/v1.7/LinearAlgebra/src/generic.jl:1144",
      "  [7] /(A::Matrix{Float64}, B::Matrix{Float64})",
      "    @ LinearAlgebra /opt/julia-1.7.3/share/julia/stdlib/v1.7/LinearAlgebra/src/generic.jl:1152",
      "  [8] calPI(X::Matrix{Float64}, Y::Vector{Bool}, n0::Int64)",
      "    @ Main /workspaces/proposed/pilotConsistent/estimators.jl:92",
      "  [9] estBetas(X::Matrix{Float64}, Y::Vector{Bool}, nss::Vector{Int64}, n0::Int64)",
      "    @ Main /workspaces/proposed/pilotConsistent/estimators.jl:109",
      " [10] top-level scope",
      "    @ In[57]:1"
     ]
    }
   ],
   "source": [
    "fitbeta = estBetas(X, Y, nss, n0)\n"
   ]
  },
  {
   "cell_type": "code",
   "execution_count": 50,
   "metadata": {},
   "outputs": [],
   "source": [
    "(X_sim, Y_sim) = gendat(1000, 3, [-7; -ones(6)]);"
   ]
  },
  {
   "cell_type": "code",
   "execution_count": 51,
   "metadata": {},
   "outputs": [
    {
     "data": {
      "text/plain": [
       "1000-element Vector{Bool}:\n",
       " 0\n",
       " 0\n",
       " 0\n",
       " 0\n",
       " 0\n",
       " 0\n",
       " 0\n",
       " 0\n",
       " 0\n",
       " 0\n",
       " 0\n",
       " 0\n",
       " 0\n",
       " ⋮\n",
       " 0\n",
       " 0\n",
       " 0\n",
       " 0\n",
       " 0\n",
       " 0\n",
       " 0\n",
       " 0\n",
       " 0\n",
       " 0\n",
       " 0\n",
       " 0"
      ]
     },
     "execution_count": 51,
     "metadata": {},
     "output_type": "execute_result"
    }
   ],
   "source": [
    "Y_sim"
   ]
  }
 ],
 "metadata": {
  "kernelspec": {
   "display_name": "Julia 1.7.3",
   "language": "julia",
   "name": "julia-1.7"
  },
  "language_info": {
   "file_extension": ".jl",
   "mimetype": "application/julia",
   "name": "julia",
   "version": "1.7.3"
  },
  "orig_nbformat": 4
 },
 "nbformat": 4,
 "nbformat_minor": 2
}
