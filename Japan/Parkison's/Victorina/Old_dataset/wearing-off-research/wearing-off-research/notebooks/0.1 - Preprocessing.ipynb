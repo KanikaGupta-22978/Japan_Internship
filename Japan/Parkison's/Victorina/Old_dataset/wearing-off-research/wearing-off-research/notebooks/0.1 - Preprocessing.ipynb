{
 "cells": [
  {
   "attachments": {},
   "cell_type": "markdown",
   "metadata": {},
   "source": [
    "# Load libraries"
   ]
  },
  {
   "cell_type": "code",
   "execution_count": 1,
   "metadata": {},
   "outputs": [],
   "source": [
    "import numpy as np\n",
    "import pandas as pd\n",
    "from pandasql import sqldf\n",
    "\n",
    "import os\n",
    "import json\n",
    "\n",
    "from matplotlib import pyplot as plt"
   ]
  },
  {
   "attachments": {},
   "cell_type": "markdown",
   "metadata": {},
   "source": [
    "# Load configurations"
   ]
  },
  {
   "cell_type": "code",
   "execution_count": 5,
   "metadata": {},
   "outputs": [],
   "source": [
    "# Participant to process\n",
    "USER = 'participant11'\n",
    "\n",
    "# Collection dataset\n",
    "# COLLECTION = '2-person'\n",
    "# COLLECTION = '10-person'\n",
    "COLLECTION = '3-person'\n",
    "\n",
    "# Define base path\n",
    "base_data_path = '/workspaces/data'\n",
    "base_path = f'{base_data_path}/0raw'\n",
    "\n",
    "# Participant dictionary\n",
    "participant_dictionary = json.load(\n",
    "  open(f'{base_path}/{COLLECTION}/participant_dictionary.json')\n",
    ")\n",
    "user_id = participant_dictionary[USER]['fonlog_id']\n",
    "start_date = participant_dictionary[USER]['start_date']\n",
    "end_date_plus_one = participant_dictionary[USER]['end_date_plus_one']\n",
    "end_date_plus_two = participant_dictionary[USER]['end_date_plus_two']"
   ]
  },
  {
   "attachments": {},
   "cell_type": "markdown",
   "metadata": {},
   "source": [
    "# Garmin"
   ]
  },
  {
   "cell_type": "code",
   "execution_count": 6,
   "metadata": {},
   "outputs": [],
   "source": [
    "def checker(df):\n",
    "  print((df.index.max() - df.index.min()).days + 1)"
   ]
  },
  {
   "attachments": {},
   "cell_type": "markdown",
   "metadata": {},
   "source": [
    "## Heart Rate"
   ]
  },
  {
   "cell_type": "code",
   "execution_count": 7,
   "metadata": {},
   "outputs": [
    {
     "name": "stdout",
     "output_type": "stream",
     "text": [
      "13\n"
     ]
    }
   ],
   "source": [
    "heart_rate = pd.read_excel(f'{base_path}/{COLLECTION}/{USER}.xlsx',\n",
    "                           sheet_name='Heart Rate', index_col='Timestamp',\n",
    "                           engine='openpyxl')\n",
    "heart_rate.sort_values('Timestamp', inplace=True)\n",
    "heart_rate = heart_rate.loc[start_date:end_date_plus_one].rename(\n",
    "  columns={'Heart Rate (in Beats per minute)': 'heart_rate'}\n",
    ")\n",
    "\n",
    "checker(heart_rate)"
   ]
  },
  {
   "attachments": {},
   "cell_type": "markdown",
   "metadata": {},
   "source": [
    "## Steps"
   ]
  },
  {
   "cell_type": "code",
   "execution_count": 8,
   "metadata": {},
   "outputs": [
    {
     "name": "stdout",
     "output_type": "stream",
     "text": [
      "13\n"
     ]
    }
   ],
   "source": [
    "steps = pd.read_excel(f'{base_path}/{COLLECTION}/{USER}.xlsx',\n",
    "                      sheet_name='Steps', index_col='Timestamp',\n",
    "                      engine='openpyxl')\n",
    "steps.sort_values('Timestamp', inplace=True)\n",
    "steps = steps.loc[start_date:end_date_plus_one].rename(\n",
    "  columns={'Number of Steps': 'steps'}\n",
    ")\n",
    "\n",
    "checker(steps)"
   ]
  },
  {
   "attachments": {},
   "cell_type": "markdown",
   "metadata": {},
   "source": [
    "## Stress"
   ]
  },
  {
   "cell_type": "code",
   "execution_count": 9,
   "metadata": {},
   "outputs": [
    {
     "name": "stdout",
     "output_type": "stream",
     "text": [
      "13\n"
     ]
    }
   ],
   "source": [
    "stress = pd.read_excel(f'{base_path}/{COLLECTION}/{USER}.xlsx',\n",
    "                       sheet_name='Stress', index_col='Timestamp',\n",
    "                       engine='openpyxl')\n",
    "stress.sort_values('Timestamp', inplace=True)\n",
    "stress = stress.loc[start_date:end_date_plus_one].rename(\n",
    "  columns={\n",
    "    'Stress Score': 'stress_score',\n",
    "    'Stress Interpretation': 'stress_interpretation'\n",
    "  }\n",
    ")\n",
    "\n",
    "checker(stress)"
   ]
  },
  {
   "attachments": {},
   "cell_type": "markdown",
   "metadata": {},
   "source": [
    "## Sleep"
   ]
  },
  {
   "cell_type": "code",
   "execution_count": 10,
   "metadata": {},
   "outputs": [],
   "source": [
    "sleep = pd.read_excel(f'{base_path}/{COLLECTION}/{USER}.xlsx',\n",
    "                      sheet_name='Sleep', index_col='Calendar Date',\n",
    "                      engine='openpyxl')\n",
    "sleep.sort_values('Start Time', inplace=True)\n",
    "sleep = sleep.loc[start_date:end_date_plus_one]"
   ]
  },
  {
   "attachments": {},
   "cell_type": "markdown",
   "metadata": {},
   "source": [
    "## Combine Garmin dataset"
   ]
  },
  {
   "cell_type": "code",
   "execution_count": 12,
   "metadata": {},
   "outputs": [],
   "source": [
    "# Assign participant\n",
    "heart_rate = heart_rate.assign(participant=USER)\n",
    "steps = steps.assign(participant=USER)\n",
    "stress = stress.assign(participant=USER)\n",
    "sleep = sleep.assign(participant=USER)\n",
    "\n",
    "# Save Garmin data to Excel file\n",
    "#   If the Excel file exists, append to the existing file\n",
    "#   If the Excel file does not exist, create a new file\n",
    "garmin_file = f'{base_data_path}/{COLLECTION}/garmin.xlsx'\n",
    "if os.path.exists(garmin_file):\n",
    "  with pd.ExcelWriter(garmin_file, mode='a', if_sheet_exists='overlay') as writer:\n",
    "    heart_rate.reset_index().to_excel(\n",
    "      writer, sheet_name='heart_rate',\n",
    "      startrow=writer.sheets['heart_rate'].max_row,\n",
    "      header=None, index=False\n",
    "    )\n",
    "    steps.reset_index().to_excel(\n",
    "      writer, sheet_name='steps',\n",
    "      startrow=writer.sheets['steps'].max_row,\n",
    "      header=None, index=False\n",
    "    )\n",
    "    stress.reset_index().to_excel(\n",
    "      writer, sheet_name='stress',\n",
    "      startrow=writer.sheets['stress'].max_row,\n",
    "      header=None, index=False\n",
    "    )\n",
    "    sleep.reset_index().to_excel(\n",
    "      writer, sheet_name='sleep',\n",
    "      startrow=writer.sheets['sleep'].max_row,\n",
    "      header=None, index=False\n",
    "    )\n",
    "else:\n",
    "  with pd.ExcelWriter(garmin_file) as writer:\n",
    "    heart_rate.to_excel(writer, sheet_name='heart_rate')\n",
    "    steps.to_excel(writer, sheet_name='steps')\n",
    "    stress.to_excel(writer, sheet_name='stress')\n",
    "    sleep.to_excel(writer, sheet_name='sleep')"
   ]
  },
  {
   "attachments": {},
   "cell_type": "markdown",
   "metadata": {},
   "source": [
    "# FonLog"
   ]
  },
  {
   "attachments": {},
   "cell_type": "markdown",
   "metadata": {},
   "source": [
    "## Wearing-Off Dataset"
   ]
  },
  {
   "cell_type": "code",
   "execution_count": null,
   "metadata": {},
   "outputs": [],
   "source": [
    "# New FonLog server (https://nurse-kitakyu.fonlog.com/)\n",
    "# activity_type_id = 12 # 17\n",
    "# activity_type_group_name = 'Wearing-Off for PD' # 'Wearing-Off by Nurse'\n",
    "# user_column = 'activity_target.customer_id'\n",
    "\n",
    "# Old FonLog server (https://noelact.sozolab.jp)\n",
    "activity_type_id = 2\n",
    "activity_type_group_name = 'Wearing-off Questionnaire (WOQ)'\n",
    "user_column = 'activity_target.user_id'\n",
    "\n",
    "fonlog_data = pd.read_excel(f'{base_path}/{COLLECTION}/records.xlsx',\n",
    "                            sheet_name='records', engine='openpyxl')\n",
    "\n",
    "# Make sure to use datetime data type\n",
    "fonlog_data['activity.started_at'] = pd.to_datetime(\n",
    "    fonlog_data['activity.started_at'])\n",
    "fonlog_data['activity.finished_at'] = pd.to_datetime(\n",
    "    fonlog_data['activity.finished_at'])\n",
    "\n",
    "# Filter data\n",
    "filtered_fonlog_data = fonlog_data.loc[\n",
    "  (fonlog_data[user_column] == user_id) &\n",
    "  (fonlog_data['activity_type_group.name'] == activity_type_group_name) &\n",
    "  (fonlog_data['activity.started_at'] >= start_date) &\n",
    "  (fonlog_data['activity.started_at'] < end_date_plus_two) &\n",
    "  (fonlog_data['record_type.activity_type_id'] == activity_type_id)\n",
    "]\n",
    "grouped_fonlog_data = filtered_fonlog_data.groupby(\n",
    "    ['activity_target.activity_id'])\n",
    "\n",
    "# Extract wearing-off periods\n",
    "#   Drop the extra column 'activity_target.activity_id'\n",
    "#   Then, rename remaining columns and the index column\n",
    "wearing_off_periods = grouped_fonlog_data.agg({\n",
    "  'activity.started_at': 'min',\n",
    "  'activity.finished_at': 'max',\n",
    "  'activity_target.activity_id': 'nunique'\n",
    "}).drop(columns='activity_target.activity_id').rename(\n",
    "  columns={\n",
    "    \"activity.started_at\": \"started_at\",\n",
    "    \"activity.finished_at\": \"finished_at\",\n",
    "  }\n",
    ").rename_axis('wearing_off_id')\n",
    "\n",
    "# Add additional minutes when started_at and finished_at are the same\n",
    "add_minutes = 15\n",
    "wearing_off_periods.loc[\n",
    "  wearing_off_periods['started_at'] == wearing_off_periods['finished_at'],\n",
    "  'finished_at'\n",
    "] += pd.Timedelta(minutes=add_minutes)"
   ]
  },
  {
   "attachments": {},
   "cell_type": "markdown",
   "metadata": {},
   "source": [
    "### Add symptom dataset"
   ]
  },
  {
   "cell_type": "code",
   "execution_count": null,
   "metadata": {},
   "outputs": [],
   "source": [
    "# Load symptoms dictionary\n",
    "symptoms_dictionary = participant_dictionary = json.load(\n",
    "  open(f'{base_path}/symptom_dictionary.json')\n",
    ")\n",
    "\n",
    "# Pivot filtered fonlog data where\n",
    "#   index is activity_target.activity_id (or wearing_off_id)\n",
    "#   columns is record_type.name (or symptoms)\n",
    "#   values is value (actual chosen value whether yes / no)\n",
    "wearing_off_symptoms = filtered_fonlog_data.pivot(\n",
    "  index='activity_target.activity_id',\n",
    "  columns='record_type.name',\n",
    "  values='value'\n",
    ").rename(\n",
    "  columns=symptoms_dictionary\n",
    ").drop(\n",
    "  columns='共有したい他の症状はありますか？'\n",
    ")\n",
    "\n",
    "# - Merge wearing_off_periods and wearing_off_symptoms\n",
    "# - Fill NaN with 0\n",
    "# - Replace 'ある' with 1 and 'ない' with 0\n",
    "wearing_off_periods = wearing_off_periods.merge(\n",
    "  wearing_off_symptoms,\n",
    "  left_on='wearing_off_id',\n",
    "  right_index=True\n",
    ").fillna(0).replace({'ある': 1, 'ない': 0})"
   ]
  },
  {
   "attachments": {
    "image.png": {
     "image/png": "[encoded data removed]"
    }
   },
   "cell_type": "markdown",
   "metadata": {},
   "source": [
    "### Remove overarching wearing-off periods when smaller wearing-off periods exists\n",
    "![image.png](attachment:image.png)"
   ]
  },
  {
   "cell_type": "code",
   "execution_count": null,
   "metadata": {},
   "outputs": [],
   "source": [
    "# Plot a shade of the wearing-off periods based on the started_at & finished_at\n",
    "#   with wearing-off period index == 753, 755, 757, 759, 761, 763, 765, 751\n",
    "#   with the randomly different color per different wearing_off_id\n",
    "#   and the label based on the wearing_off_id\n",
    "\n",
    "# # Create a figure and an axes\n",
    "# fig, ax = plt.subplots(figsize=(20, 5))\n",
    "\n",
    "# # Plot the data\n",
    "# tmp = wearing_off_periods.loc[[753, 755, 757, 759, 761, 763, 765, 751]]\n",
    "# for wearing_off_id, wearing_off_period in tmp.iterrows():\n",
    "#     ax.axvspan(\n",
    "#         wearing_off_period['started_at'],\n",
    "#         wearing_off_period['finished_at'],\n",
    "#         alpha=0.5,\n",
    "#         color=np.random.rand(3,),\n",
    "#         label=wearing_off_id\n",
    "#     )\n",
    "\n",
    "# # Set the x-axis label\n",
    "# ax.set_xlabel('Date', fontsize=14)\n",
    "\n",
    "# # Remove y-axis ticks\n",
    "# ax.set_yticks([])\n",
    "\n",
    "# # Set the legend\n",
    "# ax.legend()\n",
    "\n",
    "# # Show the plot\n",
    "# plt.show()"
   ]
  },
  {
   "cell_type": "code",
   "execution_count": null,
   "metadata": {},
   "outputs": [],
   "source": [
    "def pysqldf(q): return sqldf(q, globals())\n",
    "\n",
    "\n",
    "cond_join = '''\n",
    "  select distinct\n",
    "    wearing_off_2.[wearing_off_id] as for_remove_id\n",
    "  from wearing_off_periods as wearing_off_1\n",
    "  join wearing_off_periods as wearing_off_2\n",
    "    on (wearing_off_2.[started_at] < wearing_off_1.[finished_at] AND \n",
    "      wearing_off_2.[started_at] < wearing_off_1.[started_at]) AND\n",
    "    (wearing_off_2.[finished_at] > wearing_off_1.[finished_at] AND\n",
    "      wearing_off_2.[finished_at] > wearing_off_1.[started_at]) AND\n",
    "    (wearing_off_1.[wearing_off_id] <> wearing_off_2.[wearing_off_id])\n",
    "'''\n",
    "for_remove_ids = pysqldf(cond_join)\n",
    "\n",
    "# Remove wearing-off periods that are included in the for_remove_ids\n",
    "wearing_off_periods = wearing_off_periods[\n",
    "  ~wearing_off_periods.index.isin(for_remove_ids['for_remove_id'])\n",
    "]"
   ]
  },
  {
   "attachments": {},
   "cell_type": "markdown",
   "metadata": {},
   "source": [
    "### Save to file"
   ]
  },
  {
   "cell_type": "code",
   "execution_count": null,
   "metadata": {},
   "outputs": [],
   "source": [
    "# Assign participant\n",
    "wearing_off_periods = wearing_off_periods.assign(participant=USER)\n",
    "\n",
    "# Save wearing_off_periods to Excel file\n",
    "#  If the Excel file exists, append to the existing file\n",
    "#  If the Excel file does not exist, create a new file\n",
    "wearing_off_periods_file = f'{base_data_path}/{COLLECTION}/wearing_off_periods.xlsx'\n",
    "if os.path.exists(wearing_off_periods_file):\n",
    "  with pd.ExcelWriter(wearing_off_periods_file, mode='a', if_sheet_exists='overlay') as writer:\n",
    "    wearing_off_periods.reset_index().to_excel(\n",
    "      writer, sheet_name='wearing_off_periods',\n",
    "      startrow=writer.sheets['wearing_off_periods'].max_row,\n",
    "      header=None, index=False\n",
    "    )\n",
    "else:\n",
    "  with pd.ExcelWriter(wearing_off_periods_file) as writer:\n",
    "    wearing_off_periods.to_excel(writer, sheet_name='wearing_off_periods')"
   ]
  },
  {
   "attachments": {},
   "cell_type": "markdown",
   "metadata": {},
   "source": [
    "## Drug Intake Dataset"
   ]
  },
  {
   "cell_type": "code",
   "execution_count": null,
   "metadata": {},
   "outputs": [],
   "source": [
    "# New FonLog server (https://nurse-kitakyu.fonlog.com/)\n",
    "# activity_type_id = 13\n",
    "# activity_type_group_name = 'Wearing-Off for PD' # 'Wearing-Off by Nurse'\n",
    "# user_column = 'activity_target.customer_id'\n",
    "\n",
    "# Old FonLog server (https://noelact.sozolab.jp)\n",
    "activity_type_id = 3\n",
    "activity_type_group_name = 'Wearing-off Questionnaire (WOQ)'\n",
    "user_column = 'activity_target.user_id'\n",
    "\n",
    "fonlog_data = pd.read_excel(f'{base_path}/{COLLECTION}/records.xlsx',\n",
    "                            sheet_name='records', engine='openpyxl')\n",
    "\n",
    "# Make sure to use datetime data type\n",
    "fonlog_data['activity.started_at'] = pd.to_datetime(\n",
    "    fonlog_data['activity.started_at'])\n",
    "fonlog_data['activity.finished_at'] = pd.to_datetime(\n",
    "    fonlog_data['activity.finished_at'])\n",
    "\n",
    "# Filter data\n",
    "filtered_fonlog_data = fonlog_data.loc[\n",
    "    (fonlog_data[user_column] == user_id) &\n",
    "    (fonlog_data['activity_type_group.name'] == activity_type_group_name) &\n",
    "    (fonlog_data['activity.started_at'] >= start_date) &\n",
    "    (fonlog_data['activity.started_at'] < end_date_plus_two) &\n",
    "    (fonlog_data['record_type.activity_type_id'] == activity_type_id)\n",
    "]\n",
    "grouped_fonlog_data = filtered_fonlog_data.groupby(\n",
    "    'activity_target.activity_id')\n",
    "\n",
    "# Extract drug intake times\n",
    "#   Drop the extract column 'activity_target.activity_id'\n",
    "#   Then, rename the remaining columns and the index column\n",
    "drug_intake_times = grouped_fonlog_data.agg({\n",
    "  'activity.started_at': 'min',\n",
    "  'activity.finished_at': 'max',\n",
    "  'activity_target.activity_id': 'nunique'\n",
    "}).drop(columns='activity_target.activity_id').rename(\n",
    "  columns={\n",
    "    'activity.started_at': 'started_at',\n",
    "    'activity.finished_at': 'finished_at'\n",
    "  }\n",
    ").rename_axis('drug_intake_id')"
   ]
  },
  {
   "attachments": {},
   "cell_type": "markdown",
   "metadata": {},
   "source": [
    "### Add symptom dataset"
   ]
  },
  {
   "cell_type": "code",
   "execution_count": null,
   "metadata": {},
   "outputs": [],
   "source": [
    "# Load symptoms dictionary\n",
    "symptoms_dictionary = participant_dictionary = json.load(\n",
    "  open(f'{base_path}/symptom_dictionary.json')\n",
    ")\n",
    "\n",
    "# Pivot filtered fonlog data where\n",
    "#   index is activity_target.activity_id (or wearing_off_id)\n",
    "#   columns is record_type.name (or symptoms)\n",
    "#   values is value (actual chosen value whether subside / did not subside)\n",
    "drug_intake_symptoms = filtered_fonlog_data.pivot(\n",
    "  index='activity_target.activity_id',\n",
    "  columns='record_type.name',\n",
    "  values='value'\n",
    ").rename(\n",
    "  columns=symptoms_dictionary\n",
    ")\n",
    "\n",
    "# - Merge drug_intake_times and drug_intake_symptoms\n",
    "# - Fill NaN with 0\n",
    "# - Replace '飲めば経くなる' with 0\n",
    "# - Replace '飲んでも変わらない' with 1\n",
    "drug_intake_with_symptoms = drug_intake_times.merge(\n",
    "  drug_intake_symptoms,\n",
    "  left_on='drug_intake_id',\n",
    "  right_index=True\n",
    ").fillna(0).replace({\n",
    "  '飲めば経くなる': 0,\n",
    "  '飲んでも変わらない': 1,\n",
    "  'ある': 1,\n",
    "  'ない': 0\n",
    "})"
   ]
  },
  {
   "attachments": {},
   "cell_type": "markdown",
   "metadata": {},
   "source": [
    "### Remove overarching drug intake times when smaller drug intake times exists"
   ]
  },
  {
   "cell_type": "code",
   "execution_count": null,
   "metadata": {},
   "outputs": [],
   "source": [
    "def pysqldf(q): return sqldf(q, globals())\n",
    "\n",
    "\n",
    "cond_join = '''\n",
    "  select distinct\n",
    "    drug_intake_2.[drug_intake_id] as for_remove_id\n",
    "  from drug_intake_with_symptoms as drug_intake_1\n",
    "  join drug_intake_with_symptoms as drug_intake_2\n",
    "    on (drug_intake_2.[started_at] < drug_intake_1.[finished_at] AND \n",
    "      drug_intake_2.[started_at] < drug_intake_1.[started_at]) AND\n",
    "    (drug_intake_2.[finished_at] > drug_intake_1.[finished_at] AND\n",
    "      drug_intake_2.[finished_at] > drug_intake_1.[started_at]) AND\n",
    "    (drug_intake_1.[drug_intake_id] <> drug_intake_2.[drug_intake_id])\n",
    "'''\n",
    "for_remove_ids = pysqldf(cond_join)\n",
    "\n",
    "# Remove wearing-off periods that are included in the for_remove_ids\n",
    "drug_intake_with_symptoms = drug_intake_with_symptoms[\n",
    "  ~drug_intake_with_symptoms.index.isin(for_remove_ids['for_remove_id'])\n",
    "]"
   ]
  },
  {
   "attachments": {},
   "cell_type": "markdown",
   "metadata": {},
   "source": [
    "### Save to file"
   ]
  },
  {
   "cell_type": "code",
   "execution_count": null,
   "metadata": {},
   "outputs": [],
   "source": [
    "# Remove finished_at at drug_intake_with_symptoms\n",
    "drug_intake_with_symptoms = drug_intake_with_symptoms.drop(\n",
    "  columns='finished_at')\n",
    "\n",
    "# Assign participant\n",
    "drug_intake_with_symptoms = drug_intake_with_symptoms.assign(participant=USER)\n",
    "\n",
    "# Save drug_intake_with_symptoms to Excel file\n",
    "#  If the Excel file exists, append to the existing file\n",
    "#  If the Excel file does not exist, create a new file\n",
    "drug_intake_with_symptoms_file = f'{base_data_path}/{COLLECTION}/drug_intake_with_symptoms.xlsx'\n",
    "if os.path.exists(drug_intake_with_symptoms_file):\n",
    "  with pd.ExcelWriter(drug_intake_with_symptoms_file, mode='a', if_sheet_exists='overlay') as writer:\n",
    "    drug_intake_with_symptoms.reset_index().to_excel(\n",
    "      writer, sheet_name='drug_intake_with_symptoms',\n",
    "      startrow=writer.sheets['drug_intake_with_symptoms'].max_row,\n",
    "      header=None, index=False\n",
    "    )\n",
    "else:\n",
    "  with pd.ExcelWriter(drug_intake_with_symptoms_file) as writer:\n",
    "    drug_intake_with_symptoms.to_excel(\n",
    "      writer, sheet_name='drug_intake_with_symptoms')"
   ]
  }
 ],
 "metadata": {
  "kernelspec": {
   "display_name": "Python 3 (ipykernel)",
   "language": "python",
   "name": "python3"
  },
  "language_info": {
   "codemirror_mode": {
    "name": "ipython",
    "version": 3
   },
   "file_extension": ".py",
   "mimetype": "text/x-python",
   "name": "python",
   "nbconvert_exporter": "python",
   "pygments_lexer": "ipython3",
   "version": "3.10.10"
  },
  "orig_nbformat": 4
 },
 "nbformat": 4,
 "nbformat_minor": 2
}
